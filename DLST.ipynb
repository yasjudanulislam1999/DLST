{
 "cells": [
  {
   "cell_type": "code",
   "execution_count": 237,
   "id": "855cd1b3",
   "metadata": {},
   "outputs": [
    {
     "name": "stderr",
     "output_type": "stream",
     "text": [
      "huggingface/tokenizers: The current process just got forked, after parallelism has already been used. Disabling parallelism to avoid deadlocks...\n",
      "To disable this warning, you can either:\n",
      "\t- Avoid using `tokenizers` before the fork if possible\n",
      "\t- Explicitly set the environment variable TOKENIZERS_PARALLELISM=(true | false)\n"
     ]
    },
    {
     "name": "stdout",
     "output_type": "stream",
     "text": [
      "Requirement already satisfied: openai in /Users/yasjudanulislam/anaconda3/lib/python3.10/site-packages (1.35.13)\n",
      "Requirement already satisfied: anyio<5,>=3.5.0 in /Users/yasjudanulislam/anaconda3/lib/python3.10/site-packages (from openai) (3.5.0)\n",
      "Requirement already satisfied: distro<2,>=1.7.0 in /Users/yasjudanulislam/anaconda3/lib/python3.10/site-packages (from openai) (1.9.0)\n",
      "Requirement already satisfied: httpx<1,>=0.23.0 in /Users/yasjudanulislam/anaconda3/lib/python3.10/site-packages (from openai) (0.27.0)\n",
      "Requirement already satisfied: pydantic<3,>=1.9.0 in /Users/yasjudanulislam/anaconda3/lib/python3.10/site-packages (from openai) (2.6.0)\n",
      "Requirement already satisfied: sniffio in /Users/yasjudanulislam/anaconda3/lib/python3.10/site-packages (from openai) (1.3.1)\n",
      "Requirement already satisfied: tqdm>4 in /Users/yasjudanulislam/anaconda3/lib/python3.10/site-packages (from openai) (4.64.1)\n",
      "Requirement already satisfied: typing-extensions<5,>=4.7 in /Users/yasjudanulislam/anaconda3/lib/python3.10/site-packages (from openai) (4.9.0)\n",
      "Requirement already satisfied: idna>=2.8 in /Users/yasjudanulislam/anaconda3/lib/python3.10/site-packages (from anyio<5,>=3.5.0->openai) (3.4)\n",
      "Requirement already satisfied: certifi in /Users/yasjudanulislam/anaconda3/lib/python3.10/site-packages (from httpx<1,>=0.23.0->openai) (2023.5.7)\n",
      "Requirement already satisfied: httpcore==1.* in /Users/yasjudanulislam/anaconda3/lib/python3.10/site-packages (from httpx<1,>=0.23.0->openai) (1.0.5)\n",
      "Requirement already satisfied: h11<0.15,>=0.13 in /Users/yasjudanulislam/anaconda3/lib/python3.10/site-packages (from httpcore==1.*->httpx<1,>=0.23.0->openai) (0.14.0)\n",
      "Requirement already satisfied: annotated-types>=0.4.0 in /Users/yasjudanulislam/anaconda3/lib/python3.10/site-packages (from pydantic<3,>=1.9.0->openai) (0.6.0)\n",
      "Requirement already satisfied: pydantic-core==2.16.1 in /Users/yasjudanulislam/anaconda3/lib/python3.10/site-packages (from pydantic<3,>=1.9.0->openai) (2.16.1)\n",
      "\n",
      "\u001b[1m[\u001b[0m\u001b[34;49mnotice\u001b[0m\u001b[1;39;49m]\u001b[0m\u001b[39;49m A new release of pip is available: \u001b[0m\u001b[31;49m24.1.2\u001b[0m\u001b[39;49m -> \u001b[0m\u001b[32;49m24.2\u001b[0m\n",
      "\u001b[1m[\u001b[0m\u001b[34;49mnotice\u001b[0m\u001b[1;39;49m]\u001b[0m\u001b[39;49m To update, run: \u001b[0m\u001b[32;49mpip install --upgrade pip\u001b[0m\n"
     ]
    }
   ],
   "source": [
    "!pip install openai"
   ]
  },
  {
   "cell_type": "code",
   "execution_count": 238,
   "id": "c5cbed0f",
   "metadata": {},
   "outputs": [],
   "source": [
    "from dotenv import load_dotenv\n",
    "import os"
   ]
  },
  {
   "cell_type": "code",
   "execution_count": 239,
   "id": "d397b1c1",
   "metadata": {},
   "outputs": [
    {
     "data": {
      "text/plain": [
       "True"
      ]
     },
     "execution_count": 239,
     "metadata": {},
     "output_type": "execute_result"
    }
   ],
   "source": [
    "load_dotenv()  # Load environment variables from the .env file"
   ]
  },
  {
   "cell_type": "code",
   "execution_count": 240,
   "id": "a2d51bf7",
   "metadata": {},
   "outputs": [
    {
     "name": "stderr",
     "output_type": "stream",
     "text": [
      "huggingface/tokenizers: The current process just got forked, after parallelism has already been used. Disabling parallelism to avoid deadlocks...\n",
      "To disable this warning, you can either:\n",
      "\t- Avoid using `tokenizers` before the fork if possible\n",
      "\t- Explicitly set the environment variable TOKENIZERS_PARALLELISM=(true | false)\n"
     ]
    },
    {
     "name": "stdout",
     "output_type": "stream",
     "text": [
      "Requirement already satisfied: python-dotenv in /Users/yasjudanulislam/anaconda3/lib/python3.10/site-packages (1.0.1)\n",
      "\n",
      "\u001b[1m[\u001b[0m\u001b[34;49mnotice\u001b[0m\u001b[1;39;49m]\u001b[0m\u001b[39;49m A new release of pip is available: \u001b[0m\u001b[31;49m24.1.2\u001b[0m\u001b[39;49m -> \u001b[0m\u001b[32;49m24.2\u001b[0m\n",
      "\u001b[1m[\u001b[0m\u001b[34;49mnotice\u001b[0m\u001b[1;39;49m]\u001b[0m\u001b[39;49m To update, run: \u001b[0m\u001b[32;49mpip install --upgrade pip\u001b[0m\n"
     ]
    }
   ],
   "source": [
    "!pip install python-dotenv"
   ]
  },
  {
   "cell_type": "code",
   "execution_count": 241,
   "id": "c50d1e26",
   "metadata": {},
   "outputs": [],
   "source": [
    "api_key = os.getenv('OPENAI_API_KEY')"
   ]
  },
  {
   "cell_type": "code",
   "execution_count": 242,
   "id": "b28a7bd5",
   "metadata": {},
   "outputs": [
    {
     "name": "stderr",
     "output_type": "stream",
     "text": [
      "huggingface/tokenizers: The current process just got forked, after parallelism has already been used. Disabling parallelism to avoid deadlocks...\n",
      "To disable this warning, you can either:\n",
      "\t- Avoid using `tokenizers` before the fork if possible\n",
      "\t- Explicitly set the environment variable TOKENIZERS_PARALLELISM=(true | false)\n"
     ]
    },
    {
     "name": "stdout",
     "output_type": "stream",
     "text": [
      "Requirement already satisfied: OpenAI in /Users/yasjudanulislam/anaconda3/lib/python3.10/site-packages (1.35.13)\n",
      "Requirement already satisfied: anyio<5,>=3.5.0 in /Users/yasjudanulislam/anaconda3/lib/python3.10/site-packages (from OpenAI) (3.5.0)\n",
      "Requirement already satisfied: distro<2,>=1.7.0 in /Users/yasjudanulislam/anaconda3/lib/python3.10/site-packages (from OpenAI) (1.9.0)\n",
      "Requirement already satisfied: httpx<1,>=0.23.0 in /Users/yasjudanulislam/anaconda3/lib/python3.10/site-packages (from OpenAI) (0.27.0)\n",
      "Requirement already satisfied: pydantic<3,>=1.9.0 in /Users/yasjudanulislam/anaconda3/lib/python3.10/site-packages (from OpenAI) (2.6.0)\n",
      "Requirement already satisfied: sniffio in /Users/yasjudanulislam/anaconda3/lib/python3.10/site-packages (from OpenAI) (1.3.1)\n",
      "Requirement already satisfied: tqdm>4 in /Users/yasjudanulislam/anaconda3/lib/python3.10/site-packages (from OpenAI) (4.64.1)\n",
      "Requirement already satisfied: typing-extensions<5,>=4.7 in /Users/yasjudanulislam/anaconda3/lib/python3.10/site-packages (from OpenAI) (4.9.0)\n",
      "Requirement already satisfied: idna>=2.8 in /Users/yasjudanulislam/anaconda3/lib/python3.10/site-packages (from anyio<5,>=3.5.0->OpenAI) (3.4)\n",
      "Requirement already satisfied: certifi in /Users/yasjudanulislam/anaconda3/lib/python3.10/site-packages (from httpx<1,>=0.23.0->OpenAI) (2023.5.7)\n",
      "Requirement already satisfied: httpcore==1.* in /Users/yasjudanulislam/anaconda3/lib/python3.10/site-packages (from httpx<1,>=0.23.0->OpenAI) (1.0.5)\n",
      "Requirement already satisfied: h11<0.15,>=0.13 in /Users/yasjudanulislam/anaconda3/lib/python3.10/site-packages (from httpcore==1.*->httpx<1,>=0.23.0->OpenAI) (0.14.0)\n",
      "Requirement already satisfied: annotated-types>=0.4.0 in /Users/yasjudanulislam/anaconda3/lib/python3.10/site-packages (from pydantic<3,>=1.9.0->OpenAI) (0.6.0)\n",
      "Requirement already satisfied: pydantic-core==2.16.1 in /Users/yasjudanulislam/anaconda3/lib/python3.10/site-packages (from pydantic<3,>=1.9.0->OpenAI) (2.16.1)\n",
      "\n",
      "\u001b[1m[\u001b[0m\u001b[34;49mnotice\u001b[0m\u001b[1;39;49m]\u001b[0m\u001b[39;49m A new release of pip is available: \u001b[0m\u001b[31;49m24.1.2\u001b[0m\u001b[39;49m -> \u001b[0m\u001b[32;49m24.2\u001b[0m\n",
      "\u001b[1m[\u001b[0m\u001b[34;49mnotice\u001b[0m\u001b[1;39;49m]\u001b[0m\u001b[39;49m To update, run: \u001b[0m\u001b[32;49mpip install --upgrade pip\u001b[0m\n"
     ]
    }
   ],
   "source": [
    "!pip install OpenAI"
   ]
  },
  {
   "cell_type": "markdown",
   "id": "c6cbc090",
   "metadata": {},
   "source": [
    "# Expression parsing"
   ]
  },
  {
   "cell_type": "code",
   "execution_count": 243,
   "id": "1f5281d9",
   "metadata": {},
   "outputs": [
    {
     "name": "stdout",
     "output_type": "stream",
     "text": [
      "{\n",
      "  \"Variables/Constants\": [\"t\", \"0.000\", \"0.0361\", \"\\omega_t^o\", \"-0.20\", \"0.22\", \"\\bar{u_t}\"],\n",
      "  \"Functions\": [\"U_u\", \"max\", \"Q_{U_{\\Omega^o_t}}\"],\n",
      "  \"Operators\": [\"\\in\", \"(\", \")\", \"\\geq\", \"*\", \"+\"],\n",
      "  \"Brackets\": [\"[\", \"]\", \"{\", \"}\"],\n",
      "  \"Misc\": [\"\\\\rightarrow\", \"&\", \"\\\\\"]\n",
      "}\n"
     ]
    }
   ],
   "source": [
    "def extract_structure(latex_expression):\n",
    "    \n",
    "    client = OpenAI()\n",
    "    response = client.chat.completions.create(\n",
    "        model=\"gpt-3.5-turbo\",\n",
    "        messages=[\n",
    "            {\n",
    "                \"role\": \"system\",\n",
    "                \"content\": \"You are a helpful assistant that parses LaTeX expressions and categorizes their components \"\n",
    "                    \"into the following structure: Variables/Constants, Functions, Operators, Brackets, and Misc. \"\n",
    "                    \"For each category, provide a list of items found in the LaTeX expression. \"\n",
    "                    \"Ensure that any mathematical functions, such as 'max', 'min', 'sin', 'cos', and custom functions like 'U_u', are correctly identified under the 'Functions' category. \"\n",
    "                    \"Variables are any symbols or letters that represent quantities, such as 't', 'x', or 'omega_t^o'. \"\n",
    "                    \"Constants include numeric values like '-0.20', '0.22', and '0.0361'. \"\n",
    "                    \"Operators include symbols like '>', '>=', '+', '-', '*', and '/' that indicate operations between variables or constants. \"\n",
    "                    \"Brackets include any grouping symbols such as '(', ')', '[', ']', '{', and '}'. \"\n",
    "                    \"Misc should be used for any elements that do not fit into the other categories. \"\n",
    "                    \"The output should be a JSON object with the following keys: 'Variables/Constants', 'Functions', 'Operators', 'Brackets', 'Misc'. \"\n",
    "                    \"Numbers also fall under constants and variables, and convert the LaTeX into mathematical expressions without LaTeX-specific formatting.\"\n",
    "                    \"output should be a json dictionary with categories as keys and lists of items as values\"\n",
    "            },\n",
    "            {\n",
    "                \"role\": \"user\",\n",
    "                \"content\": f\"Please parse the following LaTeX expression and provide the categorized output structure: {latex_expression}\"\n",
    "            }\n",
    "        ],\n",
    "        max_tokens=500,\n",
    "        temperature=0.5,\n",
    "    )\n",
    "\n",
    "    return response.choices[0].message.content\n",
    "\n",
    "# Provided LaTeX expression\n",
    "latex_expression = r\"t \\in [0.000, 0.0361) \\rightarrow & \\\n",
    "U_u(\\omega_t^o) \\geq \\max\\left(Q_{U_{\\Omega^o_t}} (-0.20 \\cdot t + 0.22), \\bar{u_t}\\right)\\\\\"\n",
    "\n",
    "# Get the output structure from the API\n",
    "output_structure = extract_structure(latex_expression)\n",
    "print(output_structure)"
   ]
  },
  {
   "cell_type": "code",
   "execution_count": 244,
   "id": "53b2526b",
   "metadata": {},
   "outputs": [
    {
     "data": {
      "text/plain": [
       "'{\\n  \"Variables/Constants\": [\"t\", \"0.000\", \"0.0361\", \"\\\\omega_t^o\", \"-0.20\", \"0.22\", \"\\\\bar{u_t}\"],\\n  \"Functions\": [\"U_u\", \"max\", \"Q_{U_{\\\\Omega^o_t}}\"],\\n  \"Operators\": [\"\\\\in\", \"(\", \")\", \"\\\\geq\", \"*\", \"+\"],\\n  \"Brackets\": [\"[\", \"]\", \"{\", \"}\"],\\n  \"Misc\": [\"\\\\\\\\rightarrow\", \"&\", \"\\\\\\\\\"]\\n}'"
      ]
     },
     "execution_count": 244,
     "metadata": {},
     "output_type": "execute_result"
    }
   ],
   "source": [
    "output_structure"
   ]
  },
  {
   "cell_type": "code",
   "execution_count": 245,
   "id": "6ceb9673",
   "metadata": {},
   "outputs": [],
   "source": [
    "def convert_output_to_latex(output_structure):\n",
    "    response = client.chat.completions.create(\n",
    "        model=\"gpt-3.5-turbo\",\n",
    "        messages=[\n",
    "            {\n",
    "                \"role\": \"system\",\n",
    "                \"content\": \"you are given a JSON format which contains \"\n",
    "            },\n",
    "            {\n",
    "                \"role\": \"user\",\n",
    "                \"content\": f\"Please parse the following LaTeX expression and provide the categorized output structure: {latex_expression}\"\n",
    "            }\n",
    "        ],\n",
    "        max_tokens=500,\n",
    "        temperature=0.5,\n",
    "    )\n",
    "\n",
    "    return response.choices[0].message.content\n",
    "    \n",
    "\n"
   ]
  },
  {
   "cell_type": "markdown",
   "id": "349fa9b2",
   "metadata": {},
   "source": [
    "# Extracting the semantic meaning"
   ]
  },
  {
   "cell_type": "code",
   "execution_count": 247,
   "id": "6a5e038d",
   "metadata": {},
   "outputs": [],
   "source": [
    "# parsed_output = extract_structure(latex_expression)\n",
    "# prompt = (\n",
    "#         \"The following is a JSON object with categorized components of a LaTeX expression. \"\n",
    "#         \"Please provide detailed semantic meanings for each item in the JSON. The categories are: \"\n",
    "#         \"Variables/Constants, Functions, Operators, Brackets, and Misc. \"\n",
    "#         \"For each item, provide its name and a detailed description of its meaning.\\n\\n\"\n",
    "#         f\"{parsed_output}\\n\\n\"\n",
    "#         \"Provide the output in the following JSON format:\"\n",
    "#         \"{\"\n",
    "#         '  \"Variables/Constants\": ['\n",
    "#         '    {\"name\": \"item_name\", \"meaning\": \"item_meaning\"}'\n",
    "#         '  ],'\n",
    "#         '  \"Functions\": '\n",
    "#         '    {\"name\": \"item_name\", \"meaning\": \"item_meaning\"}'\n",
    "#         '  ],'\n",
    "#         '  \"Operators\": ['\n",
    "#         '    {\"name\": \"item_name\", \"meaning\": \"item_meaning\"}'\n",
    "#         '  ],'\n",
    "#         '  \"Brackets\": ['\n",
    "#         '    {\"name\": \"item_name\", \"meaning\": \"item_meaning\"}'\n",
    "#         '  ],'\n",
    "#         '  \"Misc\": ['\n",
    "#         '    {\"name\": \"item_name\", \"meaning\": \"item_meaning\"}'\n",
    "#         '  ]'\n",
    "#         \"}\"\n",
    "#     )\n",
    "\n",
    "def extract_semantics(parsed_output):\n",
    "    \n",
    "    prompt_semantics = (\n",
    "        \"The following is a JSON object with categorized components of a LaTeX expression. \"\n",
    "        \"Please provide detailed semantic meanings for each item in the JSON. The categories are: \"\n",
    "        \"Variables/Constants, Functions, Operators, Brackets, and Misc. \"\n",
    "        \"For each item, provide its name and a detailed description of its meaning.\\n\\n\"\n",
    "        f\"{parsed_output}\\n\\n\"\n",
    "        \"Provide the output in the following JSON format:\"\n",
    "        \"{\"\n",
    "        '  \"Variables/Constants\": ['\n",
    "        '    {\"name\": \"item_name\", \"meaning\": \"item_meaning\"}'\n",
    "        '  ],'\n",
    "        '  \"Functions\": '\n",
    "        '    {\"name\": \"item_name\", \"meaning\": \"item_meaning\"}'\n",
    "        '  ],'\n",
    "        '  \"Operators\": ['\n",
    "        '    {\"name\": \"item_name\", \"meaning\": \"item_meaning\"}'\n",
    "        '  ],'\n",
    "        '  \"Brackets\": ['\n",
    "        '    {\"name\": \"item_name\", \"meaning\": \"item_meaning\"}'\n",
    "        '  ],'\n",
    "        '  \"Misc\": ['\n",
    "        '    {\"name\": \"item_name\", \"meaning\": \"item_meaning\"}'\n",
    "        '  ]'\n",
    "        \"}\"\n",
    "    )\n",
    "    \n",
    "    \n",
    "    response = client.chat.completions.create(\n",
    "        model=\"gpt-4-turbo\",\n",
    "        messages=[\n",
    "            {\n",
    "                \"role\": \"system\",\n",
    "                \"content\": \"You are a helpful assistant.\"\n",
    "            },\n",
    "            {\n",
    "                \"role\": \"user\",\n",
    "                \"content\": prompt\n",
    "            }\n",
    "        ],\n",
    "        max_tokens=1500,\n",
    "        temperature=0.5,\n",
    "    )\n",
    "\n",
    "    return response.choices[0].message.content"
   ]
  },
  {
   "cell_type": "code",
   "execution_count": 248,
   "id": "510fb7c4",
   "metadata": {
    "scrolled": false
   },
   "outputs": [
    {
     "name": "stdout",
     "output_type": "stream",
     "text": [
      "Here is the detailed semantic meaning for each item in the JSON based on their categorization in LaTeX expressions:\n",
      "\n",
      "```json\n",
      "{\n",
      "  \"Variables/Constants\": [\n",
      "    {\"name\": \"t\", \"meaning\": \"Typically represents a variable, often used to denote time.\"},\n",
      "    {\"name\": \"0.0361\", \"meaning\": \"A constant value, possibly a parameter or a specific measurement.\"},\n",
      "    {\"name\": \"1.000\", \"meaning\": \"A constant, representing a whole unit or 100% of something.\"},\n",
      "    {\"name\": \"u\", \"meaning\": \"A variable, possibly representing an unknown quantity or a specific variable in a formula.\"},\n",
      "    {\"name\": \"0.10\", \"meaning\": \"A constant value, representing a decimal or percentage.\"},\n",
      "    {\"name\": \"0.64\", \"meaning\": \"Another constant value, also likely representing a decimal or percentage.\"}\n",
      "  ],\n",
      "  \"Functions\": [\n",
      "    {\"name\": \"U_u\", \"meaning\": \"A function denoted by U with a subscript u, possibly a specific utility function or other mathematical function depending on context.\"},\n",
      "    {\"name\": \"max\", \"meaning\": \"A mathematical function that returns the maximum value among its arguments.\"},\n",
      "    {\"name\": \"Q_{U_{\\Omega^o_t}}\", \"meaning\": \"A function Q with a subscript denoting another function U, which itself has a subscript involving Ω^o_t. This could represent a nested function or a specialized function depending on the context, such as a quantile or probability function related to a specific set or event Ω^o_t.\"}\n",
      "  ],\n",
      "  \"Operators\": [\n",
      "    {\"name\": \"\\\\in\", \"meaning\": \"A symbol used in set theory to denote that an element is a member of a set.\"},\n",
      "    {\"name\": \"[\", \"meaning\": \"Used to denote the start of an interval or a list.\"},\n",
      "    {\"name\": \",\", \"meaning\": \"A separator used in lists, function arguments, etc.\"},\n",
      "    {\"name\": \"]\", \"meaning\": \"Used to denote the end of an interval or a list.\"},\n",
      "    {\"name\": \"\\\\rightarrow\", \"meaning\": \"Represents a function mapping or implies a logical conclusion or limit.\"},\n",
      "    {\"name\": \"\\\\geq\", \"meaning\": \"A relational operator meaning 'greater than or equal to'.\"},\n",
      "    {\"name\": \"\\\\cdot\", \"meaning\": \"Represents multiplication in mathematical expressions.\"},\n",
      "    {\"name\": \"+\", \"meaning\": \"An arithmetic operator used for addition.\"}\n",
      "  ],\n",
      "  \"Brackets\": [\n",
      "    {\"name\": \"(\", \"meaning\": \"Used to start a grouping of expressions, affecting the order of operations.\"},\n",
      "    {\"name\": \")\", \"meaning\": \"Used to end a grouping of expressions, affecting the order of operations.\"},\n",
      "    {\"name\": \"{\", \"meaning\": \"Used to start a set or a block of expressions, especially in functions or set notation.\"}\n",
      "  ],\n",
      "  \"Misc\": [\n",
      "    {\"name\": \"\\\\omega_t^o\", \"meaning\": \"A specific symbol or variable, possibly representing a particular state or condition at time t, often used in contexts involving stochastic processes or specific scenarios.\"}\n",
      "  ]\n",
      "}\n",
      "```\n",
      "\n",
      "This JSON object provides a structured breakdown of the components, with each item's name and a detailed description of its meaning, according to the categories specified.\n"
     ]
    }
   ],
   "source": [
    "print(extract_semantics(prompt))"
   ]
  },
  {
   "cell_type": "code",
   "execution_count": 249,
   "id": "5ae68879",
   "metadata": {},
   "outputs": [
    {
     "data": {
      "text/plain": [
       "'{\\n  \"Variables/Constants\": [\"t\", \"0.000\", \"0.0361\", \"\\\\omega_t^o\", \"-0.20\", \"0.22\", \"\\\\bar{u_t}\"],\\n  \"Functions\": [\"U_u\", \"max\", \"Q_{U_{\\\\Omega^o_t}}\"],\\n  \"Operators\": [\"\\\\in\", \"(\", \")\", \"\\\\geq\", \"*\", \"+\"],\\n  \"Brackets\": [\"[\", \"]\", \"{\", \"}\"],\\n  \"Misc\": [\"\\\\\\\\rightarrow\", \"&\", \"\\\\\\\\\"]\\n}'"
      ]
     },
     "execution_count": 249,
     "metadata": {},
     "output_type": "execute_result"
    }
   ],
   "source": [
    "output_structure"
   ]
  },
  {
   "cell_type": "code",
   "execution_count": 257,
   "id": "5001e69f",
   "metadata": {},
   "outputs": [
    {
     "name": "stdout",
     "output_type": "stream",
     "text": [
      "{'Variables/Constants': [{'name': 't', 'meaning': 'Typically represents a variable for time in equations.'}, {'name': '0.0361', 'meaning': 'A numerical constant, likely representing a specific value or parameter in the equation.'}, {'name': '1.000', 'meaning': 'A numerical constant, likely representing a specific value or parameter in the equation.'}, {'name': '\\\\\\\\omega_t^o', 'meaning': 'No meaning defined for \\\\\\\\omega_t^o'}, {'name': 'u', 'meaning': 'A variable, possibly representing a specific quantity or parameter in a function.'}, {'name': 'Q_{U_{\\\\\\\\Omega^o_t}}', 'meaning': 'No meaning defined for Q_{U_{\\\\\\\\Omega^o_t}}'}, {'name': '-0.10', 'meaning': 'A numerical constant, likely representing a specific value or parameter in the equation.'}, {'name': '0.64', 'meaning': 'A numerical constant, likely representing a specific value or parameter in the equation.'}], 'Functions': [{'name': 'U_u', 'meaning': \"Represents a function named 'U' with 'u' as a parameter. This could be a utility function, or another specific mathematical function depending on the context.\"}, {'name': '\\\\\\\\max', 'meaning': 'No meaning defined for \\\\\\\\max'}], 'Operators': [{'name': '\\\\\\\\in', 'meaning': 'No meaning defined for \\\\\\\\in'}, {'name': '\\\\\\\\rightarrow', 'meaning': 'No meaning defined for \\\\\\\\rightarrow'}, {'name': '>=', 'meaning': \"A relational operator meaning 'greater than or equal to'. It is used to denote inequality between two expressions.\"}, {'name': '\\\\\\\\cdot', 'meaning': 'No meaning defined for \\\\\\\\cdot'}, {'name': '+', 'meaning': 'The basic arithmetic operator for addition.'}], 'Brackets': [{'name': '[', 'meaning': 'Used to denote the start of an interval or a list in mathematical expressions.'}, {'name': ']', 'meaning': 'Used to denote the end of an interval or a list in mathematical expressions.'}, {'name': '(', 'meaning': 'Used to start a grouping of expressions, affecting the order of operations in mathematical expressions.'}, {'name': ')', 'meaning': 'Used to end a grouping of expressions, affecting the order of operations in mathematical expressions.'}, {'name': '{', 'meaning': 'Used to start a set or a block of expressions, often used in defining functions or sets.'}], 'Misc': [{'name': '&', 'meaning': 'Represents a logical conjunction (AND) in various contexts.'}]}\n"
     ]
    }
   ],
   "source": [
    "import json\n",
    "\n",
    "# Example JSON string with unescaped backslashes\n",
    "output_structure = '''\n",
    "{\n",
    "  \"Variables/Constants\": [\"t\", \"0.0361\", \"1.000\", \"\\\\\\\\omega_t^o\", \"u\", \"Q_{U_{\\\\\\\\Omega^o_t}}\", \"-0.10\", \"0.64\"],\n",
    "  \"Functions\": [\"U_u\", \"\\\\\\\\max\"],\n",
    "  \"Operators\": [\"\\\\\\\\in\", \"\\\\\\\\rightarrow\", \">=\", \"\\\\\\\\cdot\", \"+\"],\n",
    "  \"Brackets\": [\"[\", \"]\", \"(\", \")\", \"{\"],\n",
    "  \"Misc\": [\"&\"]\n",
    "}\n",
    "'''\n",
    "\n",
    "\n",
    "output_structure = output_structure.replace('\\\\', '\\\\\\\\')\n",
    "\n",
    "parsed_latex_dict = json.loads(output_structure)\n",
    "\n",
    "semantic_meanings = {\n",
    "    \"t\": \"Typically represents a variable for time in equations.\",\n",
    "    \"u\": \"A variable, possibly representing a specific quantity or parameter in a function.\",\n",
    "    \"U_u\": \"Represents a function named 'U' with 'u' as a parameter. This could be a utility function, or another specific mathematical function depending on the context.\",\n",
    "    \"max\": \"A mathematical function that returns the maximum value among its arguments.\",\n",
    "    \"Q_{U_{\\\\Omega^o_t}}\": \"A function 'Q' applied to another function or variable 'U' which itself depends on a set or parameter 'Ω^o_t'. This could represent a complex mathematical or statistical operation, possibly querying or calculating a specific value from a defined set or distribution.\",\n",
    "    \"\\\\in\": \"A symbol used in set theory to denote membership; 'x \\\\in A' means x is an element of set A.\",\n",
    "    \">=\": \"A relational operator meaning 'greater than or equal to'. It is used to denote inequality between two expressions.\",\n",
    "    \"\\\\cdot\": \"Represents multiplication in mathematical expressions.\",\n",
    "    \"+\": \"The basic arithmetic operator for addition.\",\n",
    "    \"[\": \"Used to denote the start of an interval or a list in mathematical expressions.\",\n",
    "    \"]\": \"Used to denote the end of an interval or a list in mathematical expressions.\",\n",
    "    \"(\": \"Used to start a grouping of expressions, affecting the order of operations in mathematical expressions.\",\n",
    "    \")\": \"Used to end a grouping of expressions, affecting the order of operations in mathematical expressions.\",\n",
    "    \"{\": \"Used to start a set or a block of expressions, often used in defining functions or sets.\",\n",
    "    \"\\\\rightarrow\": \"Denotes a function mapping or an implication in logical expressions. In functions, it can describe the mapping from one set to another.\",\n",
    "    \"&\": \"Represents a logical conjunction (AND) in various contexts.\"\n",
    "}\n",
    "\n",
    "def is_number(s):\n",
    "    \"\"\"Check if the string represents a number.\"\"\"\n",
    "    try:\n",
    "        float(s)\n",
    "        return True\n",
    "    except ValueError:\n",
    "        return False\n",
    "\n",
    "def extract_semantic_meanings(parsed_latex):\n",
    "    # Initialize the result dictionary\n",
    "    semantic_extraction = {}\n",
    "\n",
    "    # Iterate over each category and map the names to their meanings\n",
    "    for category, items in parsed_latex.items():\n",
    "        semantic_extraction[category] = []\n",
    "        for item in items:\n",
    "            if is_number(item):\n",
    "                meaning = \"A numerical constant, likely representing a specific value or parameter in the equation.\"\n",
    "            else:\n",
    "                meaning = semantic_meanings.get(item, f\"No meaning defined for {item}\")\n",
    "            semantic_extraction[category].append({\"name\": item, \"meaning\": meaning})\n",
    "\n",
    "    return semantic_extraction\n",
    "\n",
    "# Now process the parsed_latex_dict\n",
    "extracted_meanings = extract_semantic_meanings(parsed_latex_dict)\n",
    "print(extracted_meanings)\n"
   ]
  },
  {
   "cell_type": "code",
   "execution_count": 254,
   "id": "eef80066",
   "metadata": {},
   "outputs": [],
   "source": [
    "prompt_for_rule_based= f\"\"\"\n",
    "You are an AI model trained to translate mathematical and logical expressions into natural language explanations. Given the semantic output of a mathematical expression, your task is to generate a coherent English explanation. \n",
    "\n",
    "The semantic output will include various categories such as Functions, Operators, Variables/Constants, and more. Use the provided information to create a detailed, understandable explanation in plain English.\n",
    "\n",
    "Here is the semantic output:\n",
    "{semantic_explanations}\n",
    "\n",
    "Generate a natural language explanation for this semantic output, making sure to clarify each element's role in the expression.\n",
    "\n",
    "For example, translate the semantic representation: \n",
    "t in [0.000, 0.0361) -> U_u(omega_t^o) >= max(Q_U_Omega_t (-0.20 * t + 0.22), u_t_bar)\n",
    "\n",
    "into the natural language explanation:  \n",
    "\"At time t, within the range [0.000, 0.0361), the function U_u applied to omega_t^o must yield a value that is greater than or equal to the maximum value between Q_U_Omega_t of (-0.20 * t + 0.22) and the threshold utility u_t_bar.\"\n",
    "\n",
    "Please follow a similar structure and level of detail for the provided semantic output.\n",
    "\"\"\""
   ]
  },
  {
   "cell_type": "markdown",
   "id": "018df925",
   "metadata": {},
   "source": [
    "# Creating Rule based explanations"
   ]
  },
  {
   "cell_type": "code",
   "execution_count": 258,
   "id": "a2ae1525",
   "metadata": {},
   "outputs": [
    {
     "name": "stdout",
     "output_type": "stream",
     "text": [
      "Ensures that the utility function U applied to the maximum of time t the constant value 0.000 the constant value 0.0361 the variable omega_t^o the domain Q_U_Omega_t a utility threshold u_t_bar the constant value -0.20 the constant value 0.22 is within the range implies that is greater than or equal to multiplied by plus  meets either a calculated statistical value or a specified minimum utility requirement.\n"
     ]
    }
   ],
   "source": [
    "import re\n",
    "\n",
    "def generate_rule_based_explanation(semantic_extractions):\n",
    "    # Start with an empty explanation\n",
    "    explanation = \"Ensures that \"\n",
    "\n",
    "    # Create helper functions to handle specific parts of the explanation\n",
    "    def handle_functions(semantic_extractions):\n",
    "        func_explanation = \"\"\n",
    "        for func in semantic_extractions['Functions']:\n",
    "            if func['name'] == \"U_u\":\n",
    "                func_explanation += \"the utility function U applied to \"\n",
    "            elif func['name'] == \"max\":\n",
    "                func_explanation += \"the maximum of \"\n",
    "        return func_explanation\n",
    "\n",
    "    def handle_variables_constants(semantic_extractions):\n",
    "        var_const_explanation = \"\"\n",
    "        for var in semantic_extractions['Variables/Constants']:\n",
    "            if var['meaning'] == \"time\":\n",
    "                var_const_explanation += \"time t \"\n",
    "            elif var['meaning'] == \"velocity\":\n",
    "                var_const_explanation += \"velocity variable\"\n",
    "            elif var['meaning'] == \"variable\":\n",
    "                var_const_explanation += f\"the variable {var['name']} \"\n",
    "            elif var['meaning'] == \"domain\":\n",
    "                var_const_explanation += f\"the domain {var['name']} \"\n",
    "            elif var['meaning'] == \"utility\":\n",
    "                var_const_explanation += f\"a utility threshold {var['name']} \"\n",
    "            elif var['meaning'] == \"numeric\":\n",
    "                var_const_explanation += f\"the constant value {var['name']} \"\n",
    "        return var_const_explanation\n",
    "\n",
    "    def handle_operators(semantic_extractions):\n",
    "        op_explanation = \"\"\n",
    "        for op in semantic_extractions['Operators']:\n",
    "            if op['name'] == \">=\":\n",
    "                op_explanation += \"is greater than or equal to \"\n",
    "            elif op['name'] == \"->\":\n",
    "                op_explanation += \"implies that \"\n",
    "            elif op['name'] == \"in\":\n",
    "                op_explanation += \"is within the range \"\n",
    "            elif op['name'] == \"*\":\n",
    "                op_explanation += \"multiplied by \"\n",
    "            elif op['name'] == \"+\":\n",
    "                op_explanation += \"plus \"\n",
    "        return op_explanation\n",
    "\n",
    "    # Building the explanation by combining parts\n",
    "    explanation += handle_functions(semantic_extractions)\n",
    "    explanation += handle_variables_constants(semantic_extractions)\n",
    "    explanation += handle_operators(semantic_extractions)\n",
    "\n",
    "    # Add additional context or wrap-up the sentence if necessary\n",
    "    explanation += \" meets either a calculated statistical value or a specified minimum utility requirement.\"\n",
    "\n",
    "    # Return the final explanation\n",
    "    return explanation\n",
    "\n",
    "# Example usage with the provided semantic extraction\n",
    "semantic_extractions = {\n",
    "    'Brackets': [{'meaning': 'bracket', 'name': '['},\n",
    "                 {'meaning': 'bracket', 'name': ']'},\n",
    "                 {'meaning': 'bracket', 'name': '('},\n",
    "                 {'meaning': 'bracket', 'name': ')'}],\n",
    "    'Functions': [{'meaning': 'function', 'name': 'U_u'},\n",
    "                  {'meaning': 'function', 'name': 'max'}],\n",
    "    'Misc': [{'meaning': 'coordinating conjunction, connecting elements of equal rank', 'name': '&'}],\n",
    "    'Operators': [{'meaning': 'operator', 'name': 'in'},\n",
    "                  {'meaning': 'operator', 'name': '->'},\n",
    "                  {'meaning': 'operator', 'name': '>='},\n",
    "                  {'meaning': 'operator', 'name': '*'},\n",
    "                  {'meaning': 'operator', 'name': '+'}],\n",
    "    'Variables/Constants': [{'meaning': 'time', 'name': 't '},\n",
    "                            {'meaning': 'numeric', 'name': '0.000'},\n",
    "                            {'meaning': 'numeric', 'name': '0.0361'},\n",
    "                            {'meaning': 'variable', 'name': 'omega_t^o'},\n",
    "                            {'meaning': 'domain', 'name': 'Q_U_Omega_t'},\n",
    "                            {'meaning': 'utility', 'name': 'u_t_bar'},\n",
    "                            {'meaning': 'numeric', 'name': '-0.20'},\n",
    "                            {'meaning': 'numeric', 'name': '0.22'}]\n",
    "}\n",
    "\n",
    "# Generate the rule-based explanation\n",
    "explanation = generate_rule_based_explanation(semantic_extractions)\n",
    "print(explanation)\n"
   ]
  },
  {
   "cell_type": "code",
   "execution_count": null,
   "id": "9d484a6b",
   "metadata": {},
   "outputs": [],
   "source": [
    "#evaluating rule based explanation"
   ]
  },
  {
   "cell_type": "code",
   "execution_count": null,
   "id": "6c160b72",
   "metadata": {},
   "outputs": [],
   "source": [
    "#add a function to compare spacy and llm for semantic extraction"
   ]
  },
  {
   "cell_type": "code",
   "execution_count": 259,
   "id": "d6a29d6c",
   "metadata": {},
   "outputs": [],
   "source": [
    "import json\n",
    "\n",
    "  # This function is used to extract the semantic meaning\n",
    "def generate_rule_based_explanation_usingGPT(semantic_extraction):\n",
    "    \n",
    "    # Format the semantic extraction into a JSON string\n",
    "    prompt = f\"\"\"\n",
    "Given the following semantic extraction of a parsed mathematical expression:\n",
    "\n",
    "{json.dumps(semantic_extraction, indent=2)}\n",
    "\n",
    "Based on the above semantic extraction, generate a rule-based explanation for the mathematical expression. The explanation should be clear, concise, and similar in structure to the following example:\n",
    "\n",
    "\"Ensures that \\( U_u(\\omega_t^o) \\) must meet either a fixed utility threshold \\( u \\) or another calculated statistical measure \\( Q \\) in the subsequent time interval [0.0361, 1.000].\"\n",
    "\n",
    "The explanation should be simple, straightforward, and avoid unnecessary elaboration. Focus on matching the structure and brevity of the provided example.\n",
    "\"\"\"\n",
    "\n",
    "    response = client.chat.completions.create(\n",
    "        model=\"gpt-3.5-turbo\",\n",
    "        messages=[\n",
    "            {\n",
    "                \"role\": \"system\",\n",
    "                \"content\": \"You are an expert in analysis. You generate easy to understand rule-based explanations for mathematical expressions based on their semantic meanings \"\n",
    "            },\n",
    "            {\n",
    "                \"role\": \"user\",\n",
    "                \"content\": prompt\n",
    "            }\n",
    "        ],\n",
    "        max_tokens=500,\n",
    "        temperature=0.5,\n",
    "    )\n",
    "    \n",
    "    # Return the generated explanation\n",
    "    return response.choices[0].message.content\n",
    "\n",
    "    \n",
    "    \n",
    "    "
   ]
  },
  {
   "cell_type": "code",
   "execution_count": 260,
   "id": "bd609da7",
   "metadata": {},
   "outputs": [
    {
     "name": "stdout",
     "output_type": "stream",
     "text": [
      "\"Calculates the maximum value of the utility function \\( U_u \\) applied to a specific state \\( \\omega_t^o \\) within the range [0.10, 0.64].\"\n"
     ]
    }
   ],
   "source": [
    "semantic_extraction = extract_semantics(prompt_semantics)\n",
    "print(generate_rule_based_explanation_usingGPT(semantic_extraction))"
   ]
  },
  {
   "cell_type": "code",
   "execution_count": null,
   "id": "97001c69",
   "metadata": {},
   "outputs": [],
   "source": []
  },
  {
   "cell_type": "code",
   "execution_count": null,
   "id": "708d617a",
   "metadata": {},
   "outputs": [],
   "source": [
    "semantic_extractions = extract_semantics(output_structure) "
   ]
  },
  {
   "cell_type": "code",
   "execution_count": null,
   "id": "2bfc137c",
   "metadata": {},
   "outputs": [],
   "source": []
  },
  {
   "cell_type": "code",
   "execution_count": 261,
   "id": "a05600df",
   "metadata": {},
   "outputs": [
    {
     "name": "stdout",
     "output_type": "stream",
     "text": [
      "{'Variables/Constants': ['t', '0.0361', '1.000', '\\\\\\\\omega_t^o', 'u', 'Q_{U_{\\\\\\\\Omega^o_t}}', '-0.10', '0.64'], 'Functions': ['U_u', '\\\\\\\\max'], 'Operators': ['\\\\\\\\in', '\\\\\\\\rightarrow', '>=', '\\\\\\\\cdot', '+'], 'Brackets': ['[', ']', '(', ')', '{'], 'Misc': ['&']}\n"
     ]
    }
   ],
   "source": [
    "import json\n",
    "\n",
    "# Example string representing the parsed LaTeX dictionary\n",
    "parsed_latex_str = '{\"Variables/Constants\": [\"t\", \"0.0361\", \"1.000\", \"u\", \"0.10\", \"0.64\"], \"Functions\": [\"U_u\", \"max\", \"Q_{U_{\\\\\\\\Omega^o_t}}\"], \"Operators\": [\"\\\\\\\\in\", \">=\", \"\\\\\\\\cdot\", \"+\"], \"Brackets\": [\"[\", \"]\", \"(\", \")\", \"{\"], \"Misc\": [\"\\\\\\\\rightarrow\", \"&\"]}'\n",
    "\n",
    "# Convert the string to a dictionary\n",
    "parsed_latex_dict = json.loads(output_structure)\n",
    "\n",
    "print(parsed_latex_dict)"
   ]
  },
  {
   "cell_type": "code",
   "execution_count": 262,
   "id": "11e203e7",
   "metadata": {},
   "outputs": [
    {
     "name": "stdout",
     "output_type": "stream",
     "text": [
      "{\n",
      "  \"Variables/Constants\": [\n",
      "    {\"name\": \"t\", \"meaning\": \"Typically represents a variable for time in equations.\"},\n",
      "    {\"name\": \"0.0361\", \"meaning\": \"A constant value, possibly a parameter or a specific measurement in the context of the equation.\"},\n",
      "    {\"name\": \"1.000\", \"meaning\": \"A constant, representing a whole unit or 100% of a quantity.\"},\n",
      "    {\"name\": \"u\", \"meaning\": \"A variable that could represent a specific quantity or parameter, such as speed, utility, or another measurable entity depending on the context.\"},\n",
      "    {\"name\": \"0.10\", \"meaning\": \"A constant value, representing a decimal or a percentage, possibly used as a rate or proportion in calculations.\"},\n",
      "    {\"name\": \"0.64\", \"meaning\": \"Another constant value, likely representing a fixed number in an equation or formula.\"}\n",
      "  ],\n",
      "  \"Functions\": [\n",
      "    {\"name\": \"U_u\", \"meaning\": \"A function possibly representing a utility function dependent on the variable 'u'.\"},\n",
      "    {\"name\": \"max\", \"meaning\": \"A mathematical function that returns the maximum value among its arguments.\"},\n",
      "    {\"name\": \"Q_{U_{\\Omega^o_t}}\", \"meaning\": \"A function possibly representing a quantity or quality measure related to 'U', within a specific set or condition denoted by '\\Omega^o_t'.\"}\n",
      "  ],\n",
      "  \"Operators\": [\n",
      "    {\"name\": \"\\\\in\", \"meaning\": \"A symbol used in set theory to denote that an element belongs to a set.\"},\n",
      "    {\"name\": \"[\", \"meaning\": \"Used to denote the start of an interval or a list in mathematical expressions.\"},\n",
      "    {\"name\": \",\", \"meaning\": \"A separator used in mathematics to separate elements in a list or components in functions.\"},\n",
      "    {\"name\": \"]\", \"meaning\": \"Used to denote the end of an interval or a list in mathematical expressions.\"},\n",
      "    {\"name\": \"\\\\rightarrow\", \"meaning\": \"Denotes a function mapping or implies a logical conclusion or limit in mathematical expressions.\"},\n",
      "    {\"name\": \"\\\\geq\", \"meaning\": \"A relational operator meaning 'greater than or equal to'.\"},\n",
      "    {\"name\": \"\\\\cdot\", \"meaning\": \"A multiplication operator used in mathematical expressions.\"},\n",
      "    {\"name\": \"+\", \"meaning\": \"An arithmetic operator used to denote addition.\"}\n",
      "  ],\n",
      "  \"Brackets\": [\n",
      "    {\"name\": \"(\", \"meaning\": \"Used to group terms or operations in mathematical expressions.\"},\n",
      "    {\"name\": \")\", \"meaning\": \"Used to close a grouping of terms or operations in mathematical expressions.\"},\n",
      "    {\"name\": \"{\", \"meaning\": \"Used to start a set or a block of expressions, often in functions or set notations.\"}\n",
      "  ],\n",
      "  \"Misc\": [\n",
      "    {\"name\": \"\\\\omega_t^o\", \"meaning\": \"Represents a specific element or condition, possibly a random variable or a parameter at time 't' that is observed or given a particular status.\"}\n",
      "  ]\n",
      "}\n"
     ]
    }
   ],
   "source": [
    "print(extract_semantics(prompt_semantics))"
   ]
  },
  {
   "cell_type": "markdown",
   "id": "9bc5ea78",
   "metadata": {},
   "source": [
    "# Evaluation"
   ]
  },
  {
   "cell_type": "code",
   "execution_count": 263,
   "id": "508cd0c3",
   "metadata": {},
   "outputs": [],
   "source": [
    "import nltk\n",
    "from nltk.translate.bleu_score import sentence_bleu, SmoothingFunction"
   ]
  },
  {
   "cell_type": "markdown",
   "id": "cbdf15d8",
   "metadata": {},
   "source": [
    "## Evaluation of mathematical parsing"
   ]
  },
  {
   "cell_type": "code",
   "execution_count": 264,
   "id": "b0a39453",
   "metadata": {},
   "outputs": [],
   "source": [
    "ground_truth = {\n",
    "  \"Variables/Constants\": [\"t\", \"0.0361\", \"1.000\", \"\\\\omega_t^o\", \"u\", \"Q_{U_{\\\\Omega^o_t}}\", \"-0.10\", \"0.64\"],\n",
    "  \"Functions\": [\"U_u\", \"max\"],\n",
    "  \"Operators\": [\"\\\\in\", \"\\\\rightarrow\", \"\\\\geq\", \"\\\\cdot\", \"+\"],\n",
    "  \"Brackets\": [\"[\", \"]\", \"(\", \")\", \"\\\\left(\", \"\\\\right)\"],\n",
    "  \"Misc\": []\n",
    "}\n",
    "\n",
    "parsed_expression = extract_structure(latex_expression)\n"
   ]
  },
  {
   "cell_type": "code",
   "execution_count": 265,
   "id": "c35dd66e",
   "metadata": {},
   "outputs": [
    {
     "name": "stdout",
     "output_type": "stream",
     "text": [
      "Category: Variables/Constants\n",
      "  Precision: 0.43\n",
      "  Recall: 0.38\n",
      "  F1-Score: 0.40\n",
      "  True Positives: ['\\\\omega_t^o', '0.0361', 't']\n",
      "  False Positives: ['-0.20', '0.22', '0.000', '\\\\bar{u_t}']\n",
      "  False Negatives: ['1.000', '-0.10', 'u', '0.64', 'Q_{U_{\\\\Omega^o_t}}']\n",
      "\n",
      "Category: Functions\n",
      "  Precision: 0.33\n",
      "  Recall: 0.50\n",
      "  F1-Score: 0.40\n",
      "  True Positives: ['U_u']\n",
      "  False Positives: ['Q_{U_{\\\\Omega^o_t}}', '\\\\max']\n",
      "  False Negatives: ['max']\n",
      "\n",
      "Category: Operators\n",
      "  Precision: 0.83\n",
      "  Recall: 1.00\n",
      "  F1-Score: 0.91\n",
      "  True Positives: ['\\\\in', '\\\\rightarrow', '\\\\cdot', '\\\\geq', '+']\n",
      "  False Positives: [',']\n",
      "  False Negatives: []\n",
      "\n",
      "Category: Brackets\n",
      "  Precision: 0.67\n",
      "  Recall: 0.67\n",
      "  F1-Score: 0.67\n",
      "  True Positives: ['(', ')', ']', '[']\n",
      "  False Positives: ['}', '{']\n",
      "  False Negatives: ['\\\\left(', '\\\\right)']\n",
      "\n",
      "Category: Misc\n",
      "  Precision: 0.00\n",
      "  Recall: 0.00\n",
      "  F1-Score: 0.00\n",
      "  True Positives: []\n",
      "  False Positives: ['\\\\left', '&', '\\\\right']\n",
      "  False Negatives: []\n",
      "\n"
     ]
    }
   ],
   "source": [
    "from collections import Counter\n",
    "\n",
    "def calculate_metrics(ground_truth, parsed_output):\n",
    "    metrics = {}\n",
    "\n",
    "    for category in ground_truth:\n",
    "        gt_set = set(ground_truth[category])\n",
    "        po_set = set(parsed_output.get(category, []))\n",
    "\n",
    "        # True Positives (correctly identified)\n",
    "        true_positives = gt_set.intersection(po_set)\n",
    "        \n",
    "        # False Positives (incorrectly identified as present)\n",
    "        false_positives = po_set - gt_set\n",
    "        \n",
    "        # False Negatives (missed by the parser)\n",
    "        false_negatives = gt_set - po_set\n",
    "\n",
    "        precision = len(true_positives) / (len(true_positives) + len(false_positives)) if len(true_positives) + len(false_positives) > 0 else 0\n",
    "        recall = len(true_positives) / (len(true_positives) + len(false_negatives)) if len(true_positives) + len(false_negatives) > 0 else 0\n",
    "        f1_score = (2 * precision * recall) / (precision + recall) if precision + recall > 0 else 0\n",
    "\n",
    "        metrics[category] = {\n",
    "            \"Precision\": precision,\n",
    "            \"Recall\": recall,\n",
    "            \"F1-Score\": f1_score,\n",
    "            \"True Positives\": list(true_positives),\n",
    "            \"False Positives\": list(false_positives),\n",
    "            \"False Negatives\": list(false_negatives)\n",
    "        }\n",
    "\n",
    "    return metrics\n",
    "\n",
    "# Calculate metrics\n",
    "parsed_expression = json.loads(parsed_expression)\n",
    "metrics = calculate_metrics(ground_truth, parsed_expression)\n",
    "\n",
    "# Display results\n",
    "for category, values in metrics.items():\n",
    "    print(f\"Category: {category}\")\n",
    "    print(f\"  Precision: {values['Precision']:.2f}\")\n",
    "    print(f\"  Recall: {values['Recall']:.2f}\")\n",
    "    print(f\"  F1-Score: {values['F1-Score']:.2f}\")\n",
    "    print(f\"  True Positives: {values['True Positives']}\")\n",
    "    print(f\"  False Positives: {values['False Positives']}\")\n",
    "    print(f\"  False Negatives: {values['False Negatives']}\")\n",
    "    print()"
   ]
  },
  {
   "cell_type": "code",
   "execution_count": 266,
   "id": "7e56f7bf",
   "metadata": {},
   "outputs": [],
   "source": [
    "latex1 = r't \\in [0.000, 0.0361) \\rightarrow & \\\n",
    "U_u(\\omega_t^o) \\geq \\max\\left(Q_{U_{\\Omega^o_t}} (-0.20 \\cdot t + 0.22), \\bar{u_t}\\right)\\\\'\n",
    "latex2 = r't \\in [0.0361, 1.000] \\rightarrow &  \\\n",
    "U_u(\\omega_t^o) \\geq \\max\\left( u, Q_{U_{\\Omega^o_t}} (-0.10 \\cdot t + 0.64)\\right)'"
   ]
  },
  {
   "cell_type": "code",
   "execution_count": 267,
   "id": "6c2e1a83",
   "metadata": {},
   "outputs": [],
   "source": [
    "parsed = extract_structure(latex1)"
   ]
  },
  {
   "cell_type": "code",
   "execution_count": 269,
   "id": "e2c8e6ab",
   "metadata": {},
   "outputs": [
    {
     "name": "stdout",
     "output_type": "stream",
     "text": [
      "```json\n",
      "{\n",
      "  \"Variables/Constants\": [\n",
      "    {\"name\": \"t\", \"meaning\": \"A variable typically representing time.\"},\n",
      "    {\"name\": \"0.0361\", \"meaning\": \"A constant value, possibly a parameter or a specific measurement.\"},\n",
      "    {\"name\": \"1.000\", \"meaning\": \"A constant value, often used to represent a normalized or base value.\"},\n",
      "    {\"name\": \"u\", \"meaning\": \"A variable, which could represent a specific unknown or a parameter in an equation.\"},\n",
      "    {\"name\": \"0.10\", \"meaning\": \"A constant value, possibly representing a percentage or a rate in decimal form.\"},\n",
      "    {\"name\": \"0.64\", \"meaning\": \"A constant value, often used in calculations involving probabilities or fractions.\"}\n",
      "  ],\n",
      "  \"Functions\": [\n",
      "    {\"name\": \"U_u\", \"meaning\": \"A function denoted by U with a subscript u, possibly representing a utility function dependent on variable u.\"},\n",
      "    {\"name\": \"max\", \"meaning\": \"A mathematical function that returns the maximum value among its arguments.\"},\n",
      "    {\"name\": \"Q_{U_{\\Omega^o_t}}\", \"meaning\": \"A function Q, possibly a quantile or a statistical measure, applied to another function U, which is indexed by a set or event \\u03a9^o_t.\"}\n",
      "  ],\n",
      "  \"Operators\": [\n",
      "    {\"name\": \"\\\\in\", \"meaning\": \"A symbol used in mathematics to denote that an element belongs to a set.\"},\n",
      "    {\"name\": \"[\", \"meaning\": \"Used to denote the start of an interval or a list in mathematics.\"},\n",
      "    {\"name\": \",\", \"meaning\": \"A separator used in mathematics to separate elements in a list or components in a function.\"},\n",
      "    {\"name\": \"]\", \"meaning\": \"Used to denote the end of an interval or a list in mathematics.\"},\n",
      "    {\"name\": \"\\\\rightarrow\", \"meaning\": \"A symbol representing a function mapping or logical implication in mathematics.\"},\n",
      "    {\"name\": \"\\\\geq\", \"meaning\": \"A relational operator meaning 'greater than or equal to'.\"},\n",
      "    {\"name\": \"\\\\cdot\", \"meaning\": \"A symbol used to denote multiplication in mathematical expressions.\"},\n",
      "    {\"name\": \"+\", \"meaning\": \"An operator used to denote addition.\"}\n",
      "  ],\n",
      "  \"Brackets\": [\n",
      "    {\"name\": \"(\", \"meaning\": \"An opening parenthesis used to start a grouping of terms in an expression.\"},\n",
      "    {\"name\": \")\", \"meaning\": \"A closing parenthesis used to end a grouping of terms in an expression.\"},\n",
      "    {\"name\": \"{\", \"meaning\": \"An opening curly brace used to start a set or a block of expressions.\"}\n",
      "  ],\n",
      "  \"Misc\": [\n",
      "    {\"name\": \"\\\\omega_t^o\", \"meaning\": \"A specific element or variable, possibly representing a state or condition at time t, denoted with a superscript o.\"}\n",
      "  ]\n",
      "}\n",
      "```\n"
     ]
    }
   ],
   "source": [
    "json_data = json.dumps(parsed, indent=2)\n",
    "print(extract_semantics(json_data))"
   ]
  },
  {
   "cell_type": "code",
   "execution_count": 270,
   "id": "48fc0ab4",
   "metadata": {},
   "outputs": [
    {
     "name": "stdout",
     "output_type": "stream",
     "text": [
      "\"Calculates a function \\( U_u \\) dependent on variable \\( u \\), ensuring it meets a maximum value condition \\( max \\) involving a specific quantitative measure \\( Q \\) dependent on the set \\( \\Omega^o_t \\).\"\n"
     ]
    }
   ],
   "source": [
    "print(generate_rule_based_explanation_usingGPT(extract_semantics(json_data)))"
   ]
  },
  {
   "cell_type": "code",
   "execution_count": 271,
   "id": "0b9df628",
   "metadata": {},
   "outputs": [],
   "source": [
    "reference_explanation = '''Ensures \\(U_u(\\omega_t^o) \\) meets either a calculated statistical value or a specified minimum utility requirement in the initial interval \\( [0.000, 0.0361) \\).'''"
   ]
  },
  {
   "cell_type": "code",
   "execution_count": 272,
   "id": "49a9c0bb",
   "metadata": {},
   "outputs": [],
   "source": [
    "generated_explanation = generate_rule_based_explanation_usingGPT(extract_semantics(json_data))"
   ]
  },
  {
   "cell_type": "code",
   "execution_count": 273,
   "id": "5896bcf9",
   "metadata": {},
   "outputs": [],
   "source": [
    "reference_tokens = [nltk.word_tokenize(reference_explanation)]\n",
    "generated_tokens = nltk.word_tokenize(generated_explanation)"
   ]
  },
  {
   "cell_type": "code",
   "execution_count": 274,
   "id": "b69851bf",
   "metadata": {},
   "outputs": [],
   "source": [
    "smoothie = SmoothingFunction().method4"
   ]
  },
  {
   "cell_type": "code",
   "execution_count": 275,
   "id": "026aeb86",
   "metadata": {},
   "outputs": [],
   "source": [
    "bleu_score_1 = sentence_bleu(reference_tokens, generated_tokens, smoothing_function=smoothie)"
   ]
  },
  {
   "cell_type": "code",
   "execution_count": 276,
   "id": "8b34abaa",
   "metadata": {},
   "outputs": [
    {
     "data": {
      "text/plain": [
       "0.06782096761471876"
      ]
     },
     "execution_count": 276,
     "metadata": {},
     "output_type": "execute_result"
    }
   ],
   "source": [
    "bleu_score_1"
   ]
  },
  {
   "cell_type": "code",
   "execution_count": 277,
   "id": "c98c70e9",
   "metadata": {},
   "outputs": [
    {
     "name": "stdout",
     "output_type": "stream",
     "text": [
      "Cosine Similarity: 0.9437\n"
     ]
    }
   ],
   "source": [
    "from sentence_transformers import SentenceTransformer, util\n",
    "\n",
    "model = SentenceTransformer('bert-base-nli-mean-tokens')\n",
    "\n",
    "# Example texts\n",
    "text1 = str(reference_tokens)\n",
    "text2 = str(generated_tokens)\n",
    "\n",
    "# Convert texts to embeddings\n",
    "embedding1 = model.encode([text1], convert_to_tensor=True)\n",
    "embedding2 = model.encode([text2], convert_to_tensor=True)\n",
    "\n",
    "# Compute cosine similarity\n",
    "cosine_score = util.pytorch_cos_sim(embedding1, embedding2)\n",
    "\n",
    "# Since these are single sentences, there will be only one similarity score\n",
    "print(f\"Cosine Similarity: {cosine_score.item():.4f}\")"
   ]
  },
  {
   "cell_type": "code",
   "execution_count": 278,
   "id": "00d75fa9",
   "metadata": {},
   "outputs": [
    {
     "name": "stdout",
     "output_type": "stream",
     "text": [
      "Cosine Similarity: 0.9610\n"
     ]
    }
   ],
   "source": [
    "text1 = 'The quick brown fox jumps over the lazy dog.'\n",
    "text2 = \"A fast brown fox leaps over a lazy dog.\"\n",
    "\n",
    "\n",
    "embedding1 = model.encode([text1], convert_to_tensor=True)\n",
    "embedding2 = model.encode([text2], convert_to_tensor=True)\n",
    "\n",
    "# Compute cosine similarity\n",
    "cosine_score = util.pytorch_cos_sim(embedding1, embedding2)\n",
    "\n",
    "# Since these are single sentences, there will be only one similarity score\n",
    "print(f\"Cosine Similarity: {cosine_score.item():.4f}\")"
   ]
  },
  {
   "cell_type": "code",
   "execution_count": 279,
   "id": "84b63af4",
   "metadata": {},
   "outputs": [
    {
     "name": "stdout",
     "output_type": "stream",
     "text": [
      "Cosine Similarity: 0.9610\n"
     ]
    }
   ],
   "source": [
    "text1 = 'The quick brown fox jumps over the lazy dog.'\n",
    "text2 = \"A fast brown fox leaps over a lazy dog.\"\n",
    "\n",
    "\n",
    "embedding1 = model.encode([text1], convert_to_tensor=True)\n",
    "embedding2 = model.encode([text2], convert_to_tensor=True)\n",
    "\n",
    "# Compute cosine similarity\n",
    "cosine_score = util.pytorch_cos_sim(embedding1, embedding2)\n",
    "\n",
    "# Since these are single sentences, there will be only one similarity score\n",
    "print(f\"Cosine Similarity: {cosine_score.item():.4f}\")"
   ]
  },
  {
   "cell_type": "code",
   "execution_count": 280,
   "id": "7be26a6f",
   "metadata": {},
   "outputs": [
    {
     "name": "stdout",
     "output_type": "stream",
     "text": [
      "Cosine Similarity: 0.8663\n"
     ]
    }
   ],
   "source": [
    "from sentence_transformers import SentenceTransformer, util\n",
    "\n",
    "# Load the SentenceTransformer model\n",
    "model = SentenceTransformer('bert-base-nli-mean-tokens')\n",
    "\n",
    "# Mathematically equivalent sentences with more advanced expressions\n",
    "sentence1 = \"The sum of the squares of \\(a\\) and \\(b\\) is equal to the square of \\(c\\), represented as \\(a^2 + b^2 = c^2\\).\"\n",
    "sentence2 = \"For any right triangle, the square of the hypotenuse \\(c\\) equals the sum of the squares of the other two sides, expressed as \\(c^2 = a^2 + b^2\\).\"\n",
    "\n",
    "# Convert sentences to embeddings\n",
    "embedding1 = model.encode([sentence1], convert_to_tensor=True)\n",
    "embedding2 = model.encode([sentence2], convert_to_tensor=True)\n",
    "\n",
    "# Compute cosine similarity\n",
    "cosine_score = util.pytorch_cos_sim(embedding1, embedding2)\n",
    "\n",
    "# Print the cosine similarity score\n",
    "print(f\"Cosine Similarity: {cosine_score.item():.4f}\")\n"
   ]
  },
  {
   "cell_type": "code",
   "execution_count": null,
   "id": "bfcccef6",
   "metadata": {},
   "outputs": [],
   "source": []
  }
 ],
 "metadata": {
  "kernelspec": {
   "display_name": "Python 3 (ipykernel)",
   "language": "python",
   "name": "python3"
  },
  "language_info": {
   "codemirror_mode": {
    "name": "ipython",
    "version": 3
   },
   "file_extension": ".py",
   "mimetype": "text/x-python",
   "name": "python",
   "nbconvert_exporter": "python",
   "pygments_lexer": "ipython3",
   "version": "3.10.9"
  }
 },
 "nbformat": 4,
 "nbformat_minor": 5
}

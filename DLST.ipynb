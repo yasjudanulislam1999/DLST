{
 "cells": [
  {
   "cell_type": "code",
   "execution_count": 1,
   "id": "855cd1b3",
   "metadata": {},
   "outputs": [
    {
     "name": "stdout",
     "output_type": "stream",
     "text": [
      "Requirement already satisfied: openai in /Users/yasjudanulislam/anaconda3/lib/python3.10/site-packages (1.35.13)\n",
      "Requirement already satisfied: anyio<5,>=3.5.0 in /Users/yasjudanulislam/anaconda3/lib/python3.10/site-packages (from openai) (3.5.0)\n",
      "Requirement already satisfied: distro<2,>=1.7.0 in /Users/yasjudanulislam/anaconda3/lib/python3.10/site-packages (from openai) (1.9.0)\n",
      "Requirement already satisfied: httpx<1,>=0.23.0 in /Users/yasjudanulislam/anaconda3/lib/python3.10/site-packages (from openai) (0.27.0)\n",
      "Requirement already satisfied: pydantic<3,>=1.9.0 in /Users/yasjudanulislam/anaconda3/lib/python3.10/site-packages (from openai) (2.6.0)\n",
      "Requirement already satisfied: sniffio in /Users/yasjudanulislam/anaconda3/lib/python3.10/site-packages (from openai) (1.3.1)\n",
      "Requirement already satisfied: tqdm>4 in /Users/yasjudanulislam/anaconda3/lib/python3.10/site-packages (from openai) (4.64.1)\n",
      "Requirement already satisfied: typing-extensions<5,>=4.7 in /Users/yasjudanulislam/anaconda3/lib/python3.10/site-packages (from openai) (4.9.0)\n",
      "Requirement already satisfied: idna>=2.8 in /Users/yasjudanulislam/anaconda3/lib/python3.10/site-packages (from anyio<5,>=3.5.0->openai) (3.4)\n",
      "Requirement already satisfied: certifi in /Users/yasjudanulislam/anaconda3/lib/python3.10/site-packages (from httpx<1,>=0.23.0->openai) (2023.5.7)\n",
      "Requirement already satisfied: httpcore==1.* in /Users/yasjudanulislam/anaconda3/lib/python3.10/site-packages (from httpx<1,>=0.23.0->openai) (1.0.5)\n",
      "Requirement already satisfied: h11<0.15,>=0.13 in /Users/yasjudanulislam/anaconda3/lib/python3.10/site-packages (from httpcore==1.*->httpx<1,>=0.23.0->openai) (0.14.0)\n",
      "Requirement already satisfied: annotated-types>=0.4.0 in /Users/yasjudanulislam/anaconda3/lib/python3.10/site-packages (from pydantic<3,>=1.9.0->openai) (0.6.0)\n",
      "Requirement already satisfied: pydantic-core==2.16.1 in /Users/yasjudanulislam/anaconda3/lib/python3.10/site-packages (from pydantic<3,>=1.9.0->openai) (2.16.1)\n",
      "\n",
      "\u001b[1m[\u001b[0m\u001b[34;49mnotice\u001b[0m\u001b[1;39;49m]\u001b[0m\u001b[39;49m A new release of pip is available: \u001b[0m\u001b[31;49m24.1.2\u001b[0m\u001b[39;49m -> \u001b[0m\u001b[32;49m24.2\u001b[0m\n",
      "\u001b[1m[\u001b[0m\u001b[34;49mnotice\u001b[0m\u001b[1;39;49m]\u001b[0m\u001b[39;49m To update, run: \u001b[0m\u001b[32;49mpip install --upgrade pip\u001b[0m\n"
     ]
    }
   ],
   "source": [
    "!pip install openai"
   ]
  },
  {
   "cell_type": "code",
   "execution_count": 2,
   "id": "c5cbed0f",
   "metadata": {},
   "outputs": [],
   "source": [
    "from dotenv import load_dotenv\n",
    "import os"
   ]
  },
  {
   "cell_type": "code",
   "execution_count": 3,
   "id": "d397b1c1",
   "metadata": {},
   "outputs": [
    {
     "data": {
      "text/plain": [
       "True"
      ]
     },
     "execution_count": 3,
     "metadata": {},
     "output_type": "execute_result"
    }
   ],
   "source": [
    "load_dotenv()  # Load environment variables from the .env file"
   ]
  },
  {
   "cell_type": "code",
   "execution_count": 4,
   "id": "a2d51bf7",
   "metadata": {},
   "outputs": [
    {
     "name": "stdout",
     "output_type": "stream",
     "text": [
      "Requirement already satisfied: python-dotenv in /Users/yasjudanulislam/anaconda3/lib/python3.10/site-packages (1.0.1)\n",
      "\n",
      "\u001b[1m[\u001b[0m\u001b[34;49mnotice\u001b[0m\u001b[1;39;49m]\u001b[0m\u001b[39;49m A new release of pip is available: \u001b[0m\u001b[31;49m24.1.2\u001b[0m\u001b[39;49m -> \u001b[0m\u001b[32;49m24.2\u001b[0m\n",
      "\u001b[1m[\u001b[0m\u001b[34;49mnotice\u001b[0m\u001b[1;39;49m]\u001b[0m\u001b[39;49m To update, run: \u001b[0m\u001b[32;49mpip install --upgrade pip\u001b[0m\n"
     ]
    }
   ],
   "source": [
    "!pip install python-dotenv"
   ]
  },
  {
   "cell_type": "code",
   "execution_count": 5,
   "id": "c50d1e26",
   "metadata": {},
   "outputs": [],
   "source": [
    "api_key = os.getenv('OPENAI_API_KEY')"
   ]
  },
  {
   "cell_type": "code",
   "execution_count": 6,
   "id": "b28a7bd5",
   "metadata": {},
   "outputs": [
    {
     "name": "stdout",
     "output_type": "stream",
     "text": [
      "Requirement already satisfied: OpenAI in /Users/yasjudanulislam/anaconda3/lib/python3.10/site-packages (1.35.13)\n",
      "Requirement already satisfied: anyio<5,>=3.5.0 in /Users/yasjudanulislam/anaconda3/lib/python3.10/site-packages (from OpenAI) (3.5.0)\n",
      "Requirement already satisfied: distro<2,>=1.7.0 in /Users/yasjudanulislam/anaconda3/lib/python3.10/site-packages (from OpenAI) (1.9.0)\n",
      "Requirement already satisfied: httpx<1,>=0.23.0 in /Users/yasjudanulislam/anaconda3/lib/python3.10/site-packages (from OpenAI) (0.27.0)\n",
      "Requirement already satisfied: pydantic<3,>=1.9.0 in /Users/yasjudanulislam/anaconda3/lib/python3.10/site-packages (from OpenAI) (2.6.0)\n",
      "Requirement already satisfied: sniffio in /Users/yasjudanulislam/anaconda3/lib/python3.10/site-packages (from OpenAI) (1.3.1)\n",
      "Requirement already satisfied: tqdm>4 in /Users/yasjudanulislam/anaconda3/lib/python3.10/site-packages (from OpenAI) (4.64.1)\n",
      "Requirement already satisfied: typing-extensions<5,>=4.7 in /Users/yasjudanulislam/anaconda3/lib/python3.10/site-packages (from OpenAI) (4.9.0)\n",
      "Requirement already satisfied: idna>=2.8 in /Users/yasjudanulislam/anaconda3/lib/python3.10/site-packages (from anyio<5,>=3.5.0->OpenAI) (3.4)\n",
      "Requirement already satisfied: certifi in /Users/yasjudanulislam/anaconda3/lib/python3.10/site-packages (from httpx<1,>=0.23.0->OpenAI) (2023.5.7)\n",
      "Requirement already satisfied: httpcore==1.* in /Users/yasjudanulislam/anaconda3/lib/python3.10/site-packages (from httpx<1,>=0.23.0->OpenAI) (1.0.5)\n",
      "Requirement already satisfied: h11<0.15,>=0.13 in /Users/yasjudanulislam/anaconda3/lib/python3.10/site-packages (from httpcore==1.*->httpx<1,>=0.23.0->OpenAI) (0.14.0)\n",
      "Requirement already satisfied: annotated-types>=0.4.0 in /Users/yasjudanulislam/anaconda3/lib/python3.10/site-packages (from pydantic<3,>=1.9.0->OpenAI) (0.6.0)\n",
      "Requirement already satisfied: pydantic-core==2.16.1 in /Users/yasjudanulislam/anaconda3/lib/python3.10/site-packages (from pydantic<3,>=1.9.0->OpenAI) (2.16.1)\n",
      "\n",
      "\u001b[1m[\u001b[0m\u001b[34;49mnotice\u001b[0m\u001b[1;39;49m]\u001b[0m\u001b[39;49m A new release of pip is available: \u001b[0m\u001b[31;49m24.1.2\u001b[0m\u001b[39;49m -> \u001b[0m\u001b[32;49m24.2\u001b[0m\n",
      "\u001b[1m[\u001b[0m\u001b[34;49mnotice\u001b[0m\u001b[1;39;49m]\u001b[0m\u001b[39;49m To update, run: \u001b[0m\u001b[32;49mpip install --upgrade pip\u001b[0m\n"
     ]
    }
   ],
   "source": [
    "!pip install OpenAI"
   ]
  },
  {
   "cell_type": "markdown",
   "id": "0a6562c7",
   "metadata": {},
   "source": [
    "# Expression parsing"
   ]
  },
  {
   "cell_type": "code",
   "execution_count": 107,
   "id": "1f5281d9",
   "metadata": {},
   "outputs": [
    {
     "name": "stdout",
     "output_type": "stream",
     "text": [
      "{\n",
      "    \"Variables/Constants\": [\"t\", \"0.0361\", \"1.000\", \"\\\\omega_t^o\", \"u\", \"Q_{U_{\\\\Omega^o_t}}\", \"-0.10\", \"0.64\"],\n",
      "    \"Functions\": [\"U_u\", \"\\\\max\"],\n",
      "    \"Operators\": [\"\\\\in\", \"\\\\rightarrow\", \"\\\\geq\", \"\\\\cdot\", \"+\"],\n",
      "    \"Brackets\": [\"[\", \"]\", \"(\", \")\", \"{\"],\n",
      "    \"Misc\": [\"&\"]\n",
      "}\n"
     ]
    }
   ],
   "source": [
    "def extract_structure(latex_expression):\n",
    "    \n",
    "    client = OpenAI()\n",
    "    response = client.chat.completions.create(\n",
    "        model=\"gpt-3.5-turbo\",\n",
    "        messages=[\n",
    "            {\n",
    "                \"role\": \"system\",\n",
    "                \"content\": \"You are a helpful assistant that parses LaTeX expressions and categorizes their components \"\n",
    "                    \"into the following structure: Variables/Constants, Functions, Operators, Brackets, and Misc. \"\n",
    "                    \"For each category, provide a list of items found in the LaTeX expression. \"\n",
    "                    \"Ensure that any mathematical functions, such as 'max', 'min', 'sin', 'cos', and custom functions like 'U_u', are correctly identified under the 'Functions' category. \"\n",
    "                    \"Variables are any symbols or letters that represent quantities, such as 't', 'x', or 'omega_t^o'. \"\n",
    "                    \"Constants include numeric values like '-0.20', '0.22', and '0.0361'. \"\n",
    "                    \"Operators include symbols like '>', '>=', '+', '-', '*', and '/' that indicate operations between variables or constants. \"\n",
    "                    \"Brackets include any grouping symbols such as '(', ')', '[', ']', '{', and '}'. \"\n",
    "                    \"Misc should be used for any elements that do not fit into the other categories. \"\n",
    "                    \"The output should be a JSON object with the following keys: 'Variables/Constants', 'Functions', 'Operators', 'Brackets', 'Misc'. \"\n",
    "                    \"Numbers also fall under constants and variables, and convert the LaTeX into mathematical expressions without LaTeX-specific formatting.\"\n",
    "                    \"output should be a json dictionary with categories as keys and lists of items as values\"\n",
    "            },\n",
    "            {\n",
    "                \"role\": \"user\",\n",
    "                \"content\": f\"Please parse the following LaTeX expression and provide the categorized output structure: {latex_expression}\"\n",
    "            }\n",
    "        ],\n",
    "        max_tokens=500,\n",
    "        temperature=0.5,\n",
    "    )\n",
    "\n",
    "    return response.choices[0].message.content\n",
    "\n",
    "# Provided LaTeX expression\n",
    "latex_expression = r\"t \\in [0.0361, 1.000] \\rightarrow &  \\\n",
    "U_u(\\omega_t^o) \\geq \\max\\left( u, Q_{U_{\\Omega^o_t}} (-0.10 \\cdot t + 0.64)\\right)\"\n",
    "\n",
    "# Get the output structure from the API\n",
    "output_structure = extract_structure(latex_expression)\n",
    "print(output_structure)"
   ]
  },
  {
   "cell_type": "code",
   "execution_count": 51,
   "id": "53b2526b",
   "metadata": {},
   "outputs": [
    {
     "data": {
      "text/plain": [
       "'{\\n  \"Variables/Constants\": [\\n    \"t\",\\n    \"0.0361\",\\n    \"1.000\",\\n    \"u\",\\n    \"0.10\",\\n    \"0.64\"\\n  ],\\n  \"Functions\": [\\n    \"U_u\",\\n    \"max\",\\n    \"Q_{U_{\\\\\\\\Omega^o_t}}\"\\n  ],\\n  \"Operators\": [\\n    \"\\\\\\\\in\",\\n    \"\\\\\\\\rightarrow\",\\n    \"\\\\\\\\geq\",\\n    \"\\\\\\\\cdot\",\\n    \"+\"\\n  ],\\n  \"Brackets\": [\\n    \"[\",\\n    \"]\",\\n    \"(\",\\n    \")\",\\n    \"\\\\\\\\left(\",\\n    \"\\\\\\\\right)\"\\n  ],\\n  \"Misc\": [\\n    \",\"\\n  ]\\n}'"
      ]
     },
     "execution_count": 51,
     "metadata": {},
     "output_type": "execute_result"
    }
   ],
   "source": [
    "output_structure"
   ]
  },
  {
   "cell_type": "code",
   "execution_count": 63,
   "id": "6ceb9673",
   "metadata": {},
   "outputs": [],
   "source": [
    "def convert_output_to_latex(output_structure):\n",
    "    response = client.chat.completions.create(\n",
    "        model=\"gpt-3.5-turbo\",\n",
    "        messages=[\n",
    "            {\n",
    "                \"role\": \"system\",\n",
    "                \"content\": \"you are given a JSON format which contains \"\n",
    "            },\n",
    "            {\n",
    "                \"role\": \"user\",\n",
    "                \"content\": f\"Please parse the following LaTeX expression and provide the categorized output structure: {latex_expression}\"\n",
    "            }\n",
    "        ],\n",
    "        max_tokens=500,\n",
    "        temperature=0.5,\n",
    "    )\n",
    "\n",
    "    return response.choices[0].message.content\n",
    "    \n",
    "\n"
   ]
  },
  {
   "cell_type": "markdown",
   "id": "1385ec83",
   "metadata": {},
   "source": [
    "# Extracting the semantic meaning"
   ]
  },
  {
   "cell_type": "code",
   "execution_count": 115,
   "id": "dbf011d3",
   "metadata": {},
   "outputs": [],
   "source": [
    "parsed_output = extract_structure(latex_expression)\n",
    "prompt_semantics = (\n",
    "        \"The following is a JSON object with categorized components of a LaTeX expression. \"\n",
    "        \"Please provide detailed semantic meanings for each item in the JSON. The categories are: \"\n",
    "        \"Variables/Constants, Functions, Operators, Brackets, and Misc. \"\n",
    "        \"For each item, provide its name and a detailed description of its meaning.\\n\\n\"\n",
    "        f\"{parsed_output}\\n\\n\"\n",
    "        \"Provide the output in the following JSON format:\"\n",
    "        \"{\"\n",
    "        '  \"Variables/Constants\": ['\n",
    "        '    {\"name\": \"item_name\", \"meaning\": \"item_meaning\"}'\n",
    "        '  ],'\n",
    "        '  \"Functions\": '\n",
    "        '    {\"name\": \"item_name\", \"meaning\": \"item_meaning\"}'\n",
    "        '  ],'\n",
    "        '  \"Operators\": ['\n",
    "        '    {\"name\": \"item_name\", \"meaning\": \"item_meaning\"}'\n",
    "        '  ],'\n",
    "        '  \"Brackets\": ['\n",
    "        '    {\"name\": \"item_name\", \"meaning\": \"item_meaning\"}'\n",
    "        '  ],'\n",
    "        '  \"Misc\": ['\n",
    "        '    {\"name\": \"item_name\", \"meaning\": \"item_meaning\"}'\n",
    "        '  ]'\n",
    "        \"}\"\n",
    "    )\n",
    "\n",
    "\n",
    "def extract_semantics(prompt):\n",
    "    \n",
    "    \n",
    "    \n",
    "    response = client.chat.completions.create(\n",
    "        model=\"gpt-4-turbo\",\n",
    "        messages=[\n",
    "            {\n",
    "                \"role\": \"system\",\n",
    "                \"content\": \"You are a helpful assistant.\"\n",
    "            },\n",
    "            {\n",
    "                \"role\": \"user\",\n",
    "                \"content\": prompt\n",
    "            }\n",
    "        ],\n",
    "        max_tokens=1500,\n",
    "        temperature=0.5,\n",
    "    )\n",
    "\n",
    "    return response.choices[0].message.content"
   ]
  },
  {
   "cell_type": "code",
   "execution_count": 55,
   "id": "6a5e038d",
   "metadata": {},
   "outputs": [],
   "source": [
    "# parsed_output = extract_structure(latex_expression)\n",
    "# prompt = (\n",
    "#         \"The following is a JSON object with categorized components of a LaTeX expression. \"\n",
    "#         \"Please provide detailed semantic meanings for each item in the JSON. The categories are: \"\n",
    "#         \"Variables/Constants, Functions, Operators, Brackets, and Misc. \"\n",
    "#         \"For each item, provide its name and a detailed description of its meaning.\\n\\n\"\n",
    "#         f\"{parsed_output}\\n\\n\"\n",
    "#         \"Provide the output in the following JSON format:\"\n",
    "#         \"{\"\n",
    "#         '  \"Variables/Constants\": ['\n",
    "#         '    {\"name\": \"item_name\", \"meaning\": \"item_meaning\"}'\n",
    "#         '  ],'\n",
    "#         '  \"Functions\": '\n",
    "#         '    {\"name\": \"item_name\", \"meaning\": \"item_meaning\"}'\n",
    "#         '  ],'\n",
    "#         '  \"Operators\": ['\n",
    "#         '    {\"name\": \"item_name\", \"meaning\": \"item_meaning\"}'\n",
    "#         '  ],'\n",
    "#         '  \"Brackets\": ['\n",
    "#         '    {\"name\": \"item_name\", \"meaning\": \"item_meaning\"}'\n",
    "#         '  ],'\n",
    "#         '  \"Misc\": ['\n",
    "#         '    {\"name\": \"item_name\", \"meaning\": \"item_meaning\"}'\n",
    "#         '  ]'\n",
    "#         \"}\"\n",
    "#     )"
   ]
  },
  {
   "cell_type": "code",
   "execution_count": 65,
   "id": "510fb7c4",
   "metadata": {
    "scrolled": false
   },
   "outputs": [
    {
     "name": "stdout",
     "output_type": "stream",
     "text": [
      "```json\n",
      "{\n",
      "  \"Variables/Constants\": [\n",
      "    {\"name\": \"t\", \"meaning\": \"Typically represents a variable for time in equations.\"},\n",
      "    {\"name\": \"0.0361\", \"meaning\": \"A constant value, possibly a parameter or a specific measurement.\"},\n",
      "    {\"name\": \"1.000\", \"meaning\": \"A constant, representing a whole unit, often used in calculations for scaling or baselines.\"},\n",
      "    {\"name\": \"u\", \"meaning\": \"A variable, possibly representing a specific quantity or parameter in a function.\"},\n",
      "    {\"name\": \"0.10\", \"meaning\": \"A numerical constant, likely representing a decimal fraction used in calculations.\"},\n",
      "    {\"name\": \"0.64\", \"meaning\": \"Another numerical constant, possibly representing a probability, fraction, or other parameter in a model or equation.\"}\n",
      "  ],\n",
      "  \"Functions\": [\n",
      "    {\"name\": \"U_u\", \"meaning\": \"Represents a function named 'U' with 'u' as a parameter. This could be a utility function, or another specific mathematical function depending on the context.\"},\n",
      "    {\"name\": \"max\", \"meaning\": \"A mathematical function that returns the maximum value among its arguments.\"},\n",
      "    {\"name\": \"Q_{U_{\\Omega^o_t}}\", \"meaning\": \"A function 'Q' applied to another function or variable 'U' which itself depends on a set or parameter 'Ω^o_t'. This could represent a complex mathematical or statistical operation, possibly querying or calculating a specific value from a defined set or distribution.\"}\n",
      "  ],\n",
      "  \"Operators\": [\n",
      "    {\"name\": \"\\\\in\", \"meaning\": \"A symbol used in set theory to denote membership; 'x \\\\in A' means x is an element of set A.\"},\n",
      "    {\"name\": \"[\", \"meaning\": \"Used to denote the start of an interval or a list in mathematical expressions.\"},\n",
      "    {\"name\": \",\", \"meaning\": \"A separator used in mathematics to separate elements in a list or parameters in functions.\"},\n",
      "    {\"name\": \"]\", \"meaning\": \"Used to denote the end of an interval or a list in mathematical expressions.\"},\n",
      "    {\"name\": \"\\\\rightarrow\", \"meaning\": \"Denotes a function mapping or an implication in logical expressions. In functions, it can describe the mapping from one set to another.\"},\n",
      "    {\"name\": \"\\\\geq\", \"meaning\": \"A relational operator meaning 'greater than or equal to'. It is used to denote inequality between two expressions.\"},\n",
      "    {\"name\": \"\\\\cdot\", \"meaning\": \"Represents multiplication in mathematical expressions.\"},\n",
      "    {\"name\": \"+\", \"meaning\": \"The basic arithmetic operator for addition.\"}\n",
      "  ],\n",
      "  \"Brackets\": [\n",
      "    {\"name\": \"(\", \"meaning\": \"Used to start a grouping of expressions, affecting the order of operations in mathematical expressions.\"},\n",
      "    {\"name\": \")\", \"meaning\": \"Used to end a grouping of expressions, affecting the order of operations in mathematical expressions.\"},\n",
      "    {\"name\": \"{\", \"meaning\": \"Used to start a set or a block of expressions, often used in defining functions or sets.\"}\n",
      "  ],\n",
      "  \"Misc\": [\n",
      "    {\"name\": \"\\\\omega_t^o\", \"meaning\": \"Represents a specific element or variable, possibly a random variable or a parameter in a stochastic process, indexed by time 't' and marked by 'o'.\"}\n",
      "  ]\n",
      "}\n",
      "```\n"
     ]
    }
   ],
   "source": [
    "print(extract_semantics(prompt))"
   ]
  },
  {
   "cell_type": "code",
   "execution_count": 58,
   "id": "5ae68879",
   "metadata": {},
   "outputs": [
    {
     "data": {
      "text/plain": [
       "'{\\n  \"Variables/Constants\": [\\n    \"t\",\\n    \"0.0361\",\\n    \"1.000\",\\n    \"u\",\\n    \"0.10\",\\n    \"0.64\"\\n  ],\\n  \"Functions\": [\\n    \"U_u\",\\n    \"max\",\\n    \"Q_{U_{\\\\\\\\Omega^o_t}}\"\\n  ],\\n  \"Operators\": [\\n    \"\\\\\\\\in\",\\n    \"\\\\\\\\rightarrow\",\\n    \"\\\\\\\\geq\",\\n    \"\\\\\\\\cdot\",\\n    \"+\"\\n  ],\\n  \"Brackets\": [\\n    \"[\",\\n    \"]\",\\n    \"(\",\\n    \")\",\\n    \"\\\\\\\\left(\",\\n    \"\\\\\\\\right)\"\\n  ],\\n  \"Misc\": [\\n    \",\"\\n  ]\\n}'"
      ]
     },
     "execution_count": 58,
     "metadata": {},
     "output_type": "execute_result"
    }
   ],
   "source": [
    "output_structure"
   ]
  },
  {
   "cell_type": "code",
   "execution_count": 131,
   "id": "5001e69f",
   "metadata": {},
   "outputs": [
    {
     "data": {
      "text/plain": [
       "{'Variables/Constants': [{'name': 't',\n",
       "   'meaning': 'Typically represents a variable for time in equations.'},\n",
       "  {'name': '0.0361',\n",
       "   'meaning': 'A numerical constant, likely representing a specific value or parameter in the equation.'},\n",
       "  {'name': '1.000',\n",
       "   'meaning': 'A numerical constant, likely representing a specific value or parameter in the equation.'},\n",
       "  {'name': '\\\\omega_t^o', 'meaning': 'No meaning defined for \\\\omega_t^o'},\n",
       "  {'name': 'u',\n",
       "   'meaning': 'A variable, possibly representing a specific quantity or parameter in a function.'},\n",
       "  {'name': 'Q_{U_{\\\\Omega^o_t}}',\n",
       "   'meaning': \"A function 'Q' applied to another function or variable 'U' which itself depends on a set or parameter 'Ω^o_t'. This could represent a complex mathematical or statistical operation, possibly querying or calculating a specific value from a defined set or distribution.\"},\n",
       "  {'name': '-0.10',\n",
       "   'meaning': 'A numerical constant, likely representing a specific value or parameter in the equation.'},\n",
       "  {'name': '0.64',\n",
       "   'meaning': 'A numerical constant, likely representing a specific value or parameter in the equation.'}],\n",
       " 'Functions': [{'name': 'U_u',\n",
       "   'meaning': \"Represents a function named 'U' with 'u' as a parameter. This could be a utility function, or another specific mathematical function depending on the context.\"},\n",
       "  {'name': '\\\\max', 'meaning': 'No meaning defined for \\\\max'}],\n",
       " 'Operators': [{'name': '\\\\in',\n",
       "   'meaning': \"A symbol used in set theory to denote membership; 'x \\\\in A' means x is an element of set A.\"},\n",
       "  {'name': '\\\\rightarrow',\n",
       "   'meaning': 'Denotes a function mapping or an implication in logical expressions. In functions, it can describe the mapping from one set to another.'},\n",
       "  {'name': '\\\\geq', 'meaning': 'No meaning defined for \\\\geq'},\n",
       "  {'name': '\\\\cdot',\n",
       "   'meaning': 'Represents multiplication in mathematical expressions.'},\n",
       "  {'name': '+', 'meaning': 'The basic arithmetic operator for addition.'}],\n",
       " 'Brackets': [{'name': '[',\n",
       "   'meaning': 'Used to denote the start of an interval or a list in mathematical expressions.'},\n",
       "  {'name': ']',\n",
       "   'meaning': 'Used to denote the end of an interval or a list in mathematical expressions.'},\n",
       "  {'name': '(',\n",
       "   'meaning': 'Used to start a grouping of expressions, affecting the order of operations in mathematical expressions.'},\n",
       "  {'name': ')',\n",
       "   'meaning': 'Used to end a grouping of expressions, affecting the order of operations in mathematical expressions.'},\n",
       "  {'name': '{',\n",
       "   'meaning': 'Used to start a set or a block of expressions, often used in defining functions or sets.'}],\n",
       " 'Misc': [{'name': '&',\n",
       "   'meaning': 'Represents a logical conjunction (AND) in various contexts.'}]}"
      ]
     },
     "execution_count": 131,
     "metadata": {},
     "output_type": "execute_result"
    }
   ],
   "source": [
    "import spacy\n",
    "\n",
    "# Load spaCy model (optional if needed for further NLP tasks)\n",
    "nlp = spacy.load(\"en_core_web_sm\")\n",
    "semantic_meanings = {\n",
    "    \"t\": \"Typically represents a variable for time in equations.\",\n",
    "    \"u\": \"A variable, possibly representing a specific quantity or parameter in a function.\",\n",
    "    \"U_u\": \"Represents a function named 'U' with 'u' as a parameter. This could be a utility function, or another specific mathematical function depending on the context.\",\n",
    "    \"max\": \"A mathematical function that returns the maximum value among its arguments.\",\n",
    "    \"Q_{U_{\\\\Omega^o_t}}\": \"A function 'Q' applied to another function or variable 'U' which itself depends on a set or parameter 'Ω^o_t'. This could represent a complex mathematical or statistical operation, possibly querying or calculating a specific value from a defined set or distribution.\",\n",
    "    \"\\\\in\": \"A symbol used in set theory to denote membership; 'x \\\\in A' means x is an element of set A.\",\n",
    "    \">=\": \"A relational operator meaning 'greater than or equal to'. It is used to denote inequality between two expressions.\",\n",
    "    \"\\\\cdot\": \"Represents multiplication in mathematical expressions.\",\n",
    "    \"+\": \"The basic arithmetic operator for addition.\",\n",
    "    \"[\": \"Used to denote the start of an interval or a list in mathematical expressions.\",\n",
    "    \"]\": \"Used to denote the end of an interval or a list in mathematical expressions.\",\n",
    "    \"(\": \"Used to start a grouping of expressions, affecting the order of operations in mathematical expressions.\",\n",
    "    \")\": \"Used to end a grouping of expressions, affecting the order of operations in mathematical expressions.\",\n",
    "    \"{\": \"Used to start a set or a block of expressions, often used in defining functions or sets.\",\n",
    "    \"\\\\rightarrow\": \"Denotes a function mapping or an implication in logical expressions. In functions, it can describe the mapping from one set to another.\",\n",
    "    \"&\": \"Represents a logical conjunction (AND) in various contexts.\"\n",
    "}\n",
    "\n",
    "def is_number(s):\n",
    "    \"\"\"Check if the string represents a number.\"\"\"\n",
    "    try:\n",
    "        float(s)\n",
    "        return True\n",
    "    except ValueError:\n",
    "        return False\n",
    "\n",
    "def extract_semantic_meanings(parsed_latex):\n",
    "    # Initialize the result dictionary\n",
    "    semantic_extraction = {}\n",
    "\n",
    "    # Iterate over each category and map the names to their meanings\n",
    "    for category, items in parsed_latex.items():\n",
    "        semantic_extraction[category] = []\n",
    "        for item in items:\n",
    "            if is_number(item):\n",
    "                meaning = \"A numerical constant, likely representing a specific value or parameter in the equation.\"\n",
    "            else:\n",
    "                meaning = semantic_meanings.get(item, f\"No meaning defined for {item}\")\n",
    "            semantic_extraction[category].append({\"name\": item, \"meaning\": meaning})\n",
    "\n",
    "    return semantic_extraction\n",
    "\n",
    "parsed_latex_dict = json.loads(output_structure)\n",
    "extract_semantic_meanings(parsed_latex_dict)"
   ]
  },
  {
   "cell_type": "code",
   "execution_count": 60,
   "id": "eef80066",
   "metadata": {},
   "outputs": [],
   "source": [
    "prompt_for_rule_based= f\"\"\"\n",
    "You are an AI model trained to translate mathematical and logical expressions into natural language explanations. Given the semantic output of a mathematical expression, your task is to generate a coherent English explanation. \n",
    "\n",
    "The semantic output will include various categories such as Functions, Operators, Variables/Constants, and more. Use the provided information to create a detailed, understandable explanation in plain English.\n",
    "\n",
    "Here is the semantic output:\n",
    "{semantic_explanations}\n",
    "\n",
    "Generate a natural language explanation for this semantic output, making sure to clarify each element's role in the expression.\n",
    "\n",
    "For example, translate the semantic representation: \n",
    "t in [0.000, 0.0361) -> U_u(omega_t^o) >= max(Q_U_Omega_t (-0.20 * t + 0.22), u_t_bar)\n",
    "\n",
    "into the natural language explanation:  \n",
    "\"At time t, within the range [0.000, 0.0361), the function U_u applied to omega_t^o must yield a value that is greater than or equal to the maximum value between Q_U_Omega_t of (-0.20 * t + 0.22) and the threshold utility u_t_bar.\"\n",
    "\n",
    "Please follow a similar structure and level of detail for the provided semantic output.\n",
    "\"\"\""
   ]
  },
  {
   "cell_type": "markdown",
   "id": "018df925",
   "metadata": {},
   "source": [
    "# Creating Rule based explanations"
   ]
  },
  {
   "cell_type": "code",
   "execution_count": 75,
   "id": "a2ae1525",
   "metadata": {},
   "outputs": [
    {
     "name": "stdout",
     "output_type": "stream",
     "text": [
      "Ensures that the utility function U applied to the maximum of time t the constant value 0.000 the constant value 0.0361 the variable omega_t^o the domain Q_U_Omega_t a utility threshold u_t_bar the constant value -0.20 the constant value 0.22 is within the range implies that is greater than or equal to multiplied by plus  meets either a calculated statistical value or a specified minimum utility requirement.\n"
     ]
    }
   ],
   "source": [
    "import re\n",
    "\n",
    "def generate_rule_based_explanation(semantic_extractions):\n",
    "    # Start with an empty explanation\n",
    "    explanation = \"Ensures that \"\n",
    "\n",
    "    # Create helper functions to handle specific parts of the explanation\n",
    "    def handle_functions(semantic_extractions):\n",
    "        func_explanation = \"\"\n",
    "        for func in semantic_extractions['Functions']:\n",
    "            if func['name'] == \"U_u\":\n",
    "                func_explanation += \"the utility function U applied to \"\n",
    "            elif func['name'] == \"max\":\n",
    "                func_explanation += \"the maximum of \"\n",
    "        return func_explanation\n",
    "\n",
    "    def handle_variables_constants(semantic_extractions):\n",
    "        var_const_explanation = \"\"\n",
    "        for var in semantic_extractions['Variables/Constants']:\n",
    "            if var['meaning'] == \"time\":\n",
    "                var_const_explanation += \"time t \"\n",
    "            elif var['meaning'] == \"velocity\":\n",
    "                var_const_explanation += \"velocity variable\"\n",
    "            elif var['meaning'] == \"variable\":\n",
    "                var_const_explanation += f\"the variable {var['name']} \"\n",
    "            elif var['meaning'] == \"domain\":\n",
    "                var_const_explanation += f\"the domain {var['name']} \"\n",
    "            elif var['meaning'] == \"utility\":\n",
    "                var_const_explanation += f\"a utility threshold {var['name']} \"\n",
    "            elif var['meaning'] == \"numeric\":\n",
    "                var_const_explanation += f\"the constant value {var['name']} \"\n",
    "        return var_const_explanation\n",
    "\n",
    "    def handle_operators(semantic_extractions):\n",
    "        op_explanation = \"\"\n",
    "        for op in semantic_extractions['Operators']:\n",
    "            if op['name'] == \">=\":\n",
    "                op_explanation += \"is greater than or equal to \"\n",
    "            elif op['name'] == \"->\":\n",
    "                op_explanation += \"implies that \"\n",
    "            elif op['name'] == \"in\":\n",
    "                op_explanation += \"is within the range \"\n",
    "            elif op['name'] == \"*\":\n",
    "                op_explanation += \"multiplied by \"\n",
    "            elif op['name'] == \"+\":\n",
    "                op_explanation += \"plus \"\n",
    "        return op_explanation\n",
    "\n",
    "    # Building the explanation by combining parts\n",
    "    explanation += handle_functions(semantic_extractions)\n",
    "    explanation += handle_variables_constants(semantic_extractions)\n",
    "    explanation += handle_operators(semantic_extractions)\n",
    "\n",
    "    # Add additional context or wrap-up the sentence if necessary\n",
    "    explanation += \" meets either a calculated statistical value or a specified minimum utility requirement.\"\n",
    "\n",
    "    # Return the final explanation\n",
    "    return explanation\n",
    "\n",
    "# Example usage with the provided semantic extraction\n",
    "semantic_extractions = {\n",
    "    'Brackets': [{'meaning': 'bracket', 'name': '['},\n",
    "                 {'meaning': 'bracket', 'name': ']'},\n",
    "                 {'meaning': 'bracket', 'name': '('},\n",
    "                 {'meaning': 'bracket', 'name': ')'}],\n",
    "    'Functions': [{'meaning': 'function', 'name': 'U_u'},\n",
    "                  {'meaning': 'function', 'name': 'max'}],\n",
    "    'Misc': [{'meaning': 'coordinating conjunction, connecting elements of equal rank', 'name': '&'}],\n",
    "    'Operators': [{'meaning': 'operator', 'name': 'in'},\n",
    "                  {'meaning': 'operator', 'name': '->'},\n",
    "                  {'meaning': 'operator', 'name': '>='},\n",
    "                  {'meaning': 'operator', 'name': '*'},\n",
    "                  {'meaning': 'operator', 'name': '+'}],\n",
    "    'Variables/Constants': [{'meaning': 'time', 'name': 't '},\n",
    "                            {'meaning': 'numeric', 'name': '0.000'},\n",
    "                            {'meaning': 'numeric', 'name': '0.0361'},\n",
    "                            {'meaning': 'variable', 'name': 'omega_t^o'},\n",
    "                            {'meaning': 'domain', 'name': 'Q_U_Omega_t'},\n",
    "                            {'meaning': 'utility', 'name': 'u_t_bar'},\n",
    "                            {'meaning': 'numeric', 'name': '-0.20'},\n",
    "                            {'meaning': 'numeric', 'name': '0.22'}]\n",
    "}\n",
    "\n",
    "# Generate the rule-based explanation\n",
    "explanation = generate_rule_based_explanation(semantic_extractions)\n",
    "print(explanation)\n"
   ]
  },
  {
   "cell_type": "code",
   "execution_count": 19,
   "id": "9d484a6b",
   "metadata": {},
   "outputs": [],
   "source": [
    "#evaluating rule based explanation"
   ]
  },
  {
   "cell_type": "code",
   "execution_count": 20,
   "id": "6c160b72",
   "metadata": {},
   "outputs": [],
   "source": [
    "#add a function to compare spacy and llm for semantic extraction"
   ]
  },
  {
   "cell_type": "code",
   "execution_count": 129,
   "id": "d6a29d6c",
   "metadata": {},
   "outputs": [],
   "source": [
    "import json\n",
    "\n",
    "def generate_rule_based_explanation_usingGPT(prompt_semantics):\n",
    "    \n",
    "    # Extract the semantic meaning using the provided function\n",
    "    \n",
    "    \n",
    "    # Format the semantic extraction into a JSON string\n",
    "    prompt = f\"\"\"\n",
    "Given the following semantic extraction of a parsed mathematical expression:\n",
    "\n",
    "{json.dumps(semantic_extraction, indent=2)}\n",
    "\n",
    "Based on the above semantic extraction, generate a rule-based explanation for the mathematical expression. The explanation should be clear, concise, and similar in structure to the following example:\n",
    "\n",
    "\"Ensures that \\( U_u(\\omega_t^o) \\) must meet either a fixed utility threshold \\( u \\) or another calculated statistical measure \\( Q \\) in the subsequent time interval [0.0361, 1.000].\"\n",
    "\n",
    "Please provide the rule-based explanation using the context and relationships identified in the semantic extraction.\n",
    "\"\"\"\n",
    "\n",
    "    response = client.chat.completions.create(\n",
    "        model=\"gpt-3.5-turbo\",\n",
    "        messages=[\n",
    "            {\n",
    "                \"role\": \"system\",\n",
    "                \"content\": \"You are an expert in analysis. You generate easy to understand rule-based explanations for mathematical expressions based on their semantic meanings \"\n",
    "            },\n",
    "            {\n",
    "                \"role\": \"user\",\n",
    "                \"content\": prompt\n",
    "            }\n",
    "        ],\n",
    "        max_tokens=500,\n",
    "        temperature=0.5,\n",
    "    )\n",
    "    \n",
    "    # Return the generated explanation\n",
    "    return response.choices[0].message.content\n",
    "\n",
    "    \n",
    "    \n",
    "    "
   ]
  },
  {
   "cell_type": "code",
   "execution_count": 130,
   "id": "bd609da7",
   "metadata": {},
   "outputs": [
    {
     "name": "stdout",
     "output_type": "stream",
     "text": [
      "\"Calculates the maximum value between the function \\( U_u \\) applied to \\( \\omega_t^o \\) and a specific quantile function \\( Q \\) of a distribution \\( U \\) indexed by a set or parameter \\( \\Omega^o_t \\), ensuring the result falls within the interval [0.10, 0.64].\"\n"
     ]
    }
   ],
   "source": [
    "semantic_extraction = extract_semantics(prompt_semantics)\n",
    "print(generate_rule_based_explanation_usingGPT(semantic_extraction))"
   ]
  },
  {
   "cell_type": "code",
   "execution_count": null,
   "id": "97001c69",
   "metadata": {},
   "outputs": [],
   "source": []
  },
  {
   "cell_type": "code",
   "execution_count": 77,
   "id": "b6209c9a",
   "metadata": {},
   "outputs": [],
   "source": [
    "semantic_extractions = extract_semantics(output_structure) "
   ]
  },
  {
   "cell_type": "code",
   "execution_count": 111,
   "id": "01580764",
   "metadata": {},
   "outputs": [
    {
     "data": {
      "text/plain": [
       "{'Variables/Constants': [{'name': 't',\n",
       "   'meaning': 'Typically represents a variable for time in equations.'},\n",
       "  {'name': '0.0361',\n",
       "   'meaning': 'A numerical constant, likely representing a specific value or parameter in the equation.'},\n",
       "  {'name': '1.000',\n",
       "   'meaning': 'A numerical constant, likely representing a specific value or parameter in the equation.'},\n",
       "  {'name': '\\\\omega_t^o', 'meaning': 'No meaning defined for \\\\omega_t^o'},\n",
       "  {'name': 'u',\n",
       "   'meaning': 'A variable, possibly representing a specific quantity or parameter in a function.'},\n",
       "  {'name': 'Q_{U_{\\\\Omega^o_t}}',\n",
       "   'meaning': \"A function 'Q' applied to another function or variable 'U' which itself depends on a set or parameter 'Ω^o_t'. This could represent a complex mathematical or statistical operation, possibly querying or calculating a specific value from a defined set or distribution.\"},\n",
       "  {'name': '-0.10',\n",
       "   'meaning': 'A numerical constant, likely representing a specific value or parameter in the equation.'},\n",
       "  {'name': '0.64',\n",
       "   'meaning': 'A numerical constant, likely representing a specific value or parameter in the equation.'}],\n",
       " 'Functions': [{'name': 'U_u',\n",
       "   'meaning': \"Represents a function named 'U' with 'u' as a parameter. This could be a utility function, or another specific mathematical function depending on the context.\"},\n",
       "  {'name': '\\\\max', 'meaning': 'No meaning defined for \\\\max'}],\n",
       " 'Operators': [{'name': '\\\\in',\n",
       "   'meaning': \"A symbol used in set theory to denote membership; 'x \\\\in A' means x is an element of set A.\"},\n",
       "  {'name': '\\\\rightarrow',\n",
       "   'meaning': 'Denotes a function mapping or an implication in logical expressions. In functions, it can describe the mapping from one set to another.'},\n",
       "  {'name': '\\\\geq', 'meaning': 'No meaning defined for \\\\geq'},\n",
       "  {'name': '\\\\cdot',\n",
       "   'meaning': 'Represents multiplication in mathematical expressions.'},\n",
       "  {'name': '+', 'meaning': 'The basic arithmetic operator for addition.'}],\n",
       " 'Brackets': [{'name': '[',\n",
       "   'meaning': 'Used to denote the start of an interval or a list in mathematical expressions.'},\n",
       "  {'name': ']',\n",
       "   'meaning': 'Used to denote the end of an interval or a list in mathematical expressions.'},\n",
       "  {'name': '(',\n",
       "   'meaning': 'Used to start a grouping of expressions, affecting the order of operations in mathematical expressions.'},\n",
       "  {'name': ')',\n",
       "   'meaning': 'Used to end a grouping of expressions, affecting the order of operations in mathematical expressions.'},\n",
       "  {'name': '{',\n",
       "   'meaning': 'Used to start a set or a block of expressions, often used in defining functions or sets.'}],\n",
       " 'Misc': [{'name': '&',\n",
       "   'meaning': 'Represents a logical conjunction (AND) in various contexts.'}]}"
      ]
     },
     "execution_count": 111,
     "metadata": {},
     "output_type": "execute_result"
    }
   ],
   "source": []
  },
  {
   "cell_type": "code",
   "execution_count": 110,
   "id": "5b046d28",
   "metadata": {},
   "outputs": [
    {
     "name": "stdout",
     "output_type": "stream",
     "text": [
      "{'Variables/Constants': ['t', '0.0361', '1.000', '\\\\omega_t^o', 'u', 'Q_{U_{\\\\Omega^o_t}}', '-0.10', '0.64'], 'Functions': ['U_u', '\\\\max'], 'Operators': ['\\\\in', '\\\\rightarrow', '\\\\geq', '\\\\cdot', '+'], 'Brackets': ['[', ']', '(', ')', '{'], 'Misc': ['&']}\n"
     ]
    }
   ],
   "source": [
    "import json\n",
    "\n",
    "# Example string representing the parsed LaTeX dictionary\n",
    "parsed_latex_str = '{\"Variables/Constants\": [\"t\", \"0.0361\", \"1.000\", \"u\", \"0.10\", \"0.64\"], \"Functions\": [\"U_u\", \"max\", \"Q_{U_{\\\\\\\\Omega^o_t}}\"], \"Operators\": [\"\\\\\\\\in\", \">=\", \"\\\\\\\\cdot\", \"+\"], \"Brackets\": [\"[\", \"]\", \"(\", \")\", \"{\"], \"Misc\": [\"\\\\\\\\rightarrow\", \"&\"]}'\n",
    "\n",
    "# Convert the string to a dictionary\n",
    "parsed_latex_dict = json.loads(output_structure)\n",
    "\n",
    "print(parsed_latex_dict)"
   ]
  },
  {
   "cell_type": "code",
   "execution_count": 117,
   "id": "5b8761a1",
   "metadata": {},
   "outputs": [
    {
     "name": "stdout",
     "output_type": "stream",
     "text": [
      "```json\n",
      "{\n",
      "  \"Variables/Constants\": [\n",
      "    {\n",
      "      \"name\": \"t\",\n",
      "      \"meaning\": \"Typically represents a variable for time in mathematical expressions.\"\n",
      "    },\n",
      "    {\n",
      "      \"name\": \"0.0361\",\n",
      "      \"meaning\": \"A constant value, possibly representing a fixed parameter or coefficient in an equation.\"\n",
      "    },\n",
      "    {\n",
      "      \"name\": \"1.000\",\n",
      "      \"meaning\": \"A constant, often used to represent a whole unit or 100% in equations.\"\n",
      "    },\n",
      "    {\n",
      "      \"name\": \"u\",\n",
      "      \"meaning\": \"Commonly used as a variable in equations, potentially representing an unknown quantity to be solved for.\"\n",
      "    },\n",
      "    {\n",
      "      \"name\": \"0.10\",\n",
      "      \"meaning\": \"A numerical constant, possibly representing a decimal fraction in an equation.\"\n",
      "    },\n",
      "    {\n",
      "      \"name\": \"0.64\",\n",
      "      \"meaning\": \"Another numerical constant, could be used as a probability, fraction, or parameter in a calculation.\"\n",
      "    }\n",
      "  ],\n",
      "  \"Functions\": [\n",
      "    {\n",
      "      \"name\": \"U_u\",\n",
      "      \"meaning\": \"Represents a function, possibly a utility function or other specific mathematical function, parameterized by 'u'.\"\n",
      "    },\n",
      "    {\n",
      "      \"name\": \"max\",\n",
      "      \"meaning\": \"A mathematical function that returns the maximum value among its arguments.\"\n",
      "    },\n",
      "    {\n",
      "      \"name\": \"Q_{U_{\\Omega^o_t}}\",\n",
      "      \"meaning\": \"Denotes a function 'Q' parameterized by 'U_{\\Omega^o_t}', which itself seems to be a function or a set related to 'Ω^o_t'. This could represent a specific operation or transformation in a given context, such as in statistics or probability theory.\"\n",
      "    }\n",
      "  ],\n",
      "  \"Operators\": [\n",
      "    {\n",
      "      \"name\": \"\\\\in\",\n",
      "      \"meaning\": \"A symbol used in set theory to denote membership, meaning 'is an element of'.\"\n",
      "    },\n",
      "    {\n",
      "      \"name\": \"\\\\rightarrow\",\n",
      "      \"meaning\": \"Represents a function mapping or logical implication in mathematical expressions.\"\n",
      "    },\n",
      "    {\n",
      "      \"name\": \"\\\\geq\",\n",
      "      \"meaning\": \"A relational operator meaning 'greater than or equal to'.\"\n",
      "    },\n",
      "    {\n",
      "      \"name\": \"\\\\cdot\",\n",
      "      \"meaning\": \"Represents multiplication in mathematical notation.\"\n",
      "    },\n",
      "    {\n",
      "      \"name\": \"+\",\n",
      "      \"meaning\": \"The basic arithmetic operator for addition.\"\n",
      "    }\n",
      "  ],\n",
      "  \"Brackets\": [\n",
      "    {\n",
      "      \"name\": \"[\",\n",
      "      \"meaning\": \"Used to denote the beginning of an interval or a list in mathematical expressions.\"\n",
      "    },\n",
      "    {\n",
      "      \"name\": \"]\",\n",
      "      \"meaning\": \"Used to denote the end of an interval or a list in mathematical expressions.\"\n",
      "    },\n",
      "    {\n",
      "      \"name\": \"(\",\n",
      "      \"meaning\": \"Used to start a grouping of expressions, altering the standard order of operations.\"\n",
      "    },\n",
      "    {\n",
      "      \"name\": \")\",\n",
      "      \"meaning\": \"Used to close a grouping of expressions, altering the standard order of operations.\"\n",
      "    },\n",
      "    {\n",
      "      \"name\": \"\\\\left(\",\n",
      "      \"meaning\": \"Used to begin a dynamically sized parenthesis for enclosing expressions in LaTeX.\"\n",
      "    },\n",
      "    {\n",
      "      \"name\": \"\\\\right)\",\n",
      "      \"meaning\": \"Used to end a dynamically sized parenthesis for enclosing expressions in LaTeX.\"\n",
      "    }\n",
      "  ],\n",
      "  \"Misc\": [\n",
      "    {\n",
      "      \"name\": \"\\\\omega_t^o\",\n",
      "      \"meaning\": \"Represents a specific variable or parameter, possibly in a scientific or mathematical context, where 'ω' is often used to denote angular frequency in physics, and the subscript and superscript might specify the conditions or a particular state of the variable at time 't'.\"\n",
      "    }\n",
      "  ]\n",
      "}\n",
      "```\n"
     ]
    }
   ],
   "source": [
    "print(extract_semantics(prompt_semantics))"
   ]
  },
  {
   "cell_type": "code",
   "execution_count": null,
   "id": "4ce6d5c0",
   "metadata": {},
   "outputs": [],
   "source": []
  },
  {
   "cell_type": "code",
   "execution_count": null,
   "id": "486caf57",
   "metadata": {},
   "outputs": [],
   "source": []
  }
 ],
 "metadata": {
  "kernelspec": {
   "display_name": "Python 3 (ipykernel)",
   "language": "python",
   "name": "python3"
  },
  "language_info": {
   "codemirror_mode": {
    "name": "ipython",
    "version": 3
   },
   "file_extension": ".py",
   "mimetype": "text/x-python",
   "name": "python",
   "nbconvert_exporter": "python",
   "pygments_lexer": "ipython3",
   "version": "3.10.9"
  }
 },
 "nbformat": 4,
 "nbformat_minor": 5
}

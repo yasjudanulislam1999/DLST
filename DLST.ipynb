{
 "cells": [
  {
   "cell_type": "code",
   "execution_count": 9,
   "id": "855cd1b3",
   "metadata": {},
   "outputs": [
    {
     "name": "stdout",
     "output_type": "stream",
     "text": [
      "Requirement already satisfied: openai in /Users/yasjudanulislam/anaconda3/lib/python3.10/site-packages (1.35.13)\r\n",
      "Requirement already satisfied: anyio<5,>=3.5.0 in /Users/yasjudanulislam/anaconda3/lib/python3.10/site-packages (from openai) (3.5.0)\r\n",
      "Requirement already satisfied: distro<2,>=1.7.0 in /Users/yasjudanulislam/anaconda3/lib/python3.10/site-packages (from openai) (1.9.0)\r\n",
      "Requirement already satisfied: httpx<1,>=0.23.0 in /Users/yasjudanulislam/anaconda3/lib/python3.10/site-packages (from openai) (0.27.0)\r\n",
      "Requirement already satisfied: pydantic<3,>=1.9.0 in /Users/yasjudanulislam/anaconda3/lib/python3.10/site-packages (from openai) (2.6.0)\r\n",
      "Requirement already satisfied: sniffio in /Users/yasjudanulislam/anaconda3/lib/python3.10/site-packages (from openai) (1.3.1)\r\n",
      "Requirement already satisfied: tqdm>4 in /Users/yasjudanulislam/anaconda3/lib/python3.10/site-packages (from openai) (4.64.1)\r\n",
      "Requirement already satisfied: typing-extensions<5,>=4.7 in /Users/yasjudanulislam/anaconda3/lib/python3.10/site-packages (from openai) (4.9.0)\r\n",
      "Requirement already satisfied: idna>=2.8 in /Users/yasjudanulislam/anaconda3/lib/python3.10/site-packages (from anyio<5,>=3.5.0->openai) (3.4)\r\n",
      "Requirement already satisfied: certifi in /Users/yasjudanulislam/anaconda3/lib/python3.10/site-packages (from httpx<1,>=0.23.0->openai) (2023.5.7)\r\n",
      "Requirement already satisfied: httpcore==1.* in /Users/yasjudanulislam/anaconda3/lib/python3.10/site-packages (from httpx<1,>=0.23.0->openai) (1.0.5)\r\n",
      "Requirement already satisfied: h11<0.15,>=0.13 in /Users/yasjudanulislam/anaconda3/lib/python3.10/site-packages (from httpcore==1.*->httpx<1,>=0.23.0->openai) (0.14.0)\r\n",
      "Requirement already satisfied: annotated-types>=0.4.0 in /Users/yasjudanulislam/anaconda3/lib/python3.10/site-packages (from pydantic<3,>=1.9.0->openai) (0.6.0)\r\n",
      "Requirement already satisfied: pydantic-core==2.16.1 in /Users/yasjudanulislam/anaconda3/lib/python3.10/site-packages (from pydantic<3,>=1.9.0->openai) (2.16.1)\r\n"
     ]
    }
   ],
   "source": [
    "!pip install openai"
   ]
  },
  {
   "cell_type": "code",
   "execution_count": 1,
   "id": "c5cbed0f",
   "metadata": {},
   "outputs": [],
   "source": [
    "from dotenv import load_dotenv\n",
    "import os"
   ]
  },
  {
   "cell_type": "code",
   "execution_count": 2,
   "id": "d397b1c1",
   "metadata": {},
   "outputs": [
    {
     "data": {
      "text/plain": [
       "True"
      ]
     },
     "execution_count": 2,
     "metadata": {},
     "output_type": "execute_result"
    }
   ],
   "source": [
    "load_dotenv()  # Load environment variables from the .env file"
   ]
  },
  {
   "cell_type": "code",
   "execution_count": 47,
   "id": "a2d51bf7",
   "metadata": {},
   "outputs": [
    {
     "name": "stdout",
     "output_type": "stream",
     "text": [
      "Requirement already satisfied: python-dotenv in /Users/yasjudanulislam/anaconda3/lib/python3.10/site-packages (1.0.1)\r\n"
     ]
    }
   ],
   "source": [
    "!pip install python-dotenv"
   ]
  },
  {
   "cell_type": "code",
   "execution_count": 3,
   "id": "c50d1e26",
   "metadata": {},
   "outputs": [
    {
     "name": "stdout",
     "output_type": "stream",
     "text": [
      "API Key Loaded: sk-proj-tCMGTwzPM59nqV7YlcGET3BlbkFJMR7t9RcSkHotmj0kpgaN\n"
     ]
    }
   ],
   "source": [
    "api_key = os.getenv('OPENAI_API_KEY')\n",
    "print(f\"API Key Loaded: {api_key}\")\n"
   ]
  },
  {
   "cell_type": "code",
   "execution_count": 7,
   "id": "b28a7bd5",
   "metadata": {},
   "outputs": [
    {
     "name": "stdout",
     "output_type": "stream",
     "text": [
      "Requirement already satisfied: OpenAI in /Users/yasjudanulislam/anaconda3/lib/python3.10/site-packages (1.35.13)\r\n",
      "Requirement already satisfied: anyio<5,>=3.5.0 in /Users/yasjudanulislam/anaconda3/lib/python3.10/site-packages (from OpenAI) (3.5.0)\r\n",
      "Requirement already satisfied: distro<2,>=1.7.0 in /Users/yasjudanulislam/anaconda3/lib/python3.10/site-packages (from OpenAI) (1.9.0)\r\n",
      "Requirement already satisfied: httpx<1,>=0.23.0 in /Users/yasjudanulislam/anaconda3/lib/python3.10/site-packages (from OpenAI) (0.27.0)\r\n",
      "Requirement already satisfied: pydantic<3,>=1.9.0 in /Users/yasjudanulislam/anaconda3/lib/python3.10/site-packages (from OpenAI) (2.6.0)\r\n",
      "Requirement already satisfied: sniffio in /Users/yasjudanulislam/anaconda3/lib/python3.10/site-packages (from OpenAI) (1.3.1)\r\n",
      "Requirement already satisfied: tqdm>4 in /Users/yasjudanulislam/anaconda3/lib/python3.10/site-packages (from OpenAI) (4.64.1)\r\n",
      "Requirement already satisfied: typing-extensions<5,>=4.7 in /Users/yasjudanulislam/anaconda3/lib/python3.10/site-packages (from OpenAI) (4.9.0)\r\n",
      "Requirement already satisfied: idna>=2.8 in /Users/yasjudanulislam/anaconda3/lib/python3.10/site-packages (from anyio<5,>=3.5.0->OpenAI) (3.4)\r\n",
      "Requirement already satisfied: certifi in /Users/yasjudanulislam/anaconda3/lib/python3.10/site-packages (from httpx<1,>=0.23.0->OpenAI) (2023.5.7)\r\n",
      "Requirement already satisfied: httpcore==1.* in /Users/yasjudanulislam/anaconda3/lib/python3.10/site-packages (from httpx<1,>=0.23.0->OpenAI) (1.0.5)\r\n",
      "Requirement already satisfied: h11<0.15,>=0.13 in /Users/yasjudanulislam/anaconda3/lib/python3.10/site-packages (from httpcore==1.*->httpx<1,>=0.23.0->OpenAI) (0.14.0)\r\n",
      "Requirement already satisfied: annotated-types>=0.4.0 in /Users/yasjudanulislam/anaconda3/lib/python3.10/site-packages (from pydantic<3,>=1.9.0->OpenAI) (0.6.0)\r\n",
      "Requirement already satisfied: pydantic-core==2.16.1 in /Users/yasjudanulislam/anaconda3/lib/python3.10/site-packages (from pydantic<3,>=1.9.0->OpenAI) (2.16.1)\r\n"
     ]
    }
   ],
   "source": [
    "!pip install OpenAI"
   ]
  },
  {
   "cell_type": "code",
   "execution_count": 24,
   "id": "0350f054",
   "metadata": {},
   "outputs": [
    {
     "name": "stdout",
     "output_type": "stream",
     "text": [
      "The mathematical expression for the given LaTeX expression is:\n",
      "\n",
      "∫₀¹ x² dx + Σ_(n=1)^(∞) 1/n² = π²/6\n"
     ]
    }
   ],
   "source": [
    "from openai import OpenAI\n",
    "client = OpenAI(\n",
    ")\n",
    "\n",
    "response = client.chat.completions.create(\n",
    "    messages=[\n",
    "        {\n",
    "            \"role\": \"user\",\n",
    "            \"content\": \"latex_expression = \\int_{0}^{1} x^2 \\, dx + \\sum_{n=1}^{\\infty} \\frac{1}{n^2} = \\frac{\\pi^2}{6}, parse this and give me the mathematical expression\"\n",
    "        }\n",
    "    ],\n",
    "    model=\"gpt-3.5-turbo\",\n",
    ")\n",
    "print(response.choices[0].message.content)"
   ]
  },
  {
   "cell_type": "code",
   "execution_count": 25,
   "id": "1f5281d9",
   "metadata": {},
   "outputs": [
    {
     "name": "stdout",
     "output_type": "stream",
     "text": [
      "{\n",
      "  \"Variables/Constants\": [\"t\", \"0.000\", \"0.0361\", \"\\omega_t^o\", \"Q_{U_{\\Omega^o_t}}\", \"-0.20\", \"0.22\", \"\\\\bar{u_t}\"],\n",
      "  \"Functions\": [\"U_u\", \"\\max\"],\n",
      "  \"Operators\": [\"\\in\", \"\\rightarrow\", \"\\geq\", \"\\cdot\"],\n",
      "  \"Brackets\": [\"[\", \"(\", \")\", \")\", \"(\"],\n",
      "  \"Misc\": []\n",
      "}\n"
     ]
    }
   ],
   "source": [
    "client = OpenAI(\n",
    ")\n",
    "\n",
    "def extract_structure(latex_expression):\n",
    "    \n",
    "    client = OpenAI()\n",
    "    response = client.chat.completions.create(\n",
    "        model=\"gpt-3.5-turbo\",\n",
    "        messages=[\n",
    "            {\n",
    "                \"role\": \"system\",\n",
    "                \"content\": \"You are a helpful assistant that parses LaTeX expressions and categorizes their components \"\n",
    "                    \"into the following structure: Variables/Constants, Functions, Operators, Brackets, and Misc. \"\n",
    "                    \"For each category, provide a list of items found in the LaTeX expression. The output should be a\"\n",
    "                    \"JSON object with the following keys: 'Variables/Constants', 'Functions', 'Operators', 'Brackets', 'Misc'. \"\n",
    "                    \"Numbers also fall under constants and variables and convert the Latex into mathematical expression\"\n",
    "                    \"Note the output should not contain Latex   \"\n",
    "            },\n",
    "            {\n",
    "                \"role\": \"user\",\n",
    "                \"content\": f\"Please parse the following LaTeX expression and provide the categorized output structure: {latex_expression}\"\n",
    "            }\n",
    "        ],\n",
    "        max_tokens=500,\n",
    "        temperature=0.5,\n",
    "    )\n",
    "\n",
    "    return response.choices[0].message.content\n",
    "\n",
    "# Provided LaTeX expression\n",
    "latex_expression = r\"t \\in [0.000, 0.0361) \\rightarrow & U_u(\\omega_t^o) \\geq \\max\\left(Q_{U_{\\Omega^o_t}} (-0.20 \\cdot t + 0.22), \\bar{u_t}\\right)\\\\\"\n",
    "\n",
    "# Get the output structure from the API\n",
    "output_structure = extract_structure(latex_expression)\n",
    "print(output_structure)\n"
   ]
  },
  {
   "cell_type": "code",
   "execution_count": 26,
   "id": "53b2526b",
   "metadata": {},
   "outputs": [
    {
     "data": {
      "text/plain": [
       "'{\\n  \"Variables/Constants\": [\"t\", \"0.000\", \"0.0361\", \"\\\\omega_t^o\", \"Q_{U_{\\\\Omega^o_t}}\", \"-0.20\", \"0.22\", \"\\\\\\\\bar{u_t}\"],\\n  \"Functions\": [\"U_u\", \"\\\\max\"],\\n  \"Operators\": [\"\\\\in\", \"\\\\rightarrow\", \"\\\\geq\", \"\\\\cdot\"],\\n  \"Brackets\": [\"[\", \"(\", \")\", \")\", \"(\"],\\n  \"Misc\": []\\n}'"
      ]
     },
     "execution_count": 26,
     "metadata": {},
     "output_type": "execute_result"
    }
   ],
   "source": [
    "output_structure"
   ]
  },
  {
   "cell_type": "code",
   "execution_count": 27,
   "id": "6ceb9673",
   "metadata": {},
   "outputs": [],
   "source": [
    "def convert_output_to_latex(output_structure):\n",
    "    response = client.chat.completions.create(\n",
    "        model=\"gpt-3.5-turbo\",\n",
    "        messages=[\n",
    "            {\n",
    "                \"role\": \"system\",\n",
    "                \"content\": \"you are given a JSON format which contains \"\n",
    "            },\n",
    "            {\n",
    "                \"role\": \"user\",\n",
    "                \"content\": f\"Please parse the following LaTeX expression and provide the categorized output structure: {latex_expression}\"\n",
    "            }\n",
    "        ],\n",
    "        max_tokens=500,\n",
    "        temperature=0.5,\n",
    "    )\n",
    "\n",
    "    return response.choices[0].message.content\n",
    "    \n",
    "    "
   ]
  },
  {
   "cell_type": "code",
   "execution_count": 96,
   "id": "3796ffdf",
   "metadata": {},
   "outputs": [
    {
     "name": "stderr",
     "output_type": "stream",
     "text": [
      "/Users/yasjudanulislam/anaconda3/lib/python3.10/site-packages/tqdm/auto.py:22: TqdmWarning: IProgress not found. Please update jupyter and ipywidgets. See https://ipywidgets.readthedocs.io/en/stable/user_install.html\n",
      "  from .autonotebook import tqdm as notebook_tqdm\n"
     ]
    }
   ],
   "source": [
    "import spacy"
   ]
  },
  {
   "cell_type": "code",
   "execution_count": 28,
   "id": "dbf011d3",
   "metadata": {},
   "outputs": [],
   "source": [
    "def extract_semantics(prompt):\n",
    "    \n",
    "    \n",
    "    \n",
    "    \n",
    "    response = client.chat.completions.create(\n",
    "        model=\"gpt-4-turbo\",\n",
    "        messages=[\n",
    "            {\n",
    "                \"role\": \"system\",\n",
    "                \"content\": \"You are a helpful assistant.\"\n",
    "            },\n",
    "            {\n",
    "                \"role\": \"user\",\n",
    "                \"content\": prompt\n",
    "            }\n",
    "        ],\n",
    "        max_tokens=1500,\n",
    "        temperature=0.5,\n",
    "    )\n",
    "\n",
    "    return response.choices[0].message.content"
   ]
  },
  {
   "cell_type": "code",
   "execution_count": 33,
   "id": "6a5e038d",
   "metadata": {},
   "outputs": [],
   "source": [
    "parsed_output = extract_structure(latex_expression)\n",
    "prompt = (\n",
    "        \"The following is a JSON object with categorized components of a LaTeX expression. \"\n",
    "        \"Please provide detailed semantic meanings for each item in the JSON. The categories are: \"\n",
    "        \"Variables/Constants, Functions, Operators, Brackets, and Misc. \"\n",
    "        \"For each item, provide its name and a detailed description of its meaning.\\n\\n\"\n",
    "        f\"{parsed_output}\\n\\n\"\n",
    "        \"Provide the output in the following JSON format:\"\n",
    "        \"{\"\n",
    "        '  \"Variables/Constants\": ['\n",
    "        '    {\"name\": \"item_name\", \"meaning\": \"item_meaning\"}'\n",
    "        '  ],'\n",
    "        '  \"Functions\": '\n",
    "        '    {\"name\": \"item_name\", \"meaning\": \"item_meaning\"}'\n",
    "        '  ],'\n",
    "        '  \"Operators\": ['\n",
    "        '    {\"name\": \"item_name\", \"meaning\": \"item_meaning\"}'\n",
    "        '  ],'\n",
    "        '  \"Brackets\": ['\n",
    "        '    {\"name\": \"item_name\", \"meaning\": \"item_meaning\"}'\n",
    "        '  ],'\n",
    "        '  \"Misc\": ['\n",
    "        '    {\"name\": \"item_name\", \"meaning\": \"item_meaning\"}'\n",
    "        '  ]'\n",
    "        \"}\"\n",
    "    )"
   ]
  },
  {
   "cell_type": "code",
   "execution_count": 34,
   "id": "510fb7c4",
   "metadata": {},
   "outputs": [
    {
     "name": "stdout",
     "output_type": "stream",
     "text": [
      "Here is the detailed semantic meanings for each item in the provided JSON object:\n",
      "\n",
      "```json\n",
      "{\n",
      "  \"Variables/Constants\": [\n",
      "    {\"name\": \"t\", \"meaning\": \"Typically represents a variable, often used to denote time.\"},\n",
      "    {\"name\": \"0.000\", \"meaning\": \"A constant value, representing zero in a decimal format.\"},\n",
      "    {\"name\": \"0.0361\", \"meaning\": \"A constant value, possibly representing a measurement, parameter, or specific result in decimal format.\"},\n",
      "    {\"name\": \"\\\\omega_t^o\", \"meaning\": \"A variable often used in physics and engineering, representing angular frequency at time 't' with a specific condition denoted by superscript 'o'.\"},\n",
      "    {\"name\": \"U_u\", \"meaning\": \"Represents a variable, possibly a specific measurement or parameter in a given context, such as velocity or energy.\"},\n",
      "    {\"name\": \"Q_{U_{\\\\Omega^o_t}}\", \"meaning\": \"A variable representing a function or quantity 'Q' related to 'U' which is dependent on another variable '\\\\Omega^o_t', indicating a nested or hierarchical parameter dependency.\"},\n",
      "    {\"name\": \"-0.20\", \"meaning\": \"A negative constant, representing a value or coefficient in calculations.\"},\n",
      "    {\"name\": \"0.22\", \"meaning\": \"A positive constant, representing a value or coefficient in calculations.\"},\n",
      "    {\"name\": \"\\\\bar{u_t}\", \"meaning\": \"Represents the average or mean value of the variable 'u' at time 't'.\"}\n",
      "  ],\n",
      "  \"Functions\": [\n",
      "    {\"name\": \"\\\\max\", \"meaning\": \"A mathematical function that returns the maximum value among its arguments.\"}\n",
      "  ],\n",
      "  \"Operators\": [\n",
      "    {\"name\": \"\\\\in\", \"meaning\": \"A mathematical operator denoting membership, e.g., 'x \\\\in S' means 'x is an element of set S'.\"},\n",
      "    {\"name\": \"\\\\rightarrow\", \"meaning\": \"A mathematical symbol used to denote a function mapping or implication between expressions.\"},\n",
      "    {\"name\": \"\\\\geq\", \"meaning\": \"A relational operator meaning 'greater than or equal to'.\"},\n",
      "    {\"name\": \"\\\\cdot\", \"meaning\": \"A multiplication operator, typically used in mathematical expressions to denote scalar or dot product.\"}\n",
      "  ],\n",
      "  \"Brackets\": [\n",
      "    {\"name\": \"[\", \"meaning\": \"A left square bracket, used to denote the start of an interval or array index.\"},\n",
      "    {\"name\": \"(\", \"meaning\": \"A left parenthesis, used to group expressions or denote the start of function arguments.\"},\n",
      "    {\"name\": \")\", \"meaning\": \"A right parenthesis, used to close a grouping of expressions or end function arguments.\"},\n",
      "    {\"name\": \"{\", \"meaning\": \"A left curly brace, used to denote the beginning of a set or to group expressions in a context where precedence needs to be controlled.\"},\n",
      "    {\"name\": \"}\", \"meaning\": \"A right curly brace, used to denote the end of a set or grouping of expressions.\"}\n",
      "  ],\n",
      "  \"Misc\": []\n",
      "}\n",
      "```\n"
     ]
    }
   ],
   "source": [
    "print(extract_semantics(prompt))"
   ]
  },
  {
   "cell_type": "code",
   "execution_count": 135,
   "id": "5ae68879",
   "metadata": {},
   "outputs": [
    {
     "data": {
      "text/plain": [
       "'{\\n  \"Variables/Constants\": [\"t\", \"0.000\", \"0.0361\", \"\\\\omega_t^o\", \"-0.20\", \"0.22\", \"\\\\bar{u_t}\"],\\n  \"Functions\": [\"U_u\", \"Q_{U_{\\\\Omega^o_t}}\", \"\\\\max\"],\\n  \"Operators\": [\"\\\\in\", \"\\\\rightarrow\", \"\\\\geq\", \"\\\\cdot\", \"+\"],\\n  \"Brackets\": [\"[\", \"]\", \"(\", \")\", \"{\", \"}\"],\\n  \"Misc\": []\\n}'"
      ]
     },
     "execution_count": 135,
     "metadata": {},
     "output_type": "execute_result"
    }
   ],
   "source": [
    "output_structure"
   ]
  },
  {
   "cell_type": "code",
   "execution_count": 30,
   "id": "5001e69f",
   "metadata": {},
   "outputs": [
    {
     "name": "stdout",
     "output_type": "stream",
     "text": [
      "{'Brackets': [{'meaning': 'unidentified element', 'name': '['},\n",
      "              {'meaning': 'punctuation, used for structure and separation',\n",
      "               'name': ']'},\n",
      "              {'meaning': 'punctuation, used for structure and separation',\n",
      "               'name': '('},\n",
      "              {'meaning': 'punctuation, used for structure and separation',\n",
      "               'name': ')'}],\n",
      " 'Functions': [{'meaning': 'unidentified element', 'name': 'U_u'},\n",
      "               {'meaning': 'unidentified element', 'name': 'max'}],\n",
      " 'Misc': [{'meaning': 'coordinating conjunction, connecting elements of equal '\n",
      "                      'rank',\n",
      "           'name': '&'}],\n",
      " 'Operators': [{'meaning': 'preposition, indicating a relationship between '\n",
      "                           'elements',\n",
      "                'name': 'in'},\n",
      "               {'meaning': 'punctuation, used for structure and separation',\n",
      "                'name': '->'},\n",
      "               {'meaning': 'unidentified element', 'name': '>='},\n",
      "               {'meaning': 'punctuation, used for structure and separation',\n",
      "                'name': '*'},\n",
      "               {'meaning': 'unidentified element', 'name': '+'}],\n",
      " 'Variables/Constants': [{'meaning': 'unidentified element', 'name': 't'},\n",
      "                         {'meaning': 'unidentified element', 'name': 'v'},\n",
      "                         {'meaning': 'numeric constant', 'name': '0.000'},\n",
      "                         {'meaning': 'numeric constant', 'name': '0.0361'},\n",
      "                         {'meaning': 'noun, potentially a variable or a named '\n",
      "                                     'entity',\n",
      "                          'name': 'omega_t^o'},\n",
      "                         {'meaning': 'unidentified element',\n",
      "                          'name': 'Q_U_Omega_t'},\n",
      "                         {'meaning': 'unidentified element', 'name': 'u_t_bar'},\n",
      "                         {'meaning': 'numeric constant', 'name': '-0.20'},\n",
      "                         {'meaning': 'numeric constant', 'name': '0.22'}]}\n"
     ]
    }
   ],
   "source": [
    "import spacy\n",
    "from spacy.matcher import Matcher\n",
    "\n",
    "# Load the spaCy language model\n",
    "nlp = spacy.load(\"en_core_web_sm\")\n",
    "\n",
    "# Define the context dictionary for semantic meanings\n",
    "context_dict = {\n",
    "    \"t\": \"time variable\",\n",
    "    \"v\": \"velocity variable\",\n",
    "    \"omega\": \"a variable related to omega, possibly indicating a weighted term\",\n",
    "    \"Q_U_Omega_t\": \"a domain or space indexed by time t, could denote a set of possible outcomes or states\",\n",
    "    \"u_t_bar\": \"an average or threshold utility over time t\",\n",
    "    \"ū_t\": \"an average or threshold utility over time t\",\n",
    "    \"U_u\": \"utility function\",\n",
    "    \"max\": \"maximum function\"\n",
    "}\n",
    "\n",
    "# Example parsed expression\n",
    "parsed_output = {\n",
    "    \"Variables/Constants\": [\"t\", \"v\", \"0.000\", \"0.0361\", \"omega_t^o\", \"Q_U_Omega_t\", \"u_t_bar\", \"-0.20\", \"0.22\"],\n",
    "    \"Functions\": [\"U_u\", \"max\"],\n",
    "    \"Operators\": [\"in\", \"->\", \">=\", \"*\", \"+\"],\n",
    "    \"Brackets\": [\"[\", \"]\", \"(\", \")\"],\n",
    "    \"Misc\": [\"&\"]\n",
    "}\n",
    "\n",
    "# Initialize the matcher with the shared vocabulary\n",
    "matcher = Matcher(nlp.vocab)\n",
    "\n",
    "# Add patterns to the matcher\n",
    "patterns = [\n",
    "    {\"label\": \"TIME\", \"pattern\": [{\"LOWER\": \"t\"}]},\n",
    "    {\"label\": \"VELOCITY\", \"pattern\": [{\"LOWER\": \"v\"}]},\n",
    "    {\"label\": \"OMEGA\", \"pattern\": [{\"LOWER\": \"omega\"}]},\n",
    "    {\"label\": \"DOMAIN\", \"pattern\": [{\"LOWER\": \"q_u_omega_t\"}]},\n",
    "    {\"label\": \"UTILITY\", \"pattern\": [{\"LOWER\": \"u_t_bar\"}]},\n",
    "    {\"label\": \"UTILITY\", \"pattern\": [{\"LOWER\": \"ū_t\"}]},\n",
    "    {\"label\": \"FUNCTION\", \"pattern\": [{\"LOWER\": \"u_u\"}]},\n",
    "    {\"label\": \"FUNCTION\", \"pattern\": [{\"LOWER\": \"max\"}]}\n",
    "]\n",
    "\n",
    "for pattern in patterns:\n",
    "    matcher.add(pattern[\"label\"], [pattern[\"pattern\"]])\n",
    "\n",
    "# Function to identify semantic meaning using spaCy and context\n",
    "def spacy_identify_role(node, context):\n",
    "    doc = nlp(node)\n",
    "    matches = matcher(doc)\n",
    "    \n",
    "    # Check for matches with patterns\n",
    "    for match_id, start, end in matches:\n",
    "        label = nlp.vocab.strings[match_id]\n",
    "        return context.get(label.lower(), \"unidentified element\")\n",
    "\n",
    "    # General rules based on part-of-speech tagging and dependency parsing\n",
    "    token = doc[0]\n",
    "    if token.pos_ == 'NUM':\n",
    "        return \"numeric constant\"\n",
    "    elif token.pos_ == 'SYM':\n",
    "        return \"symbol\"\n",
    "    elif token.pos_ == 'NOUN':\n",
    "        return \"noun, potentially a variable or a named entity\"\n",
    "    elif token.pos_ == 'VERB':\n",
    "        return \"a function, performing an action or calculation\"\n",
    "    elif token.pos_ == 'ADP':\n",
    "        return \"preposition, indicating a relationship between elements\"\n",
    "    elif token.pos_ == 'PUNCT':\n",
    "        return \"punctuation, used for structure and separation\"\n",
    "    elif token.pos_ == 'AUX':\n",
    "        return \"auxiliary, helping to form a tense, mood, or voice\"\n",
    "    elif token.pos_ == 'CCONJ':\n",
    "        return \"coordinating conjunction, connecting elements of equal rank\"\n",
    "    elif token.pos_ == 'SCONJ':\n",
    "        return \"subordinating conjunction, connecting dependent clauses\"\n",
    "    else:\n",
    "        return \"unidentified element\"\n",
    "\n",
    "# Function to extract semantic meaning\n",
    "def extract_semantic_meaning(structure, context):\n",
    "    semantic_rep = {}\n",
    "    for category, items in structure.items():\n",
    "        semantic_rep[category] = []\n",
    "        for node in items:\n",
    "            semantic_tag = spacy_identify_role(node, context)\n",
    "            semantic_rep[category].append({\"name\": node, \"meaning\": semantic_tag})\n",
    "    return semantic_rep\n",
    "\n",
    "# Extract semantic meanings using the defined function and context\n",
    "semantic_explanations = extract_semantic_meaning(parsed_output, context_dict)\n",
    "\n",
    "import pprint\n",
    "pprint.pprint(semantic_explanations)\n"
   ]
  },
  {
   "cell_type": "code",
   "execution_count": 138,
   "id": "0e7bb0e3",
   "metadata": {},
   "outputs": [
    {
     "name": "stdout",
     "output_type": "stream",
     "text": [
      "{'Brackets': [{'meaning': 'unidentified element', 'name': '['},\n",
      "              {'meaning': 'punctuation, used for structure and separation',\n",
      "               'name': ']'},\n",
      "              {'meaning': 'punctuation, used for structure and separation',\n",
      "               'name': '('},\n",
      "              {'meaning': 'punctuation, used for structure and separation',\n",
      "               'name': ')'}],\n",
      " 'Functions': [{'meaning': 'unidentified element', 'name': 'U_u'},\n",
      "               {'meaning': 'maximum function', 'name': 'max'}],\n",
      " 'Misc': [{'meaning': 'coordinating conjunction, connecting elements of equal '\n",
      "                      'rank',\n",
      "           'name': '&'}],\n",
      " 'Operators': [{'meaning': 'preposition, indicating a relationship between '\n",
      "                           'elements',\n",
      "                'name': 'in'},\n",
      "               {'meaning': 'punctuation, used for structure and separation',\n",
      "                'name': '->'},\n",
      "               {'meaning': 'unidentified element', 'name': '>='},\n",
      "               {'meaning': 'punctuation, used for structure and separation',\n",
      "                'name': '*'},\n",
      "               {'meaning': 'unidentified element', 'name': '+'}],\n",
      " 'Variables/Constants': [{'meaning': 'time variable', 'name': 't'},\n",
      "                         {'meaning': 'velocity variable', 'name': 'v'},\n",
      "                         {'meaning': 'numeric constant', 'name': '0.000'},\n",
      "                         {'meaning': 'numeric constant', 'name': '0.0361'},\n",
      "                         {'meaning': 'noun, potentially a variable or a named '\n",
      "                                     'entity',\n",
      "                          'name': 'omega_t^o'},\n",
      "                         {'meaning': 'unidentified element',\n",
      "                          'name': 'Q_U_Omega_t'},\n",
      "                         {'meaning': 'an average or threshold utility over '\n",
      "                                     'time t',\n",
      "                          'name': 'u_t_bar'},\n",
      "                         {'meaning': 'numeric constant', 'name': '-0.20'},\n",
      "                         {'meaning': 'numeric constant', 'name': '0.22'}]}\n"
     ]
    }
   ],
   "source": [
    "import spacy\n",
    "from spacy.matcher import Matcher\n",
    "\n",
    "# Load the spaCy language model\n",
    "nlp = spacy.load(\"en_core_web_sm\")\n",
    "\n",
    "# Define the context dictionary for semantic meanings\n",
    "context_dict = {\n",
    "    \"t\": \"time variable\",\n",
    "    \"v\": \"velocity variable\",\n",
    "    \"omega\": \"a variable related to omega, possibly indicating a weighted term\",\n",
    "    \"Q_U_Omega_t\": \"a domain or space indexed by time t, could denote a set of possible outcomes or states\",\n",
    "    \"u_t_bar\": \"an average or threshold utility over time t\",\n",
    "    \"ū_t\": \"an average or threshold utility over time t\",\n",
    "    \"U_u\": \"utility function\",\n",
    "    \"max\": \"maximum function\"\n",
    "}\n",
    "\n",
    "# Example parsed expression\n",
    "parsed_output = {\n",
    "    \"Variables/Constants\": [\"t\", \"v\", \"0.000\", \"0.0361\", \"omega_t^o\", \"Q_U_Omega_t\", \"u_t_bar\", \"-0.20\", \"0.22\"],\n",
    "    \"Functions\": [\"U_u\", \"max\"],\n",
    "    \"Operators\": [\"in\", \"->\", \">=\", \"*\", \"+\"],\n",
    "    \"Brackets\": [\"[\", \"]\", \"(\", \")\"],\n",
    "    \"Misc\": [\"&\"]\n",
    "}\n",
    "\n",
    "# Initialize the matcher with the shared vocabulary\n",
    "matcher = Matcher(nlp.vocab)\n",
    "\n",
    "# Function to generate patterns based on context dictionary\n",
    "def generate_patterns(context):\n",
    "    patterns = []\n",
    "    for key in context:\n",
    "        pattern = [{\"LOWER\": key.lower()}]\n",
    "        patterns.append({\"label\": key.upper(), \"pattern\": pattern})\n",
    "    return patterns\n",
    "\n",
    "# Add generated patterns to the matcher\n",
    "patterns = generate_patterns(context_dict)\n",
    "for pattern in patterns:\n",
    "    matcher.add(pattern[\"label\"], [pattern[\"pattern\"]])\n",
    "\n",
    "# Function to identify semantic meaning using spaCy and context\n",
    "def spacy_identify_role(node, context):\n",
    "    doc = nlp(node)\n",
    "    matches = matcher(doc)\n",
    "    \n",
    "    # Check for matches with patterns\n",
    "    for match_id, start, end in matches:\n",
    "        label = nlp.vocab.strings[match_id]\n",
    "        return context.get(label.lower(), \"unidentified element\")\n",
    "\n",
    "    # General rules based on part-of-speech tagging and dependency parsing\n",
    "    token = doc[0]\n",
    "    if token.pos_ == 'NUM':\n",
    "        return \"numeric constant\"\n",
    "    elif token.pos_ == 'SYM':\n",
    "        return \"symbol\"\n",
    "    elif token.pos_ == 'NOUN':\n",
    "        return \"noun, potentially a variable or a named entity\"\n",
    "    elif token.pos_ == 'VERB':\n",
    "        return \"a function, performing an action or calculation\"\n",
    "    elif token.pos_ == 'ADP':\n",
    "        return \"preposition, indicating a relationship between elements\"\n",
    "    elif token.pos_ == 'PUNCT':\n",
    "        return \"punctuation, used for structure and separation\"\n",
    "    elif token.pos_ == 'AUX':\n",
    "        return \"auxiliary, helping to form a tense, mood, or voice\"\n",
    "    elif token.pos_ == 'CCONJ':\n",
    "        return \"coordinating conjunction, connecting elements of equal rank\"\n",
    "    elif token.pos_ == 'SCONJ':\n",
    "        return \"subordinating conjunction, connecting dependent clauses\"\n",
    "    else:\n",
    "        return \"unidentified element\"\n",
    "\n",
    "# Function to extract semantic meaning\n",
    "def extract_semantic_meaning(structure, context):\n",
    "    semantic_rep = {}\n",
    "    for category, items in structure.items():\n",
    "        semantic_rep[category] = []\n",
    "        for node in items:\n",
    "            semantic_tag = spacy_identify_role(node, context)\n",
    "            semantic_rep[category].append({\"name\": node, \"meaning\": semantic_tag})\n",
    "    return semantic_rep\n",
    "\n",
    "# Extract semantic meanings using the defined function and context\n",
    "semantic_explanations = extract_semantic_meaning(parsed_output, context_dict)\n",
    "\n",
    "import pprint\n",
    "pprint.pprint(semantic_explanations)\n"
   ]
  },
  {
   "cell_type": "code",
   "execution_count": 20,
   "id": "08682a80",
   "metadata": {},
   "outputs": [
    {
     "name": "stdout",
     "output_type": "stream",
     "text": [
      "{'Brackets': [{'meaning': 'root of the expression', 'name': '['},\n",
      "              {'meaning': 'root of the expression', 'name': ']'},\n",
      "              {'meaning': 'root of the expression', 'name': '('},\n",
      "              {'meaning': 'root of the expression', 'name': ')'}],\n",
      " 'Functions': [{'meaning': 'unidentified element', 'name': 'U_u'},\n",
      "               {'meaning': 'maximum function', 'name': 'max'}],\n",
      " 'Misc': [{'meaning': 'root of the expression', 'name': '&'}],\n",
      " 'Operators': [{'meaning': 'root of the expression', 'name': 'in'},\n",
      "               {'meaning': 'punctuation, used for structure and separation',\n",
      "                'name': '->'},\n",
      "               {'meaning': 'root of the expression', 'name': '>='},\n",
      "               {'meaning': 'root of the expression', 'name': '*'},\n",
      "               {'meaning': 'root of the expression', 'name': '+'}],\n",
      " 'Variables/Constants': [{'meaning': 'time variable', 'name': 't'},\n",
      "                         {'meaning': 'root of the expression', 'name': 'v'},\n",
      "                         {'meaning': 'root of the expression', 'name': '0.000'},\n",
      "                         {'meaning': 'root of the expression',\n",
      "                          'name': '0.0361'},\n",
      "                         {'meaning': 'root of the expression',\n",
      "                          'name': 'omega_t^o'},\n",
      "                         {'meaning': 'unidentified element',\n",
      "                          'name': 'Q_U_Omega_t'},\n",
      "                         {'meaning': 'an average or threshold utility over '\n",
      "                                     'time t',\n",
      "                          'name': 'u_t_bar'},\n",
      "                         {'meaning': 'root of the expression', 'name': '-0.20'},\n",
      "                         {'meaning': 'root of the expression', 'name': '0.22'}]}\n"
     ]
    }
   ],
   "source": [
    "import spacy\n",
    "from spacy.matcher import Matcher\n",
    "from spacy.tokens import Span\n",
    "\n",
    "# Load the spaCy language model\n",
    "nlp = spacy.load(\"en_core_web_sm\")\n",
    "\n",
    "# Define the context dictionary for semantic meanings\n",
    "context_dict = {\n",
    "    \"t\": \"time variable\",\n",
    "    \"omega\": \"a variable related to omega, possibly indicating a weighted term\",\n",
    "    \"Q_U_Omega_t\": \"a domain or space indexed by time t, could denote a set of possible outcomes or states\",\n",
    "    \"u_t_bar\": \"an average or threshold utility over time t\",\n",
    "    \"ū_t\": \"an average or threshold utility over time t\",\n",
    "    \"U_u\": \"utility function\",\n",
    "    \"max\": \"maximum function\"\n",
    "}\n",
    "\n",
    "# Example parsed expression\n",
    "parsed_output = {\n",
    "    \"Variables/Constants\": [\"t\", \"v\", \"0.000\", \"0.0361\", \"omega_t^o\", \"Q_U_Omega_t\", \"u_t_bar\", \"-0.20\", \"0.22\"],\n",
    "    \"Functions\": [\"U_u\", \"max\"],\n",
    "    \"Operators\": [\"in\", \"->\", \">=\", \"*\", \"+\"],\n",
    "    \"Brackets\": [\"[\", \"]\", \"(\", \")\"],\n",
    "    \"Misc\": [\"&\"]\n",
    "}\n",
    "\n",
    "# Initialize the matcher with the shared vocabulary\n",
    "matcher = Matcher(nlp.vocab)\n",
    "\n",
    "# Function to generate patterns based on context dictionary\n",
    "def generate_patterns(context):\n",
    "    patterns = []\n",
    "    for key in context:\n",
    "        pattern = [{\"LOWER\": key.lower()}]\n",
    "        patterns.append({\"label\": key.upper(), \"pattern\": pattern})\n",
    "    return patterns\n",
    "\n",
    "# Add generated patterns to the matcher\n",
    "patterns = generate_patterns(context_dict)\n",
    "for pattern in patterns:\n",
    "    matcher.add(pattern[\"label\"], [pattern[\"pattern\"]])\n",
    "\n",
    "# Function to identify semantic meaning using spaCy and context\n",
    "# spacy_identify_role(node, context): This function processes each node using spaCy, applies rule-based matching to identify specific patterns, and uses dependency parsing to provide a context-specific semantic description. It also uses general rules based on part-of-speech tagging.\n",
    "\n",
    "def spacy_identify_role(node, context):\n",
    "    doc = nlp(node)\n",
    "    matches = matcher(doc)\n",
    "    \n",
    "    # Check for matches with patterns\n",
    "    for match_id, start, end in matches:\n",
    "        label = nlp.vocab.strings[match_id]\n",
    "        return context.get(label.lower(), \"unidentified element\")\n",
    "    \n",
    "    # Use dependency parsing to add more context\n",
    "    if doc[0].dep_ == 'nsubj':\n",
    "        return \"subject of the expression\"\n",
    "    elif doc[0].dep_ == 'dobj':\n",
    "        return \"object of the expression\"\n",
    "    elif doc[0].dep_ == 'ROOT':\n",
    "        return \"root of the expression\"\n",
    "    \n",
    "    # General rules based on part-of-speech tagging and dependency parsing\n",
    "    token = doc[0]\n",
    "    if token.pos_ == 'NUM':\n",
    "        return \"numeric constant\"\n",
    "    elif token.pos_ == 'SYM':\n",
    "        return \"symbol\"\n",
    "    elif token.pos_ == 'NOUN':\n",
    "        return \"noun, potentially a variable or a named entity\"\n",
    "    elif token.pos_ == 'VERB':\n",
    "        return \"a function, performing an action or calculation\"\n",
    "    elif token.pos_ == 'ADP':\n",
    "        return \"preposition, indicating a relationship between elements\"\n",
    "    elif token.pos_ == 'PUNCT':\n",
    "        return \"punctuation, used for structure and separation\"\n",
    "    elif token.pos_ == 'AUX':\n",
    "        return \"auxiliary, helping to form a tense, mood, or voice\"\n",
    "    elif token.pos_ == 'CCONJ':\n",
    "        return \"coordinating conjunction, connecting elements of equal rank\"\n",
    "    elif token.pos_ == 'SCONJ':\n",
    "        return \"subordinating conjunction, connecting dependent clauses\"\n",
    "    else:\n",
    "        return \"unidentified element\"\n",
    "\n",
    "# Function to extract semantic meaning\n",
    "# function to generate semantic tags, and creates a dictionary with these explanations.\n",
    "def extract_semantic_meaning(structure, context):\n",
    "    semantic_rep = {}\n",
    "    for category, items in structure.items():\n",
    "        semantic_rep[category] = []\n",
    "        for node in items:\n",
    "            semantic_tag = spacy_identify_role(node, context)\n",
    "            semantic_rep[category].append({\"name\": node, \"meaning\": semantic_tag})\n",
    "    return semantic_rep\n",
    "\n",
    "# Extract semantic meanings using the defined function and context\n",
    "semantic_explanations = extract_semantic_meaning(parsed_output, context_dict)\n",
    "\n",
    "import pprint\n",
    "pprint.pprint(semantic_explanations)\n"
   ]
  },
  {
   "cell_type": "code",
   "execution_count": 21,
   "id": "eef80066",
   "metadata": {},
   "outputs": [],
   "source": [
    "prompt = f\"\"\"\n",
    "You are an AI model trained to translate mathematical and logical expressions into natural language explanations. Given the semantic output of a mathematical expression, your task is to generate a coherent English explanation. \n",
    "\n",
    "The semantic output will include various categories such as Functions, Operators, Variables/Constants, and more. Use the provided information to create a detailed, understandable explanation in plain English.\n",
    "\n",
    "Here is the semantic output:\n",
    "{semantic_explanations}\n",
    "\n",
    "Generate a natural language explanation for this semantic output, making sure to clarify each element's role in the expression.\n",
    "\n",
    "For example, translate the semantic representation: \n",
    "t in [0.000, 0.0361) -> U_u(omega_t^o) >= max(Q_U_Omega_t (-0.20 * t + 0.22), u_t_bar)\n",
    "\n",
    "into the natural language explanation:  \n",
    "\"At time t, within the range [0.000, 0.0361), the function U_u applied to omega_t^o must yield a value that is greater than or equal to the maximum value between Q_U_Omega_t of (-0.20 * t + 0.22) and the threshold utility u_t_bar.\"\n",
    "\n",
    "Please follow a similar structure and level of detail for the provided semantic output.\n",
    "\"\"\""
   ]
  },
  {
   "cell_type": "code",
   "execution_count": 39,
   "id": "64b6895b",
   "metadata": {},
   "outputs": [
    {
     "name": "stdout",
     "output_type": "stream",
     "text": [
      "time t >is equal to  the maximum of enclose a + b, the utility function U applied to enclose variable x * the constant value 1.0\n"
     ]
    }
   ],
   "source": [
    "import re\n",
    "\n",
    "def translate_expression(expression):\n",
    "    # Define patterns and replacements\n",
    "    replacements = {\n",
    "        r'\\b\\>\\=': 'is greater than or equal to ',\n",
    "        r'\\b\\<\\=': 'is less than or equal to ',\n",
    "        r'\\b\\>': 'is greater than ',\n",
    "        r'\\b\\<': 'is less than ',\n",
    "        r'\\b\\+': 'plus ',\n",
    "        r'\\b\\-': 'minus ',\n",
    "        r'\\b\\*': 'multiplied by ',\n",
    "        r'\\b\\/': 'divided by ',\n",
    "        r'\\^': 'raised to the power of ',\n",
    "        r'\\=': 'is equal to ',\n",
    "        r'\\bmax\\b': 'the maximum of ',\n",
    "        r'\\bmin\\b': 'the minimum of ',\n",
    "        r'\\bU_u\\b': 'the utility function U applied to ',\n",
    "        r'\\bin\\b': 'is within the range ',\n",
    "        r'\\b\\->': 'implies that',\n",
    "        r'\\b\\&\\b': 'and ',\n",
    "        r'\\b\\|\\b': 'or ',\n",
    "        r'\\(': 'enclose ',\n",
    "        r'\\)': '',\n",
    "        r'\\[': 'within the range ',\n",
    "        r'\\]': '',\n",
    "        r'\\bt\\b': 'time t',\n",
    "        r'\\bx\\b': 'variable x',\n",
    "        r'\\b1\\.0\\b': 'the constant value 1.0'\n",
    "    }\n",
    "\n",
    "    # Apply replacements carefully using regular expressions\n",
    "    for pattern, replacement in replacements.items():\n",
    "        expression = re.sub(pattern, replacement, expression)\n",
    "\n",
    "    return expression\n",
    "\n",
    "# Example expression\n",
    "expression = \"t >= max(a + b, U_u(x) * 1.0)\"\n",
    "translated_expression = translate_expression(expression)\n",
    "print(translated_expression)"
   ]
  },
  {
   "cell_type": "code",
   "execution_count": 37,
   "id": "598372c5",
   "metadata": {},
   "outputs": [],
   "source": [
    "#evaluate each part of the pipeline"
   ]
  },
  {
   "cell_type": "code",
   "execution_count": 38,
   "id": "a58719ea",
   "metadata": {},
   "outputs": [],
   "source": [
    "#add a function to compare spacy and llm for semantic extraction"
   ]
  },
  {
   "cell_type": "code",
   "execution_count": null,
   "id": "0774dbae",
   "metadata": {},
   "outputs": [],
   "source": [
    "#"
   ]
  }
 ],
 "metadata": {
  "kernelspec": {
   "display_name": "Python 3 (ipykernel)",
   "language": "python",
   "name": "python3"
  },
  "language_info": {
   "codemirror_mode": {
    "name": "ipython",
    "version": 3
   },
   "file_extension": ".py",
   "mimetype": "text/x-python",
   "name": "python",
   "nbconvert_exporter": "python",
   "pygments_lexer": "ipython3",
   "version": "3.10.9"
  }
 },
 "nbformat": 4,
 "nbformat_minor": 5
}

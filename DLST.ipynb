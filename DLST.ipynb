{
 "cells": [
  {
   "cell_type": "code",
   "execution_count": 1,
   "id": "855cd1b3",
   "metadata": {},
   "outputs": [
    {
     "name": "stdout",
     "output_type": "stream",
     "text": [
      "Requirement already satisfied: openai in /Users/yasjudanulislam/anaconda3/lib/python3.10/site-packages (1.35.13)\n",
      "Requirement already satisfied: anyio<5,>=3.5.0 in /Users/yasjudanulislam/anaconda3/lib/python3.10/site-packages (from openai) (3.5.0)\n",
      "Requirement already satisfied: distro<2,>=1.7.0 in /Users/yasjudanulislam/anaconda3/lib/python3.10/site-packages (from openai) (1.9.0)\n",
      "Requirement already satisfied: httpx<1,>=0.23.0 in /Users/yasjudanulislam/anaconda3/lib/python3.10/site-packages (from openai) (0.27.0)\n",
      "Requirement already satisfied: pydantic<3,>=1.9.0 in /Users/yasjudanulislam/anaconda3/lib/python3.10/site-packages (from openai) (2.6.0)\n",
      "Requirement already satisfied: sniffio in /Users/yasjudanulislam/anaconda3/lib/python3.10/site-packages (from openai) (1.3.1)\n",
      "Requirement already satisfied: tqdm>4 in /Users/yasjudanulislam/anaconda3/lib/python3.10/site-packages (from openai) (4.64.1)\n",
      "Requirement already satisfied: typing-extensions<5,>=4.7 in /Users/yasjudanulislam/anaconda3/lib/python3.10/site-packages (from openai) (4.9.0)\n",
      "Requirement already satisfied: idna>=2.8 in /Users/yasjudanulislam/anaconda3/lib/python3.10/site-packages (from anyio<5,>=3.5.0->openai) (3.4)\n",
      "Requirement already satisfied: certifi in /Users/yasjudanulislam/anaconda3/lib/python3.10/site-packages (from httpx<1,>=0.23.0->openai) (2023.5.7)\n",
      "Requirement already satisfied: httpcore==1.* in /Users/yasjudanulislam/anaconda3/lib/python3.10/site-packages (from httpx<1,>=0.23.0->openai) (1.0.5)\n",
      "Requirement already satisfied: h11<0.15,>=0.13 in /Users/yasjudanulislam/anaconda3/lib/python3.10/site-packages (from httpcore==1.*->httpx<1,>=0.23.0->openai) (0.14.0)\n",
      "Requirement already satisfied: annotated-types>=0.4.0 in /Users/yasjudanulislam/anaconda3/lib/python3.10/site-packages (from pydantic<3,>=1.9.0->openai) (0.6.0)\n",
      "Requirement already satisfied: pydantic-core==2.16.1 in /Users/yasjudanulislam/anaconda3/lib/python3.10/site-packages (from pydantic<3,>=1.9.0->openai) (2.16.1)\n",
      "\n",
      "\u001b[1m[\u001b[0m\u001b[34;49mnotice\u001b[0m\u001b[1;39;49m]\u001b[0m\u001b[39;49m A new release of pip is available: \u001b[0m\u001b[31;49m24.1.2\u001b[0m\u001b[39;49m -> \u001b[0m\u001b[32;49m24.2\u001b[0m\n",
      "\u001b[1m[\u001b[0m\u001b[34;49mnotice\u001b[0m\u001b[1;39;49m]\u001b[0m\u001b[39;49m To update, run: \u001b[0m\u001b[32;49mpip install --upgrade pip\u001b[0m\n"
     ]
    }
   ],
   "source": [
    "!pip install openai"
   ]
  },
  {
   "cell_type": "code",
   "execution_count": 2,
   "id": "c5cbed0f",
   "metadata": {},
   "outputs": [],
   "source": [
    "from dotenv import load_dotenv\n",
    "import os"
   ]
  },
  {
   "cell_type": "code",
   "execution_count": 3,
   "id": "d397b1c1",
   "metadata": {},
   "outputs": [
    {
     "data": {
      "text/plain": [
       "True"
      ]
     },
     "execution_count": 3,
     "metadata": {},
     "output_type": "execute_result"
    }
   ],
   "source": [
    "load_dotenv()  # Load environment variables from the .env file"
   ]
  },
  {
   "cell_type": "code",
   "execution_count": 4,
   "id": "a2d51bf7",
   "metadata": {},
   "outputs": [
    {
     "name": "stdout",
     "output_type": "stream",
     "text": [
      "Requirement already satisfied: python-dotenv in /Users/yasjudanulislam/anaconda3/lib/python3.10/site-packages (1.0.1)\n",
      "\n",
      "\u001b[1m[\u001b[0m\u001b[34;49mnotice\u001b[0m\u001b[1;39;49m]\u001b[0m\u001b[39;49m A new release of pip is available: \u001b[0m\u001b[31;49m24.1.2\u001b[0m\u001b[39;49m -> \u001b[0m\u001b[32;49m24.2\u001b[0m\n",
      "\u001b[1m[\u001b[0m\u001b[34;49mnotice\u001b[0m\u001b[1;39;49m]\u001b[0m\u001b[39;49m To update, run: \u001b[0m\u001b[32;49mpip install --upgrade pip\u001b[0m\n"
     ]
    }
   ],
   "source": [
    "!pip install python-dotenv"
   ]
  },
  {
   "cell_type": "code",
   "execution_count": 5,
   "id": "c50d1e26",
   "metadata": {},
   "outputs": [],
   "source": [
    "api_key = os.getenv('OPENAI_API_KEY')"
   ]
  },
  {
   "cell_type": "code",
   "execution_count": 6,
   "id": "b28a7bd5",
   "metadata": {},
   "outputs": [
    {
     "name": "stdout",
     "output_type": "stream",
     "text": [
      "Requirement already satisfied: OpenAI in /Users/yasjudanulislam/anaconda3/lib/python3.10/site-packages (1.35.13)\n",
      "Requirement already satisfied: anyio<5,>=3.5.0 in /Users/yasjudanulislam/anaconda3/lib/python3.10/site-packages (from OpenAI) (3.5.0)\n",
      "Requirement already satisfied: distro<2,>=1.7.0 in /Users/yasjudanulislam/anaconda3/lib/python3.10/site-packages (from OpenAI) (1.9.0)\n",
      "Requirement already satisfied: httpx<1,>=0.23.0 in /Users/yasjudanulislam/anaconda3/lib/python3.10/site-packages (from OpenAI) (0.27.0)\n",
      "Requirement already satisfied: pydantic<3,>=1.9.0 in /Users/yasjudanulislam/anaconda3/lib/python3.10/site-packages (from OpenAI) (2.6.0)\n",
      "Requirement already satisfied: sniffio in /Users/yasjudanulislam/anaconda3/lib/python3.10/site-packages (from OpenAI) (1.3.1)\n",
      "Requirement already satisfied: tqdm>4 in /Users/yasjudanulislam/anaconda3/lib/python3.10/site-packages (from OpenAI) (4.64.1)\n",
      "Requirement already satisfied: typing-extensions<5,>=4.7 in /Users/yasjudanulislam/anaconda3/lib/python3.10/site-packages (from OpenAI) (4.9.0)\n",
      "Requirement already satisfied: idna>=2.8 in /Users/yasjudanulislam/anaconda3/lib/python3.10/site-packages (from anyio<5,>=3.5.0->OpenAI) (3.4)\n",
      "Requirement already satisfied: certifi in /Users/yasjudanulislam/anaconda3/lib/python3.10/site-packages (from httpx<1,>=0.23.0->OpenAI) (2023.5.7)\n",
      "Requirement already satisfied: httpcore==1.* in /Users/yasjudanulislam/anaconda3/lib/python3.10/site-packages (from httpx<1,>=0.23.0->OpenAI) (1.0.5)\n",
      "Requirement already satisfied: h11<0.15,>=0.13 in /Users/yasjudanulislam/anaconda3/lib/python3.10/site-packages (from httpcore==1.*->httpx<1,>=0.23.0->OpenAI) (0.14.0)\n",
      "Requirement already satisfied: annotated-types>=0.4.0 in /Users/yasjudanulislam/anaconda3/lib/python3.10/site-packages (from pydantic<3,>=1.9.0->OpenAI) (0.6.0)\n",
      "Requirement already satisfied: pydantic-core==2.16.1 in /Users/yasjudanulislam/anaconda3/lib/python3.10/site-packages (from pydantic<3,>=1.9.0->OpenAI) (2.16.1)\n",
      "\n",
      "\u001b[1m[\u001b[0m\u001b[34;49mnotice\u001b[0m\u001b[1;39;49m]\u001b[0m\u001b[39;49m A new release of pip is available: \u001b[0m\u001b[31;49m24.1.2\u001b[0m\u001b[39;49m -> \u001b[0m\u001b[32;49m24.2\u001b[0m\n",
      "\u001b[1m[\u001b[0m\u001b[34;49mnotice\u001b[0m\u001b[1;39;49m]\u001b[0m\u001b[39;49m To update, run: \u001b[0m\u001b[32;49mpip install --upgrade pip\u001b[0m\n"
     ]
    }
   ],
   "source": [
    "!pip install OpenAI"
   ]
  },
  {
   "cell_type": "markdown",
   "id": "0ba5a431",
   "metadata": {},
   "source": [
    "# Expression parsing"
   ]
  },
  {
   "cell_type": "code",
   "execution_count": 107,
   "id": "1f5281d9",
   "metadata": {},
   "outputs": [
    {
     "name": "stdout",
     "output_type": "stream",
     "text": [
      "{\n",
      "    \"Variables/Constants\": [\"t\", \"0.0361\", \"1.000\", \"\\\\omega_t^o\", \"u\", \"Q_{U_{\\\\Omega^o_t}}\", \"-0.10\", \"0.64\"],\n",
      "    \"Functions\": [\"U_u\", \"\\\\max\"],\n",
      "    \"Operators\": [\"\\\\in\", \"\\\\rightarrow\", \"\\\\geq\", \"\\\\cdot\", \"+\"],\n",
      "    \"Brackets\": [\"[\", \"]\", \"(\", \")\", \"{\"],\n",
      "    \"Misc\": [\"&\"]\n",
      "}\n"
     ]
    }
   ],
   "source": [
    "def extract_structure(latex_expression):\n",
    "    \n",
    "    client = OpenAI()\n",
    "    response = client.chat.completions.create(\n",
    "        model=\"gpt-3.5-turbo\",\n",
    "        messages=[\n",
    "            {\n",
    "                \"role\": \"system\",\n",
    "                \"content\": \"You are a helpful assistant that parses LaTeX expressions and categorizes their components \"\n",
    "                    \"into the following structure: Variables/Constants, Functions, Operators, Brackets, and Misc. \"\n",
    "                    \"For each category, provide a list of items found in the LaTeX expression. \"\n",
    "                    \"Ensure that any mathematical functions, such as 'max', 'min', 'sin', 'cos', and custom functions like 'U_u', are correctly identified under the 'Functions' category. \"\n",
    "                    \"Variables are any symbols or letters that represent quantities, such as 't', 'x', or 'omega_t^o'. \"\n",
    "                    \"Constants include numeric values like '-0.20', '0.22', and '0.0361'. \"\n",
    "                    \"Operators include symbols like '>', '>=', '+', '-', '*', and '/' that indicate operations between variables or constants. \"\n",
    "                    \"Brackets include any grouping symbols such as '(', ')', '[', ']', '{', and '}'. \"\n",
    "                    \"Misc should be used for any elements that do not fit into the other categories. \"\n",
    "                    \"The output should be a JSON object with the following keys: 'Variables/Constants', 'Functions', 'Operators', 'Brackets', 'Misc'. \"\n",
    "                    \"Numbers also fall under constants and variables, and convert the LaTeX into mathematical expressions without LaTeX-specific formatting.\"\n",
    "                    \"output should be a json dictionary with categories as keys and lists of items as values\"\n",
    "            },\n",
    "            {\n",
    "                \"role\": \"user\",\n",
    "                \"content\": f\"Please parse the following LaTeX expression and provide the categorized output structure: {latex_expression}\"\n",
    "            }\n",
    "        ],\n",
    "        max_tokens=500,\n",
    "        temperature=0.5,\n",
    "    )\n",
    "\n",
    "    return response.choices[0].message.content\n",
    "\n",
    "# Provided LaTeX expression\n",
    "latex_expression = r\"t \\in [0.0361, 1.000] \\rightarrow &  \\\n",
    "U_u(\\omega_t^o) \\geq \\max\\left( u, Q_{U_{\\Omega^o_t}} (-0.10 \\cdot t + 0.64)\\right)\"\n",
    "\n",
    "# Get the output structure from the API\n",
    "output_structure = extract_structure(latex_expression)\n",
    "print(output_structure)"
   ]
  },
  {
   "cell_type": "code",
   "execution_count": 51,
   "id": "53b2526b",
   "metadata": {},
   "outputs": [
    {
     "data": {
      "text/plain": [
       "'{\\n  \"Variables/Constants\": [\\n    \"t\",\\n    \"0.0361\",\\n    \"1.000\",\\n    \"u\",\\n    \"0.10\",\\n    \"0.64\"\\n  ],\\n  \"Functions\": [\\n    \"U_u\",\\n    \"max\",\\n    \"Q_{U_{\\\\\\\\Omega^o_t}}\"\\n  ],\\n  \"Operators\": [\\n    \"\\\\\\\\in\",\\n    \"\\\\\\\\rightarrow\",\\n    \"\\\\\\\\geq\",\\n    \"\\\\\\\\cdot\",\\n    \"+\"\\n  ],\\n  \"Brackets\": [\\n    \"[\",\\n    \"]\",\\n    \"(\",\\n    \")\",\\n    \"\\\\\\\\left(\",\\n    \"\\\\\\\\right)\"\\n  ],\\n  \"Misc\": [\\n    \",\"\\n  ]\\n}'"
      ]
     },
     "execution_count": 51,
     "metadata": {},
     "output_type": "execute_result"
    }
   ],
   "source": [
    "output_structure"
   ]
  },
  {
   "cell_type": "code",
   "execution_count": 63,
   "id": "6ceb9673",
   "metadata": {},
   "outputs": [],
   "source": [
    "def convert_output_to_latex(output_structure):\n",
    "    response = client.chat.completions.create(\n",
    "        model=\"gpt-3.5-turbo\",\n",
    "        messages=[\n",
    "            {\n",
    "                \"role\": \"system\",\n",
    "                \"content\": \"you are given a JSON format which contains \"\n",
    "            },\n",
    "            {\n",
    "                \"role\": \"user\",\n",
    "                \"content\": f\"Please parse the following LaTeX expression and provide the categorized output structure: {latex_expression}\"\n",
    "            }\n",
    "        ],\n",
    "        max_tokens=500,\n",
    "        temperature=0.5,\n",
    "    )\n",
    "\n",
    "    return response.choices[0].message.content\n",
    "    \n",
    "\n"
   ]
  },
  {
   "cell_type": "markdown",
   "id": "9a8ad4c3",
   "metadata": {},
   "source": [
    "# Extracting the semantic meaning"
   ]
  },
  {
   "cell_type": "code",
   "execution_count": 64,
   "id": "dbf011d3",
   "metadata": {},
   "outputs": [],
   "source": [
    "parsed_output = extract_structure(latex_expression)\n",
    "prompt = (\n",
    "        \"The following is a JSON object with categorized components of a LaTeX expression. \"\n",
    "        \"Please provide detailed semantic meanings for each item in the JSON. The categories are: \"\n",
    "        \"Variables/Constants, Functions, Operators, Brackets, and Misc. \"\n",
    "        \"For each item, provide its name and a detailed description of its meaning.\\n\\n\"\n",
    "        f\"{parsed_output}\\n\\n\"\n",
    "        \"Provide the output in the following JSON format:\"\n",
    "        \"{\"\n",
    "        '  \"Variables/Constants\": ['\n",
    "        '    {\"name\": \"item_name\", \"meaning\": \"item_meaning\"}'\n",
    "        '  ],'\n",
    "        '  \"Functions\": '\n",
    "        '    {\"name\": \"item_name\", \"meaning\": \"item_meaning\"}'\n",
    "        '  ],'\n",
    "        '  \"Operators\": ['\n",
    "        '    {\"name\": \"item_name\", \"meaning\": \"item_meaning\"}'\n",
    "        '  ],'\n",
    "        '  \"Brackets\": ['\n",
    "        '    {\"name\": \"item_name\", \"meaning\": \"item_meaning\"}'\n",
    "        '  ],'\n",
    "        '  \"Misc\": ['\n",
    "        '    {\"name\": \"item_name\", \"meaning\": \"item_meaning\"}'\n",
    "        '  ]'\n",
    "        \"}\"\n",
    "    )\n",
    "\n",
    "\n",
    "def extract_semantics(prompt):\n",
    "    \n",
    "    \n",
    "    \n",
    "    response = client.chat.completions.create(\n",
    "        model=\"gpt-4-turbo\",\n",
    "        messages=[\n",
    "            {\n",
    "                \"role\": \"system\",\n",
    "                \"content\": \"You are a helpful assistant.\"\n",
    "            },\n",
    "            {\n",
    "                \"role\": \"user\",\n",
    "                \"content\": prompt\n",
    "            }\n",
    "        ],\n",
    "        max_tokens=1500,\n",
    "        temperature=0.5,\n",
    "    )\n",
    "\n",
    "    return response.choices[0].message.content"
   ]
  },
  {
   "cell_type": "code",
   "execution_count": 55,
   "id": "6a5e038d",
   "metadata": {},
   "outputs": [],
   "source": [
    "# parsed_output = extract_structure(latex_expression)\n",
    "# prompt = (\n",
    "#         \"The following is a JSON object with categorized components of a LaTeX expression. \"\n",
    "#         \"Please provide detailed semantic meanings for each item in the JSON. The categories are: \"\n",
    "#         \"Variables/Constants, Functions, Operators, Brackets, and Misc. \"\n",
    "#         \"For each item, provide its name and a detailed description of its meaning.\\n\\n\"\n",
    "#         f\"{parsed_output}\\n\\n\"\n",
    "#         \"Provide the output in the following JSON format:\"\n",
    "#         \"{\"\n",
    "#         '  \"Variables/Constants\": ['\n",
    "#         '    {\"name\": \"item_name\", \"meaning\": \"item_meaning\"}'\n",
    "#         '  ],'\n",
    "#         '  \"Functions\": '\n",
    "#         '    {\"name\": \"item_name\", \"meaning\": \"item_meaning\"}'\n",
    "#         '  ],'\n",
    "#         '  \"Operators\": ['\n",
    "#         '    {\"name\": \"item_name\", \"meaning\": \"item_meaning\"}'\n",
    "#         '  ],'\n",
    "#         '  \"Brackets\": ['\n",
    "#         '    {\"name\": \"item_name\", \"meaning\": \"item_meaning\"}'\n",
    "#         '  ],'\n",
    "#         '  \"Misc\": ['\n",
    "#         '    {\"name\": \"item_name\", \"meaning\": \"item_meaning\"}'\n",
    "#         '  ]'\n",
    "#         \"}\"\n",
    "#     )"
   ]
  },
  {
   "cell_type": "code",
   "execution_count": 65,
   "id": "510fb7c4",
   "metadata": {
    "scrolled": false
   },
   "outputs": [
    {
     "name": "stdout",
     "output_type": "stream",
     "text": [
      "```json\n",
      "{\n",
      "  \"Variables/Constants\": [\n",
      "    {\"name\": \"t\", \"meaning\": \"Typically represents a variable for time in equations.\"},\n",
      "    {\"name\": \"0.0361\", \"meaning\": \"A constant value, possibly a parameter or a specific measurement.\"},\n",
      "    {\"name\": \"1.000\", \"meaning\": \"A constant, representing a whole unit, often used in calculations for scaling or baselines.\"},\n",
      "    {\"name\": \"u\", \"meaning\": \"A variable, possibly representing a specific quantity or parameter in a function.\"},\n",
      "    {\"name\": \"0.10\", \"meaning\": \"A numerical constant, likely representing a decimal fraction used in calculations.\"},\n",
      "    {\"name\": \"0.64\", \"meaning\": \"Another numerical constant, possibly representing a probability, fraction, or other parameter in a model or equation.\"}\n",
      "  ],\n",
      "  \"Functions\": [\n",
      "    {\"name\": \"U_u\", \"meaning\": \"Represents a function named 'U' with 'u' as a parameter. This could be a utility function, or another specific mathematical function depending on the context.\"},\n",
      "    {\"name\": \"max\", \"meaning\": \"A mathematical function that returns the maximum value among its arguments.\"},\n",
      "    {\"name\": \"Q_{U_{\\Omega^o_t}}\", \"meaning\": \"A function 'Q' applied to another function or variable 'U' which itself depends on a set or parameter 'Ω^o_t'. This could represent a complex mathematical or statistical operation, possibly querying or calculating a specific value from a defined set or distribution.\"}\n",
      "  ],\n",
      "  \"Operators\": [\n",
      "    {\"name\": \"\\\\in\", \"meaning\": \"A symbol used in set theory to denote membership; 'x \\\\in A' means x is an element of set A.\"},\n",
      "    {\"name\": \"[\", \"meaning\": \"Used to denote the start of an interval or a list in mathematical expressions.\"},\n",
      "    {\"name\": \",\", \"meaning\": \"A separator used in mathematics to separate elements in a list or parameters in functions.\"},\n",
      "    {\"name\": \"]\", \"meaning\": \"Used to denote the end of an interval or a list in mathematical expressions.\"},\n",
      "    {\"name\": \"\\\\rightarrow\", \"meaning\": \"Denotes a function mapping or an implication in logical expressions. In functions, it can describe the mapping from one set to another.\"},\n",
      "    {\"name\": \"\\\\geq\", \"meaning\": \"A relational operator meaning 'greater than or equal to'. It is used to denote inequality between two expressions.\"},\n",
      "    {\"name\": \"\\\\cdot\", \"meaning\": \"Represents multiplication in mathematical expressions.\"},\n",
      "    {\"name\": \"+\", \"meaning\": \"The basic arithmetic operator for addition.\"}\n",
      "  ],\n",
      "  \"Brackets\": [\n",
      "    {\"name\": \"(\", \"meaning\": \"Used to start a grouping of expressions, affecting the order of operations in mathematical expressions.\"},\n",
      "    {\"name\": \")\", \"meaning\": \"Used to end a grouping of expressions, affecting the order of operations in mathematical expressions.\"},\n",
      "    {\"name\": \"{\", \"meaning\": \"Used to start a set or a block of expressions, often used in defining functions or sets.\"}\n",
      "  ],\n",
      "  \"Misc\": [\n",
      "    {\"name\": \"\\\\omega_t^o\", \"meaning\": \"Represents a specific element or variable, possibly a random variable or a parameter in a stochastic process, indexed by time 't' and marked by 'o'.\"}\n",
      "  ]\n",
      "}\n",
      "```\n"
     ]
    }
   ],
   "source": [
    "print(extract_semantics(prompt))"
   ]
  },
  {
   "cell_type": "code",
   "execution_count": 58,
   "id": "5ae68879",
   "metadata": {},
   "outputs": [
    {
     "data": {
      "text/plain": [
       "'{\\n  \"Variables/Constants\": [\\n    \"t\",\\n    \"0.0361\",\\n    \"1.000\",\\n    \"u\",\\n    \"0.10\",\\n    \"0.64\"\\n  ],\\n  \"Functions\": [\\n    \"U_u\",\\n    \"max\",\\n    \"Q_{U_{\\\\\\\\Omega^o_t}}\"\\n  ],\\n  \"Operators\": [\\n    \"\\\\\\\\in\",\\n    \"\\\\\\\\rightarrow\",\\n    \"\\\\\\\\geq\",\\n    \"\\\\\\\\cdot\",\\n    \"+\"\\n  ],\\n  \"Brackets\": [\\n    \"[\",\\n    \"]\",\\n    \"(\",\\n    \")\",\\n    \"\\\\\\\\left(\",\\n    \"\\\\\\\\right)\"\\n  ],\\n  \"Misc\": [\\n    \",\"\\n  ]\\n}'"
      ]
     },
     "execution_count": 58,
     "metadata": {},
     "output_type": "execute_result"
    }
   ],
   "source": [
    "output_structure"
   ]
  },
  {
   "cell_type": "code",
   "execution_count": 97,
   "id": "5001e69f",
   "metadata": {},
   "outputs": [
    {
     "ename": "AttributeError",
     "evalue": "'str' object has no attribute 'items'",
     "output_type": "error",
     "traceback": [
      "\u001b[0;31m---------------------------------------------------------------------------\u001b[0m",
      "\u001b[0;31mAttributeError\u001b[0m                            Traceback (most recent call last)",
      "Cell \u001b[0;32mIn[97], line 117\u001b[0m\n\u001b[1;32m    114\u001b[0m     \u001b[38;5;28;01mreturn\u001b[39;00m semantic_rep\n\u001b[1;32m    116\u001b[0m \u001b[38;5;66;03m# Extract semantic meanings using the defined function and context\u001b[39;00m\n\u001b[0;32m--> 117\u001b[0m semantic_explanations \u001b[38;5;241m=\u001b[39m \u001b[43mextract_semantic_meaning\u001b[49m\u001b[43m(\u001b[49m\u001b[43mparsed_output\u001b[49m\u001b[43m,\u001b[49m\u001b[43m \u001b[49m\u001b[43mcontext_dict\u001b[49m\u001b[43m)\u001b[49m\n\u001b[1;32m    119\u001b[0m \u001b[38;5;28;01mimport\u001b[39;00m \u001b[38;5;21;01mpprint\u001b[39;00m\n\u001b[1;32m    120\u001b[0m pprint\u001b[38;5;241m.\u001b[39mpprint(semantic_explanations)\n",
      "Cell \u001b[0;32mIn[97], line 109\u001b[0m, in \u001b[0;36mextract_semantic_meaning\u001b[0;34m(structure, context)\u001b[0m\n\u001b[1;32m    107\u001b[0m \u001b[38;5;28;01mdef\u001b[39;00m \u001b[38;5;21mextract_semantic_meaning\u001b[39m(structure, context):\n\u001b[1;32m    108\u001b[0m     semantic_rep \u001b[38;5;241m=\u001b[39m {}\n\u001b[0;32m--> 109\u001b[0m     \u001b[38;5;28;01mfor\u001b[39;00m category, items \u001b[38;5;129;01min\u001b[39;00m \u001b[43mstructure\u001b[49m\u001b[38;5;241;43m.\u001b[39;49m\u001b[43mitems\u001b[49m():\n\u001b[1;32m    110\u001b[0m         semantic_rep[category] \u001b[38;5;241m=\u001b[39m []\n\u001b[1;32m    111\u001b[0m         \u001b[38;5;28;01mfor\u001b[39;00m node \u001b[38;5;129;01min\u001b[39;00m items:\n",
      "\u001b[0;31mAttributeError\u001b[0m: 'str' object has no attribute 'items'"
     ]
    }
   ],
   "source": [
    "import spacy\n",
    "from spacy.matcher import Matcher\n",
    "import re\n",
    "\n",
    "# Load the spaCy language model\n",
    "nlp = spacy.load(\"en_core_web_sm\")\n",
    "\n",
    "# Define the context dictionary for semantic meanings\n",
    "context_dict = {\n",
    "    \"t\": \"time variable\",\n",
    "    \"v\": \"velocity variable\",\n",
    "    \"omega\": \"a variable related to omega, possibly indicating a weighted term\",\n",
    "    \"Q_U_Omega_t\": \"a domain or space indexed by time t, could denote a set of possible outcomes or states\",\n",
    "    \"u_t_bar\": \"an average or threshold utility over time t\",\n",
    "    \"ū_t\": \"an average or threshold utility over time t\",\n",
    "    \"U_u\": \"utility function\",\n",
    "    \"max\": \"maximum function\",\n",
    "    \">=\": \"greater than or equal to operator\",\n",
    "    \">\": \"greater than operator\",\n",
    "    \"<=\": \"less than or equal to operator\",\n",
    "    \"<\": \"less than operator\",\n",
    "    \"->\": \"implies\",\n",
    "    \"+\": \"addition operator\",\n",
    "    \"-\": \"subtraction operator\",\n",
    "    \"*\": \"multiplication operator\",\n",
    "    \"/\": \"division operator\",\n",
    "    \"in\": \"membership operator\"\n",
    "}\n",
    "\n",
    "# Example parsed expression\n",
    "parsed_output = output_structure\n",
    "\n",
    "# Initialize the matcher with the shared vocabulary\n",
    "matcher = Matcher(nlp.vocab)\n",
    "\n",
    "# Add patterns to the matcher for variables, functions, operators, and brackets\n",
    "patterns = [\n",
    "    {\"label\": \"TIME\", \"pattern\": [{\"LOWER\": \"t\"}]},\n",
    "    {\"label\": \"VELOCITY\", \"pattern\": [{\"LOWER\": \"v\"}]},\n",
    "    {\"label\": \"OMEGA\", \"pattern\": [{\"LOWER\": \"omega\"}]},\n",
    "    {\"label\": \"DOMAIN\", \"pattern\": [{\"LOWER\": \"q_u_omega_t\"}]},\n",
    "    {\"label\": \"UTILITY\", \"pattern\": [{\"LOWER\": \"u_t_bar\"}]},\n",
    "    {\"label\": \"UTILITY\", \"pattern\": [{\"LOWER\": \"ū_t\"}]},\n",
    "    {\"label\": \"FUNCTION\", \"pattern\": [{\"LOWER\": \"u_u\"}]},\n",
    "    {\"label\": \"FUNCTION\", \"pattern\": [{\"LOWER\": \"max\"}]},\n",
    "    {\"label\": \"NUMERIC\", \"pattern\": [{\"TEXT\": {\"REGEX\": r\"^-?\\d+\\.\\d+$\"}}]},  # Pattern for decimal numbers\n",
    "    {\"label\": \"NUMERIC\", \"pattern\": [{\"IS_DIGIT\": True}]},  # Pattern for integer numbers\n",
    "    {\"label\": \"BRACKET\", \"pattern\": [{\"ORTH\": \"[\"}]},  # Pattern for opening square bracket\n",
    "    {\"label\": \"BRACKET\", \"pattern\": [{\"ORTH\": \"]\"}]},  # Pattern for closing square bracket\n",
    "    {\"label\": \"BRACKET\", \"pattern\": [{\"ORTH\": \"(\"}]},  # Pattern for opening parenthesis\n",
    "    {\"label\": \"BRACKET\", \"pattern\": [{\"ORTH\": \")\"}]},  # Pattern for closing parenthesis\n",
    "    {\"label\": \"OPERATOR\", \"pattern\": [{\"ORTH\": \">=\"}]},\n",
    "    {\"label\": \"OPERATOR\", \"pattern\": [{\"ORTH\": \">\"}]},\n",
    "    {\"label\": \"OPERATOR\", \"pattern\": [{\"ORTH\": \"<=\"}]},\n",
    "    {\"label\": \"OPERATOR\", \"pattern\": [{\"ORTH\": \"<\"}]},\n",
    "    {\"label\": \"OPERATOR\", \"pattern\": [{\"ORTH\": \"+\"}]},\n",
    "    {\"label\": \"OPERATOR\", \"pattern\": [{\"ORTH\": \"-\"}]},\n",
    "    {\"label\": \"OPERATOR\", \"pattern\": [{\"ORTH\": \"*\"}]},\n",
    "    {\"label\": \"OPERATOR\", \"pattern\": [{\"ORTH\": \"/\"}]},\n",
    "    {\"label\": \"OPERATOR\", \"pattern\": [{\"ORTH\": \"->\"}]},\n",
    "    {\"label\": \"OPERATOR\", \"pattern\": [{\"ORTH\": \"in\"}]}\n",
    "]\n",
    "\n",
    "for pattern in patterns:\n",
    "    matcher.add(pattern[\"label\"], [pattern[\"pattern\"]])\n",
    "\n",
    "# Function to identify semantic meaning using spaCy and context\n",
    "def spacy_identify_role(node, context):\n",
    "    doc = nlp(node)\n",
    "    matches = matcher(doc)\n",
    "    \n",
    "    # Check for matches with patterns\n",
    "    for match_id, start, end in matches:\n",
    "        label = nlp.vocab.strings[match_id]\n",
    "        return context.get(label.lower(), label.lower())\n",
    "\n",
    "    # Handle brackets explicitly\n",
    "    if node in [\"[\", \"]\", \"(\", \")\", \"{\", \"}\"]:\n",
    "        return \"bracket\"\n",
    "\n",
    "    # General rules based on part-of-speech tagging and dependency parsing\n",
    "    token = doc[0]\n",
    "    if token.pos_ == 'NUM' or re.match(r\"^-?\\d+\\.\\d+$\", node):\n",
    "        return \"numeric constant\"\n",
    "    elif token.pos_ == 'SYM':\n",
    "        return \"symbol\"\n",
    "    elif token.pos_ == 'NOUN' and node in context:\n",
    "        return context[node]\n",
    "    elif token.pos_ == 'NOUN':\n",
    "        return \"variable\"\n",
    "    elif token.pos_ == 'VERB' or (len(doc) > 1 and doc[1].text == '('):\n",
    "        return \"function\"\n",
    "    elif token.pos_ == 'ADP':\n",
    "        return \"preposition, indicating a relationship between elements\"\n",
    "    elif token.pos_ == 'PUNCT':\n",
    "        return \"punctuation, used for structure and separation\"\n",
    "    elif token.pos_ == 'AUX':\n",
    "        return \"auxiliary, helping to form a tense, mood, or voice\"\n",
    "    elif token.pos_ == 'CCONJ':\n",
    "        return \"coordinating conjunction, connecting elements of equal rank\"\n",
    "    elif token.pos_ == 'SCONJ':\n",
    "        return \"subordinating conjunction, connecting dependent clauses\"\n",
    "    else:\n",
    "        return \"unidentified element\"\n",
    "\n",
    "# Function to extract semantic meaning\n",
    "def extract_semantic_meaning(structure, context):\n",
    "    semantic_rep = {}\n",
    "    for category, items in structure.items():\n",
    "        semantic_rep[category] = []\n",
    "        for node in items:\n",
    "            semantic_tag = spacy_identify_role(node, context)\n",
    "            semantic_rep[category].append({\"name\": node, \"meaning\": semantic_tag})\n",
    "    return semantic_rep\n",
    "\n",
    "# Extract semantic meanings using the defined function and context\n",
    "semantic_explanations = extract_semantic_meaning(parsed_output, context_dict)\n",
    "\n",
    "import pprint\n",
    "pprint.pprint(semantic_explanations)\n"
   ]
  },
  {
   "cell_type": "code",
   "execution_count": 60,
   "id": "eef80066",
   "metadata": {},
   "outputs": [],
   "source": [
    "prompt_for_rule_based= f\"\"\"\n",
    "You are an AI model trained to translate mathematical and logical expressions into natural language explanations. Given the semantic output of a mathematical expression, your task is to generate a coherent English explanation. \n",
    "\n",
    "The semantic output will include various categories such as Functions, Operators, Variables/Constants, and more. Use the provided information to create a detailed, understandable explanation in plain English.\n",
    "\n",
    "Here is the semantic output:\n",
    "{semantic_explanations}\n",
    "\n",
    "Generate a natural language explanation for this semantic output, making sure to clarify each element's role in the expression.\n",
    "\n",
    "For example, translate the semantic representation: \n",
    "t in [0.000, 0.0361) -> U_u(omega_t^o) >= max(Q_U_Omega_t (-0.20 * t + 0.22), u_t_bar)\n",
    "\n",
    "into the natural language explanation:  \n",
    "\"At time t, within the range [0.000, 0.0361), the function U_u applied to omega_t^o must yield a value that is greater than or equal to the maximum value between Q_U_Omega_t of (-0.20 * t + 0.22) and the threshold utility u_t_bar.\"\n",
    "\n",
    "Please follow a similar structure and level of detail for the provided semantic output.\n",
    "\"\"\""
   ]
  },
  {
   "cell_type": "markdown",
   "id": "018df925",
   "metadata": {},
   "source": [
    "# Creating Rule based explanations"
   ]
  },
  {
   "cell_type": "code",
   "execution_count": 75,
   "id": "a2ae1525",
   "metadata": {},
   "outputs": [
    {
     "name": "stdout",
     "output_type": "stream",
     "text": [
      "Ensures that the utility function U applied to the maximum of time t the constant value 0.000 the constant value 0.0361 the variable omega_t^o the domain Q_U_Omega_t a utility threshold u_t_bar the constant value -0.20 the constant value 0.22 is within the range implies that is greater than or equal to multiplied by plus  meets either a calculated statistical value or a specified minimum utility requirement.\n"
     ]
    }
   ],
   "source": [
    "import re\n",
    "\n",
    "def generate_rule_based_explanation(semantic_extractions):\n",
    "    # Start with an empty explanation\n",
    "    explanation = \"Ensures that \"\n",
    "\n",
    "    # Create helper functions to handle specific parts of the explanation\n",
    "    def handle_functions(semantic_extractions):\n",
    "        func_explanation = \"\"\n",
    "        for func in semantic_extractions['Functions']:\n",
    "            if func['name'] == \"U_u\":\n",
    "                func_explanation += \"the utility function U applied to \"\n",
    "            elif func['name'] == \"max\":\n",
    "                func_explanation += \"the maximum of \"\n",
    "        return func_explanation\n",
    "\n",
    "    def handle_variables_constants(semantic_extractions):\n",
    "        var_const_explanation = \"\"\n",
    "        for var in semantic_extractions['Variables/Constants']:\n",
    "            if var['meaning'] == \"time\":\n",
    "                var_const_explanation += \"time t \"\n",
    "            elif var['meaning'] == \"velocity\":\n",
    "                var_const_explanation += \"velocity variable\"\n",
    "            elif var['meaning'] == \"variable\":\n",
    "                var_const_explanation += f\"the variable {var['name']} \"\n",
    "            elif var['meaning'] == \"domain\":\n",
    "                var_const_explanation += f\"the domain {var['name']} \"\n",
    "            elif var['meaning'] == \"utility\":\n",
    "                var_const_explanation += f\"a utility threshold {var['name']} \"\n",
    "            elif var['meaning'] == \"numeric\":\n",
    "                var_const_explanation += f\"the constant value {var['name']} \"\n",
    "        return var_const_explanation\n",
    "\n",
    "    def handle_operators(semantic_extractions):\n",
    "        op_explanation = \"\"\n",
    "        for op in semantic_extractions['Operators']:\n",
    "            if op['name'] == \">=\":\n",
    "                op_explanation += \"is greater than or equal to \"\n",
    "            elif op['name'] == \"->\":\n",
    "                op_explanation += \"implies that \"\n",
    "            elif op['name'] == \"in\":\n",
    "                op_explanation += \"is within the range \"\n",
    "            elif op['name'] == \"*\":\n",
    "                op_explanation += \"multiplied by \"\n",
    "            elif op['name'] == \"+\":\n",
    "                op_explanation += \"plus \"\n",
    "        return op_explanation\n",
    "\n",
    "    # Building the explanation by combining parts\n",
    "    explanation += handle_functions(semantic_extractions)\n",
    "    explanation += handle_variables_constants(semantic_extractions)\n",
    "    explanation += handle_operators(semantic_extractions)\n",
    "\n",
    "    # Add additional context or wrap-up the sentence if necessary\n",
    "    explanation += \" meets either a calculated statistical value or a specified minimum utility requirement.\"\n",
    "\n",
    "    # Return the final explanation\n",
    "    return explanation\n",
    "\n",
    "# Example usage with the provided semantic extraction\n",
    "semantic_extractions = {\n",
    "    'Brackets': [{'meaning': 'bracket', 'name': '['},\n",
    "                 {'meaning': 'bracket', 'name': ']'},\n",
    "                 {'meaning': 'bracket', 'name': '('},\n",
    "                 {'meaning': 'bracket', 'name': ')'}],\n",
    "    'Functions': [{'meaning': 'function', 'name': 'U_u'},\n",
    "                  {'meaning': 'function', 'name': 'max'}],\n",
    "    'Misc': [{'meaning': 'coordinating conjunction, connecting elements of equal rank', 'name': '&'}],\n",
    "    'Operators': [{'meaning': 'operator', 'name': 'in'},\n",
    "                  {'meaning': 'operator', 'name': '->'},\n",
    "                  {'meaning': 'operator', 'name': '>='},\n",
    "                  {'meaning': 'operator', 'name': '*'},\n",
    "                  {'meaning': 'operator', 'name': '+'}],\n",
    "    'Variables/Constants': [{'meaning': 'time', 'name': 't '},\n",
    "                            {'meaning': 'numeric', 'name': '0.000'},\n",
    "                            {'meaning': 'numeric', 'name': '0.0361'},\n",
    "                            {'meaning': 'variable', 'name': 'omega_t^o'},\n",
    "                            {'meaning': 'domain', 'name': 'Q_U_Omega_t'},\n",
    "                            {'meaning': 'utility', 'name': 'u_t_bar'},\n",
    "                            {'meaning': 'numeric', 'name': '-0.20'},\n",
    "                            {'meaning': 'numeric', 'name': '0.22'}]\n",
    "}\n",
    "\n",
    "# Generate the rule-based explanation\n",
    "explanation = generate_rule_based_explanation(semantic_extractions)\n",
    "print(explanation)\n"
   ]
  },
  {
   "cell_type": "code",
   "execution_count": 19,
   "id": "9d484a6b",
   "metadata": {},
   "outputs": [],
   "source": [
    "#evaluating rule based explanation"
   ]
  },
  {
   "cell_type": "code",
   "execution_count": 20,
   "id": "6c160b72",
   "metadata": {},
   "outputs": [],
   "source": [
    "#add a function to compare spacy and llm for semantic extraction"
   ]
  },
  {
   "cell_type": "code",
   "execution_count": 80,
   "id": "d6a29d6c",
   "metadata": {},
   "outputs": [],
   "source": [
    "def generate_rule_based_explanation_usingGPT():\n",
    "    \n",
    "    prompt = \"\"\"\n",
    "You are a helpful assistant that generates rule-based explanations from structured mathematical components. Given the components of a mathematical expression and their meanings, generate a clear and concise explanation.\n",
    "\n",
    "Use the following format: \"Ensures that [function description] must meet either [fixed utility threshold] or another [calculated statistical measure] in the subsequent time interval [interval].\"\n",
    "\n",
    "Given the following components:\n",
    "\n",
    "t is a variable often used to represent time. \n",
    "0.000 is a constant representing the number zero, possibly indicating an initial or default value in a calculation. \n",
    "0.0361 is a constant value, likely used as a specific parameter or coefficient in an equation. \n",
    "0.20 is a constant value, possibly representing a rate, proportion, or part of a calculation. \n",
    "0.22 is another constant value, similar in use to 0.20, indicating a rate, proportion, or coefficient. \n",
    "all the other numbers are also constant values\n",
    "U_u is a function, possibly user-defined, related to a variable 'u'. The specific purpose depends on the context where it's used. \n",
    "max is a mathematical function that returns the maximum value among its arguments. \n",
    "Q_{U_{\\Omega^o_t}} is a complex function involving multiple subscripts and possibly superscripts, indicating a specific operation or calculation in a specialized field such as probability or statistics. \n",
    "\\in is a symbol used in mathematics to denote membership in a set. \n",
    "[ is an operator used to denote the start of an interval or a list. \n",
    ", is a punctuation mark used to separate elements in a list or parameters in functions. \n",
    ") is a parenthesis used to close a grouping of terms or parameters. \n",
    "\\rightarrow is a symbol used to denote a function mapping or implication in logical expressions. \n",
    "\\geq is a relational operator meaning 'greater than or equal to'. \n",
    "\\cdot is a multiplication operator, often used in mathematical expressions to denote multiplication of variables or constants. \n",
    "+ is an arithmetic operator used for addition. \n",
    "{ is a curly bracket used to start a set or a block of expressions. \n",
    "} is a curly bracket used to close a set or a block of expressions. \n",
    "( is a parenthesis used to start a grouping of terms or parameters. \n",
    ") is a parenthesis used to close a grouping of terms or parameters. \n",
    "- is a minus sign, used as a unary operator to denote negation or as a binary operator to denote subtraction. \n",
    "\\bar{u_t} is a notation indicating the average or mean of the variable 'u' at time 't', commonly used in statistics and probability.\n",
    "\n",
    "Generate the explanation.\n",
    "\"\"\"\n",
    "    response = client.chat.completions.create(\n",
    "        model=\"gpt-3.5-turbo\",\n",
    "        messages=[\n",
    "            {\n",
    "                \"role\": \"system\",\n",
    "                \"content\": prompt\n",
    "            },\n",
    "            {\n",
    "                \"role\": \"user\",\n",
    "                \"content\": f\"Please parse the following LaTeX expression and provide the categorized output structure: {latex_expression}\"\n",
    "            }\n",
    "        ],\n",
    "        max_tokens=500,\n",
    "        temperature=0.5,\n",
    "    )\n",
    "    \n",
    "    return response.choices[0].message.content\n",
    "    \n",
    "    \n",
    "    "
   ]
  },
  {
   "cell_type": "code",
   "execution_count": 81,
   "id": "bd609da7",
   "metadata": {},
   "outputs": [
    {
     "name": "stdout",
     "output_type": "stream",
     "text": [
      "Sure! Here is the breakdown of the LaTeX expression into its components and categories:\n",
      "\n",
      "1. Variable:\n",
      "   - \\( t \\) : Represents time.\n",
      "\n",
      "2. Constants:\n",
      "   - \\( 0.000 \\) : Constant value zero.\n",
      "   - \\( 0.0361 \\) : Specific parameter or coefficient.\n",
      "   - \\( 1.000 \\) : Upper bound value for the interval.\n",
      "\n",
      "3. Symbols and Operators:\n",
      "   - \\( \\in \\) : Denotes membership in a set.\n",
      "   - \\( [ \\) : Start of an interval.\n",
      "   - \\( ] \\) : End of an interval.\n",
      "   - \\( \\rightarrow \\) : Implies a function mapping.\n",
      "   - \\( \\geq \\) : Greater than or equal to.\n",
      "   - \\( \\max \\) : Mathematical function returning the maximum value.\n",
      "   - \\( \\left( \\) : Start of a grouping.\n",
      "   - \\( \\right) \\) : End of a grouping.\n",
      "   - \\( \\cdot \\) : Multiplication operator.\n",
      "   - \\( + \\) : Addition operator.\n",
      "   - \\( - \\) : Subtraction operator.\n",
      "\n",
      "4. Functions:\n",
      "   - \\( U_u(\\omega_t^o) \\) : Function \\( U_u \\) related to variable \\( u \\) with a specific purpose.\n",
      "   - \\( \\max\\left( u, Q_{U_{\\Omega^o_t}} (-0.10 \\cdot t + 0.64)\\right) \\) : Maximum function with two arguments, where the second argument involves a complex function \\( Q_{U_{\\Omega^o_t}} \\).\n",
      "\n",
      "This expression ensures that the function \\( U_u \\) must be greater than or equal to the maximum value between the variable \\( u \\) and the result of the complex function \\( Q_{U_{\\Omega^o_t}} \\) evaluated at \\(-0.10 \\cdot t + 0.64\\), where \\( t \\) is within the interval \\([0.0361, 1.000]\\).\n"
     ]
    }
   ],
   "source": [
    "print(generate_rule_based_explanation_usingGPT())"
   ]
  },
  {
   "cell_type": "code",
   "execution_count": null,
   "id": "97001c69",
   "metadata": {},
   "outputs": [],
   "source": []
  },
  {
   "cell_type": "code",
   "execution_count": 77,
   "id": "74108199",
   "metadata": {},
   "outputs": [],
   "source": [
    "semantic_extractions = extract_semantics(output_structure) "
   ]
  },
  {
   "cell_type": "code",
   "execution_count": 111,
   "id": "7decb0ab",
   "metadata": {},
   "outputs": [
    {
     "data": {
      "text/plain": [
       "{'Variables/Constants': [{'name': 't',\n",
       "   'meaning': 'Typically represents a variable for time in equations.'},\n",
       "  {'name': '0.0361',\n",
       "   'meaning': 'A numerical constant, likely representing a specific value or parameter in the equation.'},\n",
       "  {'name': '1.000',\n",
       "   'meaning': 'A numerical constant, likely representing a specific value or parameter in the equation.'},\n",
       "  {'name': '\\\\omega_t^o', 'meaning': 'No meaning defined for \\\\omega_t^o'},\n",
       "  {'name': 'u',\n",
       "   'meaning': 'A variable, possibly representing a specific quantity or parameter in a function.'},\n",
       "  {'name': 'Q_{U_{\\\\Omega^o_t}}',\n",
       "   'meaning': \"A function 'Q' applied to another function or variable 'U' which itself depends on a set or parameter 'Ω^o_t'. This could represent a complex mathematical or statistical operation, possibly querying or calculating a specific value from a defined set or distribution.\"},\n",
       "  {'name': '-0.10',\n",
       "   'meaning': 'A numerical constant, likely representing a specific value or parameter in the equation.'},\n",
       "  {'name': '0.64',\n",
       "   'meaning': 'A numerical constant, likely representing a specific value or parameter in the equation.'}],\n",
       " 'Functions': [{'name': 'U_u',\n",
       "   'meaning': \"Represents a function named 'U' with 'u' as a parameter. This could be a utility function, or another specific mathematical function depending on the context.\"},\n",
       "  {'name': '\\\\max', 'meaning': 'No meaning defined for \\\\max'}],\n",
       " 'Operators': [{'name': '\\\\in',\n",
       "   'meaning': \"A symbol used in set theory to denote membership; 'x \\\\in A' means x is an element of set A.\"},\n",
       "  {'name': '\\\\rightarrow',\n",
       "   'meaning': 'Denotes a function mapping or an implication in logical expressions. In functions, it can describe the mapping from one set to another.'},\n",
       "  {'name': '\\\\geq', 'meaning': 'No meaning defined for \\\\geq'},\n",
       "  {'name': '\\\\cdot',\n",
       "   'meaning': 'Represents multiplication in mathematical expressions.'},\n",
       "  {'name': '+', 'meaning': 'The basic arithmetic operator for addition.'}],\n",
       " 'Brackets': [{'name': '[',\n",
       "   'meaning': 'Used to denote the start of an interval or a list in mathematical expressions.'},\n",
       "  {'name': ']',\n",
       "   'meaning': 'Used to denote the end of an interval or a list in mathematical expressions.'},\n",
       "  {'name': '(',\n",
       "   'meaning': 'Used to start a grouping of expressions, affecting the order of operations in mathematical expressions.'},\n",
       "  {'name': ')',\n",
       "   'meaning': 'Used to end a grouping of expressions, affecting the order of operations in mathematical expressions.'},\n",
       "  {'name': '{',\n",
       "   'meaning': 'Used to start a set or a block of expressions, often used in defining functions or sets.'}],\n",
       " 'Misc': [{'name': '&',\n",
       "   'meaning': 'Represents a logical conjunction (AND) in various contexts.'}]}"
      ]
     },
     "execution_count": 111,
     "metadata": {},
     "output_type": "execute_result"
    }
   ],
   "source": [
    "import spacy\n",
    "\n",
    "# Load spaCy model (optional if needed for further NLP tasks)\n",
    "nlp = spacy.load(\"en_core_web_sm\")\n",
    "semantic_meanings = {\n",
    "    \"t\": \"Typically represents a variable for time in equations.\",\n",
    "    \"u\": \"A variable, possibly representing a specific quantity or parameter in a function.\",\n",
    "    \"U_u\": \"Represents a function named 'U' with 'u' as a parameter. This could be a utility function, or another specific mathematical function depending on the context.\",\n",
    "    \"max\": \"A mathematical function that returns the maximum value among its arguments.\",\n",
    "    \"Q_{U_{\\\\Omega^o_t}}\": \"A function 'Q' applied to another function or variable 'U' which itself depends on a set or parameter 'Ω^o_t'. This could represent a complex mathematical or statistical operation, possibly querying or calculating a specific value from a defined set or distribution.\",\n",
    "    \"\\\\in\": \"A symbol used in set theory to denote membership; 'x \\\\in A' means x is an element of set A.\",\n",
    "    \">=\": \"A relational operator meaning 'greater than or equal to'. It is used to denote inequality between two expressions.\",\n",
    "    \"\\\\cdot\": \"Represents multiplication in mathematical expressions.\",\n",
    "    \"+\": \"The basic arithmetic operator for addition.\",\n",
    "    \"[\": \"Used to denote the start of an interval or a list in mathematical expressions.\",\n",
    "    \"]\": \"Used to denote the end of an interval or a list in mathematical expressions.\",\n",
    "    \"(\": \"Used to start a grouping of expressions, affecting the order of operations in mathematical expressions.\",\n",
    "    \")\": \"Used to end a grouping of expressions, affecting the order of operations in mathematical expressions.\",\n",
    "    \"{\": \"Used to start a set or a block of expressions, often used in defining functions or sets.\",\n",
    "    \"\\\\rightarrow\": \"Denotes a function mapping or an implication in logical expressions. In functions, it can describe the mapping from one set to another.\",\n",
    "    \"&\": \"Represents a logical conjunction (AND) in various contexts.\"\n",
    "}\n",
    "\n",
    "def is_number(s):\n",
    "    \"\"\"Check if the string represents a number.\"\"\"\n",
    "    try:\n",
    "        float(s)\n",
    "        return True\n",
    "    except ValueError:\n",
    "        return False\n",
    "\n",
    "def extract_semantic_meanings(parsed_latex):\n",
    "    # Initialize the result dictionary\n",
    "    semantic_extraction = {}\n",
    "\n",
    "    # Iterate over each category and map the names to their meanings\n",
    "    for category, items in parsed_latex.items():\n",
    "        semantic_extraction[category] = []\n",
    "        for item in items:\n",
    "            if is_number(item):\n",
    "                meaning = \"A numerical constant, likely representing a specific value or parameter in the equation.\"\n",
    "            else:\n",
    "                meaning = semantic_meanings.get(item, f\"No meaning defined for {item}\")\n",
    "            semantic_extraction[category].append({\"name\": item, \"meaning\": meaning})\n",
    "\n",
    "    return semantic_extraction\n",
    "\n",
    "parsed_latex_dict = json.loads(output_structure)\n",
    "extract_semantic_meanings(parsed_latex_dict)"
   ]
  },
  {
   "cell_type": "code",
   "execution_count": 110,
   "id": "6e8a105f",
   "metadata": {},
   "outputs": [
    {
     "name": "stdout",
     "output_type": "stream",
     "text": [
      "{'Variables/Constants': ['t', '0.0361', '1.000', '\\\\omega_t^o', 'u', 'Q_{U_{\\\\Omega^o_t}}', '-0.10', '0.64'], 'Functions': ['U_u', '\\\\max'], 'Operators': ['\\\\in', '\\\\rightarrow', '\\\\geq', '\\\\cdot', '+'], 'Brackets': ['[', ']', '(', ')', '{'], 'Misc': ['&']}\n"
     ]
    }
   ],
   "source": [
    "import json\n",
    "\n",
    "# Example string representing the parsed LaTeX dictionary\n",
    "parsed_latex_str = '{\"Variables/Constants\": [\"t\", \"0.0361\", \"1.000\", \"u\", \"0.10\", \"0.64\"], \"Functions\": [\"U_u\", \"max\", \"Q_{U_{\\\\\\\\Omega^o_t}}\"], \"Operators\": [\"\\\\\\\\in\", \">=\", \"\\\\\\\\cdot\", \"+\"], \"Brackets\": [\"[\", \"]\", \"(\", \")\", \"{\"], \"Misc\": [\"\\\\\\\\rightarrow\", \"&\"]}'\n",
    "\n",
    "# Convert the string to a dictionary\n",
    "parsed_latex_dict = json.loads(output_structure)\n",
    "\n",
    "print(parsed_latex_dict)"
   ]
  },
  {
   "cell_type": "code",
   "execution_count": null,
   "id": "b12d9fe2",
   "metadata": {},
   "outputs": [],
   "source": []
  },
  {
   "cell_type": "code",
   "execution_count": null,
   "id": "99a353f8",
   "metadata": {},
   "outputs": [],
   "source": []
  },
  {
   "cell_type": "code",
   "execution_count": null,
   "id": "47082ec8",
   "metadata": {},
   "outputs": [],
   "source": []
  }
 ],
 "metadata": {
  "kernelspec": {
   "display_name": "Python 3 (ipykernel)",
   "language": "python",
   "name": "python3"
  },
  "language_info": {
   "codemirror_mode": {
    "name": "ipython",
    "version": 3
   },
   "file_extension": ".py",
   "mimetype": "text/x-python",
   "name": "python",
   "nbconvert_exporter": "python",
   "pygments_lexer": "ipython3",
   "version": "3.10.9"
  }
 },
 "nbformat": 4,
 "nbformat_minor": 5
}

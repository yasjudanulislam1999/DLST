{
 "cells": [
  {
   "cell_type": "code",
   "execution_count": 9,
   "id": "855cd1b3",
   "metadata": {},
   "outputs": [
    {
     "name": "stdout",
     "output_type": "stream",
     "text": [
      "Requirement already satisfied: openai in /Users/yasjudanulislam/anaconda3/lib/python3.10/site-packages (1.35.13)\r\n",
      "Requirement already satisfied: anyio<5,>=3.5.0 in /Users/yasjudanulislam/anaconda3/lib/python3.10/site-packages (from openai) (3.5.0)\r\n",
      "Requirement already satisfied: distro<2,>=1.7.0 in /Users/yasjudanulislam/anaconda3/lib/python3.10/site-packages (from openai) (1.9.0)\r\n",
      "Requirement already satisfied: httpx<1,>=0.23.0 in /Users/yasjudanulislam/anaconda3/lib/python3.10/site-packages (from openai) (0.27.0)\r\n",
      "Requirement already satisfied: pydantic<3,>=1.9.0 in /Users/yasjudanulislam/anaconda3/lib/python3.10/site-packages (from openai) (2.6.0)\r\n",
      "Requirement already satisfied: sniffio in /Users/yasjudanulislam/anaconda3/lib/python3.10/site-packages (from openai) (1.3.1)\r\n",
      "Requirement already satisfied: tqdm>4 in /Users/yasjudanulislam/anaconda3/lib/python3.10/site-packages (from openai) (4.64.1)\r\n",
      "Requirement already satisfied: typing-extensions<5,>=4.7 in /Users/yasjudanulislam/anaconda3/lib/python3.10/site-packages (from openai) (4.9.0)\r\n",
      "Requirement already satisfied: idna>=2.8 in /Users/yasjudanulislam/anaconda3/lib/python3.10/site-packages (from anyio<5,>=3.5.0->openai) (3.4)\r\n",
      "Requirement already satisfied: certifi in /Users/yasjudanulislam/anaconda3/lib/python3.10/site-packages (from httpx<1,>=0.23.0->openai) (2023.5.7)\r\n",
      "Requirement already satisfied: httpcore==1.* in /Users/yasjudanulislam/anaconda3/lib/python3.10/site-packages (from httpx<1,>=0.23.0->openai) (1.0.5)\r\n",
      "Requirement already satisfied: h11<0.15,>=0.13 in /Users/yasjudanulislam/anaconda3/lib/python3.10/site-packages (from httpcore==1.*->httpx<1,>=0.23.0->openai) (0.14.0)\r\n",
      "Requirement already satisfied: annotated-types>=0.4.0 in /Users/yasjudanulislam/anaconda3/lib/python3.10/site-packages (from pydantic<3,>=1.9.0->openai) (0.6.0)\r\n",
      "Requirement already satisfied: pydantic-core==2.16.1 in /Users/yasjudanulislam/anaconda3/lib/python3.10/site-packages (from pydantic<3,>=1.9.0->openai) (2.16.1)\r\n"
     ]
    }
   ],
   "source": [
    "!pip install openai"
   ]
  },
  {
   "cell_type": "code",
   "execution_count": 1,
   "id": "c5cbed0f",
   "metadata": {},
   "outputs": [],
   "source": [
    "from dotenv import load_dotenv\n",
    "import os"
   ]
  },
  {
   "cell_type": "code",
   "execution_count": 2,
   "id": "d397b1c1",
   "metadata": {},
   "outputs": [
    {
     "data": {
      "text/plain": [
       "True"
      ]
     },
     "execution_count": 2,
     "metadata": {},
     "output_type": "execute_result"
    }
   ],
   "source": [
    "load_dotenv()  # Load environment variables from the .env file"
   ]
  },
  {
   "cell_type": "code",
   "execution_count": 47,
   "id": "a2d51bf7",
   "metadata": {},
   "outputs": [
    {
     "name": "stdout",
     "output_type": "stream",
     "text": [
      "Requirement already satisfied: python-dotenv in /Users/yasjudanulislam/anaconda3/lib/python3.10/site-packages (1.0.1)\r\n"
     ]
    }
   ],
   "source": [
    "!pip install python-dotenv"
   ]
  },
  {
   "cell_type": "code",
   "execution_count": 61,
   "id": "c50d1e26",
   "metadata": {},
   "outputs": [],
   "source": [
    "api_key = os.getenv('OPENAI_API_KEY')\n"
   ]
  },
  {
   "cell_type": "code",
   "execution_count": 7,
   "id": "b28a7bd5",
   "metadata": {},
   "outputs": [
    {
     "name": "stdout",
     "output_type": "stream",
     "text": [
      "Requirement already satisfied: OpenAI in /Users/yasjudanulislam/anaconda3/lib/python3.10/site-packages (1.35.13)\r\n",
      "Requirement already satisfied: anyio<5,>=3.5.0 in /Users/yasjudanulislam/anaconda3/lib/python3.10/site-packages (from OpenAI) (3.5.0)\r\n",
      "Requirement already satisfied: distro<2,>=1.7.0 in /Users/yasjudanulislam/anaconda3/lib/python3.10/site-packages (from OpenAI) (1.9.0)\r\n",
      "Requirement already satisfied: httpx<1,>=0.23.0 in /Users/yasjudanulislam/anaconda3/lib/python3.10/site-packages (from OpenAI) (0.27.0)\r\n",
      "Requirement already satisfied: pydantic<3,>=1.9.0 in /Users/yasjudanulislam/anaconda3/lib/python3.10/site-packages (from OpenAI) (2.6.0)\r\n",
      "Requirement already satisfied: sniffio in /Users/yasjudanulislam/anaconda3/lib/python3.10/site-packages (from OpenAI) (1.3.1)\r\n",
      "Requirement already satisfied: tqdm>4 in /Users/yasjudanulislam/anaconda3/lib/python3.10/site-packages (from OpenAI) (4.64.1)\r\n",
      "Requirement already satisfied: typing-extensions<5,>=4.7 in /Users/yasjudanulislam/anaconda3/lib/python3.10/site-packages (from OpenAI) (4.9.0)\r\n",
      "Requirement already satisfied: idna>=2.8 in /Users/yasjudanulislam/anaconda3/lib/python3.10/site-packages (from anyio<5,>=3.5.0->OpenAI) (3.4)\r\n",
      "Requirement already satisfied: certifi in /Users/yasjudanulislam/anaconda3/lib/python3.10/site-packages (from httpx<1,>=0.23.0->OpenAI) (2023.5.7)\r\n",
      "Requirement already satisfied: httpcore==1.* in /Users/yasjudanulislam/anaconda3/lib/python3.10/site-packages (from httpx<1,>=0.23.0->OpenAI) (1.0.5)\r\n",
      "Requirement already satisfied: h11<0.15,>=0.13 in /Users/yasjudanulislam/anaconda3/lib/python3.10/site-packages (from httpcore==1.*->httpx<1,>=0.23.0->OpenAI) (0.14.0)\r\n",
      "Requirement already satisfied: annotated-types>=0.4.0 in /Users/yasjudanulislam/anaconda3/lib/python3.10/site-packages (from pydantic<3,>=1.9.0->OpenAI) (0.6.0)\r\n",
      "Requirement already satisfied: pydantic-core==2.16.1 in /Users/yasjudanulislam/anaconda3/lib/python3.10/site-packages (from pydantic<3,>=1.9.0->OpenAI) (2.16.1)\r\n"
     ]
    }
   ],
   "source": [
    "!pip install OpenAI"
   ]
  },
  {
   "cell_type": "code",
   "execution_count": 43,
   "id": "0350f054",
   "metadata": {},
   "outputs": [
    {
     "name": "stdout",
     "output_type": "stream",
     "text": [
      "The mathematical expression is:\n",
      "\n",
      "∫_{0}^{1} x^2 \\, dx + ∑_{n=1}^{∞} \\frac{1}{n^2} = \\frac{\\pi^2}{6}\n"
     ]
    }
   ],
   "source": [
    "# Testing the OpenAI API\n",
    "from openai import OpenAI\n",
    "client = OpenAI(\n",
    ")\n",
    "\n",
    "response = client.chat.completions.create(\n",
    "    messages=[\n",
    "        {\n",
    "            \"role\": \"user\",\n",
    "            \"content\": \"latex_expression = \\int_{0}^{1} x^2 \\, dx + \\sum_{n=1}^{\\infty} \\frac{1}{n^2} = \\frac{\\pi^2}{6}, parse this and give me the mathematical expression\"\n",
    "        }\n",
    "    ],\n",
    "    model=\"gpt-3.5-turbo\",\n",
    ")\n",
    "print(response.choices[0].message.content)"
   ]
  },
  {
   "cell_type": "code",
   "execution_count": 46,
   "id": "1f5281d9",
   "metadata": {},
   "outputs": [
    {
     "name": "stdout",
     "output_type": "stream",
     "text": [
      "{\n",
      "  \"Variables/Constants\": [\"t\", \"0.000\", \"0.0361\", \"\\omega_t^o\", \"-0.20\", \"0.22\", \"\\\\bar{u_t}\"],\n",
      "  \"Functions\": [\"U_u\", \"max\", \"Q_{U_{\\Omega^o_t}}\"],\n",
      "  \"Operators\": [\"\\\\in\", \"[\", \",\", \")\", \"\\\\rightarrow\", \"\\\\geq\", \"*\", \"+\", \")\"],\n",
      "  \"Brackets\": [\"{\", \"}\", \"(\"],\n",
      "  \"Misc\": [\"-\", \"\\\\cdot\"]\n",
      "}\n"
     ]
    }
   ],
   "source": [
    "def extract_structure(latex_expression):\n",
    "    \n",
    "    client = OpenAI()\n",
    "    response = client.chat.completions.create(\n",
    "        model=\"gpt-3.5-turbo\",\n",
    "        messages=[\n",
    "            {\n",
    "                \"role\": \"system\",\n",
    "                \"content\": \"You are a helpful assistant that parses LaTeX expressions and categorizes their components \"\n",
    "                    \"into the following structure: Variables/Constants, Functions, Operators, Brackets, and Misc. \"\n",
    "                    \"For each category, provide a list of items found in the LaTeX expression. \"\n",
    "                    \"Ensure that any mathematical functions, such as 'max', 'min', 'sin', 'cos', and custom functions like 'U_u', are correctly identified under the 'Functions' category. \"\n",
    "                    \"Variables are any symbols or letters that represent quantities, such as 't', 'x', or 'omega_t^o'. \"\n",
    "                    \"Constants include numeric values like '-0.20', '0.22', and '0.0361'. \"\n",
    "                    \"Operators include symbols like '>', '>=', '+', '-', '*', and '/' that indicate operations between variables or constants. \"\n",
    "                    \"Brackets include any grouping symbols such as '(', ')', '[', ']', '{', and '}'. \"\n",
    "                    \"Misc should be used for any elements that do not fit into the other categories. \"\n",
    "                    \"The output should be a JSON object with the following keys: 'Variables/Constants', 'Functions', 'Operators', 'Brackets', 'Misc'. \"\n",
    "                    \"Numbers also fall under constants and variables, and convert the LaTeX into mathematical expressions without LaTeX-specific formatting.\"\n",
    "            },\n",
    "            {\n",
    "                \"role\": \"user\",\n",
    "                \"content\": f\"Please parse the following LaTeX expression and provide the categorized output structure: {latex_expression}\"\n",
    "            }\n",
    "        ],\n",
    "        max_tokens=500,\n",
    "        temperature=0.5,\n",
    "    )\n",
    "\n",
    "    return response.choices[0].message.content\n",
    "\n",
    "# Provided LaTeX expression\n",
    "latex_expression = r\"t \\in [0.000, 0.0361) \\rightarrow & U_u(\\omega_t^o) \\geq \\max\\left(Q_{U_{\\Omega^o_t}} (-0.20 \\cdot t + 0.22), \\bar{u_t}\\right)\\\\\"\n",
    "\n",
    "# Get the output structure from the API\n",
    "output_structure = extract_structure(latex_expression)\n",
    "print(output_structure)"
   ]
  },
  {
   "cell_type": "code",
   "execution_count": 26,
   "id": "53b2526b",
   "metadata": {},
   "outputs": [
    {
     "data": {
      "text/plain": [
       "'{\\n  \"Variables/Constants\": [\"t\", \"0.000\", \"0.0361\", \"\\\\omega_t^o\", \"Q_{U_{\\\\Omega^o_t}}\", \"-0.20\", \"0.22\", \"\\\\\\\\bar{u_t}\"],\\n  \"Functions\": [\"U_u\", \"\\\\max\"],\\n  \"Operators\": [\"\\\\in\", \"\\\\rightarrow\", \"\\\\geq\", \"\\\\cdot\"],\\n  \"Brackets\": [\"[\", \"(\", \")\", \")\", \"(\"],\\n  \"Misc\": []\\n}'"
      ]
     },
     "execution_count": 26,
     "metadata": {},
     "output_type": "execute_result"
    }
   ],
   "source": [
    "output_structure"
   ]
  },
  {
   "cell_type": "code",
   "execution_count": 27,
   "id": "6ceb9673",
   "metadata": {},
   "outputs": [],
   "source": [
    "def convert_output_to_latex(output_structure):\n",
    "    response = client.chat.completions.create(\n",
    "        model=\"gpt-3.5-turbo\",\n",
    "        messages=[\n",
    "            {\n",
    "                \"role\": \"system\",\n",
    "                \"content\": \"you are given a JSON format which contains \"\n",
    "            },\n",
    "            {\n",
    "                \"role\": \"user\",\n",
    "                \"content\": f\"Please parse the following LaTeX expression and provide the categorized output structure: {latex_expression}\"\n",
    "            }\n",
    "        ],\n",
    "        max_tokens=500,\n",
    "        temperature=0.5,\n",
    "    )\n",
    "\n",
    "    return response.choices[0].message.content\n",
    "    \n",
    "    "
   ]
  },
  {
   "cell_type": "code",
   "execution_count": 96,
   "id": "3796ffdf",
   "metadata": {},
   "outputs": [
    {
     "name": "stderr",
     "output_type": "stream",
     "text": [
      "/Users/yasjudanulislam/anaconda3/lib/python3.10/site-packages/tqdm/auto.py:22: TqdmWarning: IProgress not found. Please update jupyter and ipywidgets. See https://ipywidgets.readthedocs.io/en/stable/user_install.html\n",
      "  from .autonotebook import tqdm as notebook_tqdm\n"
     ]
    }
   ],
   "source": [
    "import spacy"
   ]
  },
  {
   "cell_type": "code",
   "execution_count": 28,
   "id": "dbf011d3",
   "metadata": {},
   "outputs": [],
   "source": [
    "def extract_semantics(prompt):\n",
    "    \n",
    "    \n",
    "    \n",
    "    \n",
    "    response = client.chat.completions.create(\n",
    "        model=\"gpt-4-turbo\",\n",
    "        messages=[\n",
    "            {\n",
    "                \"role\": \"system\",\n",
    "                \"content\": \"You are a helpful assistant.\"\n",
    "            },\n",
    "            {\n",
    "                \"role\": \"user\",\n",
    "                \"content\": prompt\n",
    "            }\n",
    "        ],\n",
    "        max_tokens=1500,\n",
    "        temperature=0.5,\n",
    "    )\n",
    "\n",
    "    return response.choices[0].message.content"
   ]
  },
  {
   "cell_type": "code",
   "execution_count": 33,
   "id": "6a5e038d",
   "metadata": {},
   "outputs": [],
   "source": [
    "parsed_output = extract_structure(latex_expression)\n",
    "prompt = (\n",
    "        \"The following is a JSON object with categorized components of a LaTeX expression. \"\n",
    "        \"Please provide detailed semantic meanings for each item in the JSON. The categories are: \"\n",
    "        \"Variables/Constants, Functions, Operators, Brackets, and Misc. \"\n",
    "        \"For each item, provide its name and a detailed description of its meaning.\\n\\n\"\n",
    "        f\"{parsed_output}\\n\\n\"\n",
    "        \"Provide the output in the following JSON format:\"\n",
    "        \"{\"\n",
    "        '  \"Variables/Constants\": ['\n",
    "        '    {\"name\": \"item_name\", \"meaning\": \"item_meaning\"}'\n",
    "        '  ],'\n",
    "        '  \"Functions\": '\n",
    "        '    {\"name\": \"item_name\", \"meaning\": \"item_meaning\"}'\n",
    "        '  ],'\n",
    "        '  \"Operators\": ['\n",
    "        '    {\"name\": \"item_name\", \"meaning\": \"item_meaning\"}'\n",
    "        '  ],'\n",
    "        '  \"Brackets\": ['\n",
    "        '    {\"name\": \"item_name\", \"meaning\": \"item_meaning\"}'\n",
    "        '  ],'\n",
    "        '  \"Misc\": ['\n",
    "        '    {\"name\": \"item_name\", \"meaning\": \"item_meaning\"}'\n",
    "        '  ]'\n",
    "        \"}\"\n",
    "    )"
   ]
  },
  {
   "cell_type": "code",
   "execution_count": 34,
   "id": "510fb7c4",
   "metadata": {},
   "outputs": [
    {
     "name": "stdout",
     "output_type": "stream",
     "text": [
      "Here is the detailed semantic meanings for each item in the provided JSON object:\n",
      "\n",
      "```json\n",
      "{\n",
      "  \"Variables/Constants\": [\n",
      "    {\"name\": \"t\", \"meaning\": \"Typically represents a variable, often used to denote time.\"},\n",
      "    {\"name\": \"0.000\", \"meaning\": \"A constant value, representing zero in a decimal format.\"},\n",
      "    {\"name\": \"0.0361\", \"meaning\": \"A constant value, possibly representing a measurement, parameter, or specific result in decimal format.\"},\n",
      "    {\"name\": \"\\\\omega_t^o\", \"meaning\": \"A variable often used in physics and engineering, representing angular frequency at time 't' with a specific condition denoted by superscript 'o'.\"},\n",
      "    {\"name\": \"U_u\", \"meaning\": \"Represents a variable, possibly a specific measurement or parameter in a given context, such as velocity or energy.\"},\n",
      "    {\"name\": \"Q_{U_{\\\\Omega^o_t}}\", \"meaning\": \"A variable representing a function or quantity 'Q' related to 'U' which is dependent on another variable '\\\\Omega^o_t', indicating a nested or hierarchical parameter dependency.\"},\n",
      "    {\"name\": \"-0.20\", \"meaning\": \"A negative constant, representing a value or coefficient in calculations.\"},\n",
      "    {\"name\": \"0.22\", \"meaning\": \"A positive constant, representing a value or coefficient in calculations.\"},\n",
      "    {\"name\": \"\\\\bar{u_t}\", \"meaning\": \"Represents the average or mean value of the variable 'u' at time 't'.\"}\n",
      "  ],\n",
      "  \"Functions\": [\n",
      "    {\"name\": \"\\\\max\", \"meaning\": \"A mathematical function that returns the maximum value among its arguments.\"}\n",
      "  ],\n",
      "  \"Operators\": [\n",
      "    {\"name\": \"\\\\in\", \"meaning\": \"A mathematical operator denoting membership, e.g., 'x \\\\in S' means 'x is an element of set S'.\"},\n",
      "    {\"name\": \"\\\\rightarrow\", \"meaning\": \"A mathematical symbol used to denote a function mapping or implication between expressions.\"},\n",
      "    {\"name\": \"\\\\geq\", \"meaning\": \"A relational operator meaning 'greater than or equal to'.\"},\n",
      "    {\"name\": \"\\\\cdot\", \"meaning\": \"A multiplication operator, typically used in mathematical expressions to denote scalar or dot product.\"}\n",
      "  ],\n",
      "  \"Brackets\": [\n",
      "    {\"name\": \"[\", \"meaning\": \"A left square bracket, used to denote the start of an interval or array index.\"},\n",
      "    {\"name\": \"(\", \"meaning\": \"A left parenthesis, used to group expressions or denote the start of function arguments.\"},\n",
      "    {\"name\": \")\", \"meaning\": \"A right parenthesis, used to close a grouping of expressions or end function arguments.\"},\n",
      "    {\"name\": \"{\", \"meaning\": \"A left curly brace, used to denote the beginning of a set or to group expressions in a context where precedence needs to be controlled.\"},\n",
      "    {\"name\": \"}\", \"meaning\": \"A right curly brace, used to denote the end of a set or grouping of expressions.\"}\n",
      "  ],\n",
      "  \"Misc\": []\n",
      "}\n",
      "```\n"
     ]
    }
   ],
   "source": [
    "print(extract_semantics(prompt))"
   ]
  },
  {
   "cell_type": "code",
   "execution_count": 135,
   "id": "5ae68879",
   "metadata": {},
   "outputs": [
    {
     "data": {
      "text/plain": [
       "'{\\n  \"Variables/Constants\": [\"t\", \"0.000\", \"0.0361\", \"\\\\omega_t^o\", \"-0.20\", \"0.22\", \"\\\\bar{u_t}\"],\\n  \"Functions\": [\"U_u\", \"Q_{U_{\\\\Omega^o_t}}\", \"\\\\max\"],\\n  \"Operators\": [\"\\\\in\", \"\\\\rightarrow\", \"\\\\geq\", \"\\\\cdot\", \"+\"],\\n  \"Brackets\": [\"[\", \"]\", \"(\", \")\", \"{\", \"}\"],\\n  \"Misc\": []\\n}'"
      ]
     },
     "execution_count": 135,
     "metadata": {},
     "output_type": "execute_result"
    }
   ],
   "source": [
    "output_structure"
   ]
  },
  {
   "cell_type": "code",
   "execution_count": 53,
   "id": "5001e69f",
   "metadata": {},
   "outputs": [
    {
     "name": "stdout",
     "output_type": "stream",
     "text": [
      "{'Brackets': [{'meaning': 'bracket', 'name': '['},\n",
      "              {'meaning': 'bracket', 'name': ']'},\n",
      "              {'meaning': 'bracket', 'name': '('},\n",
      "              {'meaning': 'bracket', 'name': ')'}],\n",
      " 'Functions': [{'meaning': 'function', 'name': 'U_u'},\n",
      "               {'meaning': 'function', 'name': 'max'}],\n",
      " 'Misc': [{'meaning': 'coordinating conjunction, connecting elements of equal '\n",
      "                      'rank',\n",
      "           'name': '&'}],\n",
      " 'Operators': [{'meaning': 'operator', 'name': 'in'},\n",
      "               {'meaning': 'operator', 'name': '->'},\n",
      "               {'meaning': 'operator', 'name': '>='},\n",
      "               {'meaning': 'operator', 'name': '*'},\n",
      "               {'meaning': 'operator', 'name': '+'}],\n",
      " 'Variables/Constants': [{'meaning': 'time', 'name': 't'},\n",
      "                         {'meaning': 'velocity', 'name': 'v'},\n",
      "                         {'meaning': 'numeric', 'name': '0.000'},\n",
      "                         {'meaning': 'numeric', 'name': '0.0361'},\n",
      "                         {'meaning': 'variable', 'name': 'omega_t^o'},\n",
      "                         {'meaning': 'domain', 'name': 'Q_U_Omega_t'},\n",
      "                         {'meaning': 'utility', 'name': 'u_t_bar'},\n",
      "                         {'meaning': 'numeric', 'name': '-0.20'},\n",
      "                         {'meaning': 'numeric', 'name': '0.22'}]}\n"
     ]
    }
   ],
   "source": [
    "import spacy\n",
    "from spacy.matcher import Matcher\n",
    "import re\n",
    "\n",
    "# Load the spaCy language model\n",
    "nlp = spacy.load(\"en_core_web_sm\")\n",
    "\n",
    "# Define the context dictionary for semantic meanings\n",
    "context_dict = {\n",
    "    \"t\": \"time variable\",\n",
    "    \"v\": \"velocity variable\",\n",
    "    \"omega\": \"a variable related to omega, possibly indicating a weighted term\",\n",
    "    \"Q_U_Omega_t\": \"a domain or space indexed by time t, could denote a set of possible outcomes or states\",\n",
    "    \"u_t_bar\": \"an average or threshold utility over time t\",\n",
    "    \"ū_t\": \"an average or threshold utility over time t\",\n",
    "    \"U_u\": \"utility function\",\n",
    "    \"max\": \"maximum function\",\n",
    "    \">=\": \"greater than or equal to operator\",\n",
    "    \">\": \"greater than operator\",\n",
    "    \"<=\": \"less than or equal to operator\",\n",
    "    \"<\": \"less than operator\",\n",
    "    \"->\": \"implies\",\n",
    "    \"+\": \"addition operator\",\n",
    "    \"-\": \"subtraction operator\",\n",
    "    \"*\": \"multiplication operator\",\n",
    "    \"/\": \"division operator\",\n",
    "    \"in\": \"membership operator\"\n",
    "}\n",
    "\n",
    "# Example parsed expression\n",
    "parsed_output = {\n",
    "    \"Variables/Constants\": [\"t\", \"v\", \"0.000\", \"0.0361\", \"omega_t^o\", \"Q_U_Omega_t\", \"u_t_bar\", \"-0.20\", \"0.22\"],\n",
    "    \"Functions\": [\"U_u\", \"max\"],\n",
    "    \"Operators\": [\"in\", \"->\", \">=\", \"*\", \"+\"],\n",
    "    \"Brackets\": [\"[\", \"]\", \"(\", \")\"],\n",
    "    \"Misc\": [\"&\"]\n",
    "}\n",
    "\n",
    "# Initialize the matcher with the shared vocabulary\n",
    "matcher = Matcher(nlp.vocab)\n",
    "\n",
    "# Add patterns to the matcher for variables, functions, operators, and brackets\n",
    "patterns = [\n",
    "    {\"label\": \"TIME\", \"pattern\": [{\"LOWER\": \"t\"}]},\n",
    "    {\"label\": \"VELOCITY\", \"pattern\": [{\"LOWER\": \"v\"}]},\n",
    "    {\"label\": \"OMEGA\", \"pattern\": [{\"LOWER\": \"omega\"}]},\n",
    "    {\"label\": \"DOMAIN\", \"pattern\": [{\"LOWER\": \"q_u_omega_t\"}]},\n",
    "    {\"label\": \"UTILITY\", \"pattern\": [{\"LOWER\": \"u_t_bar\"}]},\n",
    "    {\"label\": \"UTILITY\", \"pattern\": [{\"LOWER\": \"ū_t\"}]},\n",
    "    {\"label\": \"FUNCTION\", \"pattern\": [{\"LOWER\": \"u_u\"}]},\n",
    "    {\"label\": \"FUNCTION\", \"pattern\": [{\"LOWER\": \"max\"}]},\n",
    "    {\"label\": \"NUMERIC\", \"pattern\": [{\"TEXT\": {\"REGEX\": r\"^-?\\d+\\.\\d+$\"}}]},  # Pattern for decimal numbers\n",
    "    {\"label\": \"NUMERIC\", \"pattern\": [{\"IS_DIGIT\": True}]},  # Pattern for integer numbers\n",
    "    {\"label\": \"BRACKET\", \"pattern\": [{\"ORTH\": \"[\"}]},  # Pattern for opening square bracket\n",
    "    {\"label\": \"BRACKET\", \"pattern\": [{\"ORTH\": \"]\"}]},  # Pattern for closing square bracket\n",
    "    {\"label\": \"BRACKET\", \"pattern\": [{\"ORTH\": \"(\"}]},  # Pattern for opening parenthesis\n",
    "    {\"label\": \"BRACKET\", \"pattern\": [{\"ORTH\": \")\"}]},  # Pattern for closing parenthesis\n",
    "    {\"label\": \"OPERATOR\", \"pattern\": [{\"ORTH\": \">=\"}]},\n",
    "    {\"label\": \"OPERATOR\", \"pattern\": [{\"ORTH\": \">\"}]},\n",
    "    {\"label\": \"OPERATOR\", \"pattern\": [{\"ORTH\": \"<=\"}]},\n",
    "    {\"label\": \"OPERATOR\", \"pattern\": [{\"ORTH\": \"<\"}]},\n",
    "    {\"label\": \"OPERATOR\", \"pattern\": [{\"ORTH\": \"+\"}]},\n",
    "    {\"label\": \"OPERATOR\", \"pattern\": [{\"ORTH\": \"-\"}]},\n",
    "    {\"label\": \"OPERATOR\", \"pattern\": [{\"ORTH\": \"*\"}]},\n",
    "    {\"label\": \"OPERATOR\", \"pattern\": [{\"ORTH\": \"/\"}]},\n",
    "    {\"label\": \"OPERATOR\", \"pattern\": [{\"ORTH\": \"->\"}]},\n",
    "    {\"label\": \"OPERATOR\", \"pattern\": [{\"ORTH\": \"in\"}]}\n",
    "]\n",
    "\n",
    "for pattern in patterns:\n",
    "    matcher.add(pattern[\"label\"], [pattern[\"pattern\"]])\n",
    "\n",
    "# Function to identify semantic meaning using spaCy and context\n",
    "def spacy_identify_role(node, context):\n",
    "    doc = nlp(node)\n",
    "    matches = matcher(doc)\n",
    "    \n",
    "    # Check for matches with patterns\n",
    "    for match_id, start, end in matches:\n",
    "        label = nlp.vocab.strings[match_id]\n",
    "        return context.get(label.lower(), label.lower())\n",
    "\n",
    "    # Handle brackets explicitly\n",
    "    if node in [\"[\", \"]\", \"(\", \")\", \"{\", \"}\"]:\n",
    "        return \"bracket\"\n",
    "\n",
    "    # General rules based on part-of-speech tagging and dependency parsing\n",
    "    token = doc[0]\n",
    "    if token.pos_ == 'NUM' or re.match(r\"^-?\\d+\\.\\d+$\", node):\n",
    "        return \"numeric constant\"\n",
    "    elif token.pos_ == 'SYM':\n",
    "        return \"symbol\"\n",
    "    elif token.pos_ == 'NOUN' and node in context:\n",
    "        return context[node]\n",
    "    elif token.pos_ == 'NOUN':\n",
    "        return \"variable\"\n",
    "    elif token.pos_ == 'VERB' or (len(doc) > 1 and doc[1].text == '('):\n",
    "        return \"function\"\n",
    "    elif token.pos_ == 'ADP':\n",
    "        return \"preposition, indicating a relationship between elements\"\n",
    "    elif token.pos_ == 'PUNCT':\n",
    "        return \"punctuation, used for structure and separation\"\n",
    "    elif token.pos_ == 'AUX':\n",
    "        return \"auxiliary, helping to form a tense, mood, or voice\"\n",
    "    elif token.pos_ == 'CCONJ':\n",
    "        return \"coordinating conjunction, connecting elements of equal rank\"\n",
    "    elif token.pos_ == 'SCONJ':\n",
    "        return \"subordinating conjunction, connecting dependent clauses\"\n",
    "    else:\n",
    "        return \"unidentified element\"\n",
    "\n",
    "# Function to extract semantic meaning\n",
    "def extract_semantic_meaning(structure, context):\n",
    "    semantic_rep = {}\n",
    "    for category, items in structure.items():\n",
    "        semantic_rep[category] = []\n",
    "        for node in items:\n",
    "            semantic_tag = spacy_identify_role(node, context)\n",
    "            semantic_rep[category].append({\"name\": node, \"meaning\": semantic_tag})\n",
    "    return semantic_rep\n",
    "\n",
    "# Extract semantic meanings using the defined function and context\n",
    "semantic_explanations = extract_semantic_meaning(parsed_output, context_dict)\n",
    "\n",
    "import pprint\n",
    "pprint.pprint(semantic_explanations)\n"
   ]
  },
  {
   "cell_type": "code",
   "execution_count": 54,
   "id": "eef80066",
   "metadata": {},
   "outputs": [],
   "source": [
    "prompt = f\"\"\"\n",
    "You are an AI model trained to translate mathematical and logical expressions into natural language explanations. Given the semantic output of a mathematical expression, your task is to generate a coherent English explanation. \n",
    "\n",
    "The semantic output will include various categories such as Functions, Operators, Variables/Constants, and more. Use the provided information to create a detailed, understandable explanation in plain English.\n",
    "\n",
    "Here is the semantic output:\n",
    "{semantic_explanations}\n",
    "\n",
    "Generate a natural language explanation for this semantic output, making sure to clarify each element's role in the expression.\n",
    "\n",
    "For example, translate the semantic representation: \n",
    "t in [0.000, 0.0361) -> U_u(omega_t^o) >= max(Q_U_Omega_t (-0.20 * t + 0.22), u_t_bar)\n",
    "\n",
    "into the natural language explanation:  \n",
    "\"At time t, within the range [0.000, 0.0361), the function U_u applied to omega_t^o must yield a value that is greater than or equal to the maximum value between Q_U_Omega_t of (-0.20 * t + 0.22) and the threshold utility u_t_bar.\"\n",
    "\n",
    "Please follow a similar structure and level of detail for the provided semantic output.\n",
    "\"\"\""
   ]
  },
  {
   "cell_type": "markdown",
   "id": "018df925",
   "metadata": {},
   "source": [
    "# Creating Rule based explanations"
   ]
  },
  {
   "cell_type": "code",
   "execution_count": 59,
   "id": "a2ae1525",
   "metadata": {},
   "outputs": [
    {
     "name": "stdout",
     "output_type": "stream",
     "text": [
      "Ensures that the utility function U applied to the maximum of time tvelocity variablethe constant value 0.000 the constant value 0.0361 the variable omega_t^o the domain Q_U_Omega_t a utility threshold u_t_bar the constant value -0.20 the constant value 0.22 is within the range implies that is greater than or equal to multiplied by plus  meets either a calculated statistical value or a specified minimum utility requirement.\n"
     ]
    }
   ],
   "source": [
    "import re\n",
    "\n",
    "def generate_rule_based_explanation(semantic_extractions):\n",
    "    # Start with an empty explanation\n",
    "    explanation = \"Ensures that \"\n",
    "\n",
    "    # Create helper functions to handle specific parts of the explanation\n",
    "    def handle_functions(semantic_extractions):\n",
    "        func_explanation = \"\"\n",
    "        for func in semantic_extractions['Functions']:\n",
    "            if func['name'] == \"U_u\":\n",
    "                func_explanation += \"the utility function U applied to \"\n",
    "            elif func['name'] == \"max\":\n",
    "                func_explanation += \"the maximum of \"\n",
    "        return func_explanation\n",
    "\n",
    "    def handle_variables_constants(semantic_extractions):\n",
    "        var_const_explanation = \"\"\n",
    "        for var in semantic_extractions['Variables/Constants']:\n",
    "            if var['meaning'] == \"time\":\n",
    "                var_const_explanation += \"time t\"\n",
    "            elif var['meaning'] == \"velocity\":\n",
    "                var_const_explanation += \"velocity variable\"\n",
    "            elif var['meaning'] == \"variable\":\n",
    "                var_const_explanation += f\"the variable {var['name']} \"\n",
    "            elif var['meaning'] == \"domain\":\n",
    "                var_const_explanation += f\"the domain {var['name']} \"\n",
    "            elif var['meaning'] == \"utility\":\n",
    "                var_const_explanation += f\"a utility threshold {var['name']} \"\n",
    "            elif var['meaning'] == \"numeric\":\n",
    "                var_const_explanation += f\"the constant value {var['name']} \"\n",
    "        return var_const_explanation\n",
    "\n",
    "    def handle_operators(semantic_extractions):\n",
    "        op_explanation = \"\"\n",
    "        for op in semantic_extractions['Operators']:\n",
    "            if op['name'] == \">=\":\n",
    "                op_explanation += \"is greater than or equal to \"\n",
    "            elif op['name'] == \"->\":\n",
    "                op_explanation += \"implies that \"\n",
    "            elif op['name'] == \"in\":\n",
    "                op_explanation += \"is within the range \"\n",
    "            elif op['name'] == \"*\":\n",
    "                op_explanation += \"multiplied by \"\n",
    "            elif op['name'] == \"+\":\n",
    "                op_explanation += \"plus \"\n",
    "        return op_explanation\n",
    "\n",
    "    # Building the explanation by combining parts\n",
    "    explanation += handle_functions(semantic_extractions)\n",
    "    explanation += handle_variables_constants(semantic_extractions)\n",
    "    explanation += handle_operators(semantic_extractions)\n",
    "\n",
    "    # Add additional context or wrap-up the sentence if necessary\n",
    "    explanation += \" meets either a calculated statistical value or a specified minimum utility requirement.\"\n",
    "\n",
    "    # Return the final explanation\n",
    "    return explanation\n",
    "\n",
    "# Example usage with the provided semantic extraction\n",
    "semantic_extractions = {\n",
    "    'Brackets': [{'meaning': 'bracket', 'name': '['},\n",
    "                 {'meaning': 'bracket', 'name': ']'},\n",
    "                 {'meaning': 'bracket', 'name': '('},\n",
    "                 {'meaning': 'bracket', 'name': ')'}],\n",
    "    'Functions': [{'meaning': 'function', 'name': 'U_u'},\n",
    "                  {'meaning': 'function', 'name': 'max'}],\n",
    "    'Misc': [{'meaning': 'coordinating conjunction, connecting elements of equal rank', 'name': '&'}],\n",
    "    'Operators': [{'meaning': 'operator', 'name': 'in'},\n",
    "                  {'meaning': 'operator', 'name': '->'},\n",
    "                  {'meaning': 'operator', 'name': '>='},\n",
    "                  {'meaning': 'operator', 'name': '*'},\n",
    "                  {'meaning': 'operator', 'name': '+'}],\n",
    "    'Variables/Constants': [{'meaning': 'time', 'name': 't'},\n",
    "                            {'meaning': 'velocity', 'name': 'v'},\n",
    "                            {'meaning': 'numeric', 'name': '0.000'},\n",
    "                            {'meaning': 'numeric', 'name': '0.0361'},\n",
    "                            {'meaning': 'variable', 'name': 'omega_t^o'},\n",
    "                            {'meaning': 'domain', 'name': 'Q_U_Omega_t'},\n",
    "                            {'meaning': 'utility', 'name': 'u_t_bar'},\n",
    "                            {'meaning': 'numeric', 'name': '-0.20'},\n",
    "                            {'meaning': 'numeric', 'name': '0.22'}]\n",
    "}\n",
    "\n",
    "# Generate the rule-based explanation\n",
    "explanation = generate_rule_based_explanation(semantic_extractions)\n",
    "print(explanation)\n"
   ]
  },
  {
   "cell_type": "code",
   "execution_count": 37,
   "id": "9d484a6b",
   "metadata": {},
   "outputs": [],
   "source": [
    "#evaluate each part of the pipeline"
   ]
  },
  {
   "cell_type": "code",
   "execution_count": 38,
   "id": "6c160b72",
   "metadata": {},
   "outputs": [],
   "source": [
    "#add a function to compare spacy and llm for semantic extraction"
   ]
  },
  {
   "cell_type": "code",
   "execution_count": null,
   "id": "d6a29d6c",
   "metadata": {},
   "outputs": [],
   "source": []
  },
  {
   "cell_type": "code",
   "execution_count": null,
   "id": "bd609da7",
   "metadata": {},
   "outputs": [],
   "source": []
  },
  {
   "cell_type": "code",
   "execution_count": null,
   "id": "97001c69",
   "metadata": {},
   "outputs": [],
   "source": []
  }
 ],
 "metadata": {
  "kernelspec": {
   "display_name": "Python 3 (ipykernel)",
   "language": "python",
   "name": "python3"
  },
  "language_info": {
   "codemirror_mode": {
    "name": "ipython",
    "version": 3
   },
   "file_extension": ".py",
   "mimetype": "text/x-python",
   "name": "python",
   "nbconvert_exporter": "python",
   "pygments_lexer": "ipython3",
   "version": "3.10.9"
  }
 },
 "nbformat": 4,
 "nbformat_minor": 5
}
